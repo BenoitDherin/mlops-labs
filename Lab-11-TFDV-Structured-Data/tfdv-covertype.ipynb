{
 "cells": [
  {
   "cell_type": "markdown",
   "metadata": {},
   "source": [
    "# Analyzing data with Tensorflow Data Validation\n",
    "\n",
    "This notebook demonstrates how TensorFlow Data Validation (TFDV) can be used to analyze and validate your data, including generating descriptive statistics, inferring and fine tuning schema, checking for and fixing anomalies, and detecting drift and skew. It's important to understand your dataset's characteristics, including how it might change over time in your production pipeline. It's also important to look for anomalies in your data, and to compare your training, evaluation, and serving datasets to make sure that they're consistent. TFDV is the tool to achieve it.\n",
    "\n",
    "You are going to use a variant of Cover Type dataset. For more information about the dataset refer to [the dataset summary page.](../../datasets/covertype/README.md)"
   ]
  },
  {
   "cell_type": "markdown",
   "metadata": {},
   "source": [
    "## Lab setup\n",
    "### Import packages and check the versions"
   ]
  },
  {
   "cell_type": "code",
   "execution_count": 42,
   "metadata": {},
   "outputs": [
    {
     "name": "stdout",
     "output_type": "stream",
     "text": [
      "TensorFlow version: 2.0.0\n",
      "TensorFlow Data Validation version: 0.15.0\n"
     ]
    }
   ],
   "source": [
    "import os\n",
    "import tempfile\n",
    "import tensorflow as tf\n",
    "import tensorflow_data_validation as tfdv\n",
    "import time\n",
    "\n",
    "from apache_beam.options.pipeline_options import PipelineOptions, GoogleCloudOptions, StandardOptions, SetupOptions, DebugOptions, WorkerOptions\n",
    "from tensorflow_metadata.proto.v0 import schema_pb2\n",
    "\n",
    "print('TensorFlow version: {}'.format(tf.__version__))\n",
    "print('TensorFlow Data Validation version: {}'.format(tfdv.__version__))"
   ]
  },
  {
   "cell_type": "markdown",
   "metadata": {},
   "source": [
    "### Set the locations"
   ]
  },
  {
   "cell_type": "code",
   "execution_count": 44,
   "metadata": {},
   "outputs": [],
   "source": [
    "TRAINING_DATASET='gs://workshop-datasets/covertype/training/covertype_training.csv'\n",
    "TRAINING_DATASET_WITH_MISSING_VALUES='gs://workshop-datasets/covertype/training_missing/covertype_training_missing.csv'\n",
    "EVALUATION_DATASET='gs://workshop-datasets/covertype/evaluation/covertype_evaluation.csv'\n",
    "EVALUATION_DATASET_WITH_ANOMALIES='gs://workshop-datasets/covertype/evaluation_anomalies/covertype_evaluation_anomalies.csv'\n",
    "SERVING_DATASET='gs://workshop-datasets/covertype/serving/covertype_serving.csv'\n",
    "LAB_ROOT_FOLDER='/home/mlops-labs/Lab-11-TFDV/01-Covertype-Dataset'"
   ]
  },
  {
   "cell_type": "markdown",
   "metadata": {},
   "source": [
    "### Configure GCP settings"
   ]
  },
  {
   "cell_type": "code",
   "execution_count": 45,
   "metadata": {},
   "outputs": [],
   "source": [
    "PROJECT_ID = 'jk-mlops-demo'\n",
    "REGION = 'us-central1'\n",
    "STAGING_BUCKET = 'gs://{}-lab11'.format(PROJECT_ID)"
   ]
  },
  {
   "cell_type": "markdown",
   "metadata": {},
   "source": [
    "### Create a GCP staging bucket"
   ]
  },
  {
   "cell_type": "code",
   "execution_count": 46,
   "metadata": {},
   "outputs": [
    {
     "name": "stdout",
     "output_type": "stream",
     "text": [
      "Creating gs://jk-mlops-demo-lab11/...\n",
      "ServiceException: 409 Bucket jk-mlops-demo-lab11 already exists.\n"
     ]
    }
   ],
   "source": [
    "!gsutil mb -p $PROJECT_ID $STAGING_BUCKET "
   ]
  },
  {
   "cell_type": "markdown",
   "metadata": {},
   "source": [
    "## Computing and visualizing descriptive statistics\n",
    "\n",
    " \n",
    "TFDV can compute descriptive statistics that provide a quick overview of the data in terms of the features that are present and the shapes of their value distributions.\n",
    "\n",
    "Internally, TFDV uses Apache Beam's data-parallel processing framework to scale the computation of statistics over large datasets. For applications that wish to integrate deeper with TFDV (e.g., attach statistics generation at the end of a data-generation pipeline), the API also exposes a Beam PTransform for statistics generation.\n",
    "\n",
    "Let's start by using `tfdv.generate_statistics_from_csv` to compute statistics for the training data split.\n",
    "\n",
    "Notice that although your dataset is in Google Cloud Storage you will run you computation locally on the notebook's host, using the Beam DirectRunner. Later in the lab, you will use Cloud Dataflow to calculate statistics on a remote distributed cluster."
   ]
  },
  {
   "cell_type": "code",
   "execution_count": 48,
   "metadata": {},
   "outputs": [],
   "source": [
    "train_stats = tfdv.generate_statistics_from_csv(\n",
    "    data_location=TRAINING_DATASET_WITH_MISSING_VALUES\n",
    ")"
   ]
  },
  {
   "cell_type": "markdown",
   "metadata": {},
   "source": [
    "You can now use `tfdv.visualize_statistics` to create a visualization of your data. `tfdv.visualize_statistics` uses [Facets](https://pair-code.github.io/facets/) that provides succinct, interactive visualizations to aid in understanding and analyzing machine learning datasets."
   ]
  },
  {
   "cell_type": "code",
   "execution_count": 49,
   "metadata": {},
   "outputs": [
    {
     "data": {
      "text/html": [
       "<iframe id='facets-iframe' width=\"100%\" height=\"500px\"></iframe>\n",
       "        <script>\n",
       "        facets_iframe = document.getElementById('facets-iframe');\n",
       "        facets_html = '<link rel=\"import\" href=\"https://raw.githubusercontent.com/PAIR-code/facets/master/facets-dist/facets-jupyter.html\"><facets-overview proto-input=\"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\"></facets-overview>';\n",
       "        facets_iframe.srcdoc = facets_html;\n",
       "         facets_iframe.id = \"\";\n",
       "         setTimeout(() => {\n",
       "           facets_iframe.setAttribute('height', facets_iframe.contentWindow.document.body.offsetHeight + 'px')\n",
       "         }, 1500)\n",
       "         </script>"
      ],
      "text/plain": [
       "<IPython.core.display.HTML object>"
      ]
     },
     "metadata": {},
     "output_type": "display_data"
    }
   ],
   "source": [
    "tfdv.visualize_statistics(train_stats)"
   ]
  },
  {
   "cell_type": "markdown",
   "metadata": {},
   "source": [
    "The interactive widget you see is **Facets Overview**. \n",
    "- Numeric features and categorical features are visualized separately, including charts showing the distributions for each feature.\n",
    "- Features with missing or zero values display a percentage in red as a visual indicator that there may be issues with examples in those features. The percentage is the percentage of examples that have missing or zero values for that feature.\n",
    "- Try clicking \"expand\" above the charts to change the display\n",
    "- Try hovering over bars in the charts to display bucket ranges and counts\n",
    "- Try switching between the log and linear scales\n",
    "- Try selecting \"quantiles\" from the \"Chart to show\" menu, and hover over the markers to show the quantile percentages"
   ]
  },
  {
   "cell_type": "markdown",
   "metadata": {},
   "source": [
    "## Infering Schema\n",
    "Now let's use `tfdv.infer_schema` to create a schema for the data. A schema defines constraints for the data that are relevant for ML. Example constraints include the data type of each feature, whether it's numerical or categorical, or the frequency of its presence in the data. For categorical features the schema also defines the domain - the list of acceptable values. Since writing a schema can be a tedious task, especially for datasets with lots of features, TFDV provides a method to generate an initial version of the schema based on the descriptive statistics."
   ]
  },
  {
   "cell_type": "code",
   "execution_count": 50,
   "metadata": {},
   "outputs": [
    {
     "data": {
      "text/html": [
       "<div>\n",
       "<style scoped>\n",
       "    .dataframe tbody tr th:only-of-type {\n",
       "        vertical-align: middle;\n",
       "    }\n",
       "\n",
       "    .dataframe tbody tr th {\n",
       "        vertical-align: top;\n",
       "    }\n",
       "\n",
       "    .dataframe thead th {\n",
       "        text-align: right;\n",
       "    }\n",
       "</style>\n",
       "<table border=\"1\" class=\"dataframe\">\n",
       "  <thead>\n",
       "    <tr style=\"text-align: right;\">\n",
       "      <th></th>\n",
       "      <th>Type</th>\n",
       "      <th>Presence</th>\n",
       "      <th>Valency</th>\n",
       "      <th>Domain</th>\n",
       "    </tr>\n",
       "    <tr>\n",
       "      <th>Feature name</th>\n",
       "      <th></th>\n",
       "      <th></th>\n",
       "      <th></th>\n",
       "      <th></th>\n",
       "    </tr>\n",
       "  </thead>\n",
       "  <tbody>\n",
       "    <tr>\n",
       "      <th>'Wilderness_Area'</th>\n",
       "      <td>STRING</td>\n",
       "      <td>required</td>\n",
       "      <td></td>\n",
       "      <td>'Wilderness_Area'</td>\n",
       "    </tr>\n",
       "    <tr>\n",
       "      <th>'Aspect'</th>\n",
       "      <td>INT</td>\n",
       "      <td>required</td>\n",
       "      <td></td>\n",
       "      <td>-</td>\n",
       "    </tr>\n",
       "    <tr>\n",
       "      <th>'Cover_Type'</th>\n",
       "      <td>INT</td>\n",
       "      <td>required</td>\n",
       "      <td></td>\n",
       "      <td>-</td>\n",
       "    </tr>\n",
       "    <tr>\n",
       "      <th>'Elevation'</th>\n",
       "      <td>INT</td>\n",
       "      <td>required</td>\n",
       "      <td></td>\n",
       "      <td>-</td>\n",
       "    </tr>\n",
       "    <tr>\n",
       "      <th>'Hillshade_3pm'</th>\n",
       "      <td>INT</td>\n",
       "      <td>required</td>\n",
       "      <td></td>\n",
       "      <td>-</td>\n",
       "    </tr>\n",
       "    <tr>\n",
       "      <th>'Hillshade_9am'</th>\n",
       "      <td>INT</td>\n",
       "      <td>required</td>\n",
       "      <td></td>\n",
       "      <td>-</td>\n",
       "    </tr>\n",
       "    <tr>\n",
       "      <th>'Hillshade_Noon'</th>\n",
       "      <td>INT</td>\n",
       "      <td>required</td>\n",
       "      <td></td>\n",
       "      <td>-</td>\n",
       "    </tr>\n",
       "    <tr>\n",
       "      <th>'Horizontal_Distance_To_Fire_Points'</th>\n",
       "      <td>INT</td>\n",
       "      <td>required</td>\n",
       "      <td></td>\n",
       "      <td>-</td>\n",
       "    </tr>\n",
       "    <tr>\n",
       "      <th>'Horizontal_Distance_To_Hydrology'</th>\n",
       "      <td>FLOAT</td>\n",
       "      <td>optional</td>\n",
       "      <td>single</td>\n",
       "      <td>-</td>\n",
       "    </tr>\n",
       "    <tr>\n",
       "      <th>'Horizontal_Distance_To_Roadways'</th>\n",
       "      <td>INT</td>\n",
       "      <td>required</td>\n",
       "      <td></td>\n",
       "      <td>-</td>\n",
       "    </tr>\n",
       "    <tr>\n",
       "      <th>'Slope'</th>\n",
       "      <td>INT</td>\n",
       "      <td>required</td>\n",
       "      <td></td>\n",
       "      <td>-</td>\n",
       "    </tr>\n",
       "    <tr>\n",
       "      <th>'Soil_Type'</th>\n",
       "      <td>INT</td>\n",
       "      <td>required</td>\n",
       "      <td></td>\n",
       "      <td>-</td>\n",
       "    </tr>\n",
       "    <tr>\n",
       "      <th>'Vertical_Distance_To_Hydrology'</th>\n",
       "      <td>INT</td>\n",
       "      <td>required</td>\n",
       "      <td></td>\n",
       "      <td>-</td>\n",
       "    </tr>\n",
       "  </tbody>\n",
       "</table>\n",
       "</div>"
      ],
      "text/plain": [
       "                                        Type  Presence Valency  \\\n",
       "Feature name                                                     \n",
       "'Wilderness_Area'                     STRING  required           \n",
       "'Aspect'                              INT     required           \n",
       "'Cover_Type'                          INT     required           \n",
       "'Elevation'                           INT     required           \n",
       "'Hillshade_3pm'                       INT     required           \n",
       "'Hillshade_9am'                       INT     required           \n",
       "'Hillshade_Noon'                      INT     required           \n",
       "'Horizontal_Distance_To_Fire_Points'  INT     required           \n",
       "'Horizontal_Distance_To_Hydrology'    FLOAT   optional  single   \n",
       "'Horizontal_Distance_To_Roadways'     INT     required           \n",
       "'Slope'                               INT     required           \n",
       "'Soil_Type'                           INT     required           \n",
       "'Vertical_Distance_To_Hydrology'      INT     required           \n",
       "\n",
       "                                                 Domain  \n",
       "Feature name                                             \n",
       "'Wilderness_Area'                     'Wilderness_Area'  \n",
       "'Aspect'                              -                  \n",
       "'Cover_Type'                          -                  \n",
       "'Elevation'                           -                  \n",
       "'Hillshade_3pm'                       -                  \n",
       "'Hillshade_9am'                       -                  \n",
       "'Hillshade_Noon'                      -                  \n",
       "'Horizontal_Distance_To_Fire_Points'  -                  \n",
       "'Horizontal_Distance_To_Hydrology'    -                  \n",
       "'Horizontal_Distance_To_Roadways'     -                  \n",
       "'Slope'                               -                  \n",
       "'Soil_Type'                           -                  \n",
       "'Vertical_Distance_To_Hydrology'      -                  "
      ]
     },
     "metadata": {},
     "output_type": "display_data"
    },
    {
     "data": {
      "text/html": [
       "<div>\n",
       "<style scoped>\n",
       "    .dataframe tbody tr th:only-of-type {\n",
       "        vertical-align: middle;\n",
       "    }\n",
       "\n",
       "    .dataframe tbody tr th {\n",
       "        vertical-align: top;\n",
       "    }\n",
       "\n",
       "    .dataframe thead th {\n",
       "        text-align: right;\n",
       "    }\n",
       "</style>\n",
       "<table border=\"1\" class=\"dataframe\">\n",
       "  <thead>\n",
       "    <tr style=\"text-align: right;\">\n",
       "      <th></th>\n",
       "      <th>Values</th>\n",
       "    </tr>\n",
       "    <tr>\n",
       "      <th>Domain</th>\n",
       "      <th></th>\n",
       "    </tr>\n",
       "  </thead>\n",
       "  <tbody>\n",
       "    <tr>\n",
       "      <th>'Wilderness_Area'</th>\n",
       "      <td>'Cache', 'Commanche', 'Neota', 'Rawah'</td>\n",
       "    </tr>\n",
       "  </tbody>\n",
       "</table>\n",
       "</div>"
      ],
      "text/plain": [
       "                                                   Values\n",
       "Domain                                                   \n",
       "'Wilderness_Area'  'Cache', 'Commanche', 'Neota', 'Rawah'"
      ]
     },
     "metadata": {},
     "output_type": "display_data"
    }
   ],
   "source": [
    "schema = tfdv.infer_schema(train_stats)\n",
    "tfdv.display_schema(schema=schema)"
   ]
  },
  {
   "cell_type": "markdown",
   "metadata": {},
   "source": [
    "Notice that `tfdv.infer_schema` did not infer all features properly. Although, both `Soil_Type` and `Cover_Type` are `INT` type, they should be interpreted as categorical rather than numeric. You can use `tfdv` functions to manually fine tune the schema."
   ]
  },
  {
   "cell_type": "code",
   "execution_count": 51,
   "metadata": {},
   "outputs": [],
   "source": [
    "soil_type_domain = [\n",
    "\"2702\", \"2703\", \"2704\", \"2705\", \"2706\", \"2717\", \"3501\", \"3502\", \"4201\", \"4703\", \"4704\", \"4744\", \"4758\", \"5101\", \n",
    "\"5151\", \"6101\", \"6102\", \"6731\", \"7101\", \"7102\", \"7103\", \"7201\", \"7202\", \"7700\", \"7701\", \"7702\", \"7709\", \"7710\", \n",
    "\"7745\", \"7746\", \"7755\", \"7756\", \"7757\", \"7790\", \"8703\", \"8707\", \"8708\", \"8771\", \"8772\", \"8776\",\n",
    "]\n",
    "\n",
    "tfdv.get_feature(schema, 'Soil_Type').type = schema_pb2.FeatureType.BYTES\n",
    "tfdv.set_domain(schema, 'Soil_Type', schema_pb2.StringDomain(name='Soil_Type', value=soil_type_domain))\n",
    "\n",
    "tfdv.set_domain(schema, 'Cover_Type', schema_pb2.IntDomain(name='Cover_Type', min=1, max=7, is_categorical=True))"
   ]
  },
  {
   "cell_type": "code",
   "execution_count": 52,
   "metadata": {},
   "outputs": [
    {
     "data": {
      "text/html": [
       "<div>\n",
       "<style scoped>\n",
       "    .dataframe tbody tr th:only-of-type {\n",
       "        vertical-align: middle;\n",
       "    }\n",
       "\n",
       "    .dataframe tbody tr th {\n",
       "        vertical-align: top;\n",
       "    }\n",
       "\n",
       "    .dataframe thead th {\n",
       "        text-align: right;\n",
       "    }\n",
       "</style>\n",
       "<table border=\"1\" class=\"dataframe\">\n",
       "  <thead>\n",
       "    <tr style=\"text-align: right;\">\n",
       "      <th></th>\n",
       "      <th>Type</th>\n",
       "      <th>Presence</th>\n",
       "      <th>Valency</th>\n",
       "      <th>Domain</th>\n",
       "    </tr>\n",
       "    <tr>\n",
       "      <th>Feature name</th>\n",
       "      <th></th>\n",
       "      <th></th>\n",
       "      <th></th>\n",
       "      <th></th>\n",
       "    </tr>\n",
       "  </thead>\n",
       "  <tbody>\n",
       "    <tr>\n",
       "      <th>'Wilderness_Area'</th>\n",
       "      <td>STRING</td>\n",
       "      <td>required</td>\n",
       "      <td></td>\n",
       "      <td>'Wilderness_Area'</td>\n",
       "    </tr>\n",
       "    <tr>\n",
       "      <th>'Aspect'</th>\n",
       "      <td>INT</td>\n",
       "      <td>required</td>\n",
       "      <td></td>\n",
       "      <td>-</td>\n",
       "    </tr>\n",
       "    <tr>\n",
       "      <th>'Cover_Type'</th>\n",
       "      <td>INT</td>\n",
       "      <td>required</td>\n",
       "      <td></td>\n",
       "      <td>[1,7]</td>\n",
       "    </tr>\n",
       "    <tr>\n",
       "      <th>'Elevation'</th>\n",
       "      <td>INT</td>\n",
       "      <td>required</td>\n",
       "      <td></td>\n",
       "      <td>-</td>\n",
       "    </tr>\n",
       "    <tr>\n",
       "      <th>'Hillshade_3pm'</th>\n",
       "      <td>INT</td>\n",
       "      <td>required</td>\n",
       "      <td></td>\n",
       "      <td>-</td>\n",
       "    </tr>\n",
       "    <tr>\n",
       "      <th>'Hillshade_9am'</th>\n",
       "      <td>INT</td>\n",
       "      <td>required</td>\n",
       "      <td></td>\n",
       "      <td>-</td>\n",
       "    </tr>\n",
       "    <tr>\n",
       "      <th>'Hillshade_Noon'</th>\n",
       "      <td>INT</td>\n",
       "      <td>required</td>\n",
       "      <td></td>\n",
       "      <td>-</td>\n",
       "    </tr>\n",
       "    <tr>\n",
       "      <th>'Horizontal_Distance_To_Fire_Points'</th>\n",
       "      <td>INT</td>\n",
       "      <td>required</td>\n",
       "      <td></td>\n",
       "      <td>-</td>\n",
       "    </tr>\n",
       "    <tr>\n",
       "      <th>'Horizontal_Distance_To_Hydrology'</th>\n",
       "      <td>FLOAT</td>\n",
       "      <td>optional</td>\n",
       "      <td>single</td>\n",
       "      <td>-</td>\n",
       "    </tr>\n",
       "    <tr>\n",
       "      <th>'Horizontal_Distance_To_Roadways'</th>\n",
       "      <td>INT</td>\n",
       "      <td>required</td>\n",
       "      <td></td>\n",
       "      <td>-</td>\n",
       "    </tr>\n",
       "    <tr>\n",
       "      <th>'Slope'</th>\n",
       "      <td>INT</td>\n",
       "      <td>required</td>\n",
       "      <td></td>\n",
       "      <td>-</td>\n",
       "    </tr>\n",
       "    <tr>\n",
       "      <th>'Soil_Type'</th>\n",
       "      <td>STRING</td>\n",
       "      <td>required</td>\n",
       "      <td></td>\n",
       "      <td>'Soil_Type'</td>\n",
       "    </tr>\n",
       "    <tr>\n",
       "      <th>'Vertical_Distance_To_Hydrology'</th>\n",
       "      <td>INT</td>\n",
       "      <td>required</td>\n",
       "      <td></td>\n",
       "      <td>-</td>\n",
       "    </tr>\n",
       "  </tbody>\n",
       "</table>\n",
       "</div>"
      ],
      "text/plain": [
       "                                        Type  Presence Valency  \\\n",
       "Feature name                                                     \n",
       "'Wilderness_Area'                     STRING  required           \n",
       "'Aspect'                              INT     required           \n",
       "'Cover_Type'                          INT     required           \n",
       "'Elevation'                           INT     required           \n",
       "'Hillshade_3pm'                       INT     required           \n",
       "'Hillshade_9am'                       INT     required           \n",
       "'Hillshade_Noon'                      INT     required           \n",
       "'Horizontal_Distance_To_Fire_Points'  INT     required           \n",
       "'Horizontal_Distance_To_Hydrology'    FLOAT   optional  single   \n",
       "'Horizontal_Distance_To_Roadways'     INT     required           \n",
       "'Slope'                               INT     required           \n",
       "'Soil_Type'                           STRING  required           \n",
       "'Vertical_Distance_To_Hydrology'      INT     required           \n",
       "\n",
       "                                                 Domain  \n",
       "Feature name                                             \n",
       "'Wilderness_Area'                     'Wilderness_Area'  \n",
       "'Aspect'                              -                  \n",
       "'Cover_Type'                          [1,7]              \n",
       "'Elevation'                           -                  \n",
       "'Hillshade_3pm'                       -                  \n",
       "'Hillshade_9am'                       -                  \n",
       "'Hillshade_Noon'                      -                  \n",
       "'Horizontal_Distance_To_Fire_Points'  -                  \n",
       "'Horizontal_Distance_To_Hydrology'    -                  \n",
       "'Horizontal_Distance_To_Roadways'     -                  \n",
       "'Slope'                               -                  \n",
       "'Soil_Type'                           'Soil_Type'        \n",
       "'Vertical_Distance_To_Hydrology'      -                  "
      ]
     },
     "metadata": {},
     "output_type": "display_data"
    },
    {
     "data": {
      "text/html": [
       "<div>\n",
       "<style scoped>\n",
       "    .dataframe tbody tr th:only-of-type {\n",
       "        vertical-align: middle;\n",
       "    }\n",
       "\n",
       "    .dataframe tbody tr th {\n",
       "        vertical-align: top;\n",
       "    }\n",
       "\n",
       "    .dataframe thead th {\n",
       "        text-align: right;\n",
       "    }\n",
       "</style>\n",
       "<table border=\"1\" class=\"dataframe\">\n",
       "  <thead>\n",
       "    <tr style=\"text-align: right;\">\n",
       "      <th></th>\n",
       "      <th>Values</th>\n",
       "    </tr>\n",
       "    <tr>\n",
       "      <th>Domain</th>\n",
       "      <th></th>\n",
       "    </tr>\n",
       "  </thead>\n",
       "  <tbody>\n",
       "    <tr>\n",
       "      <th>'Wilderness_Area'</th>\n",
       "      <td>'Cache', 'Commanche', 'Neota', 'Rawah'</td>\n",
       "    </tr>\n",
       "    <tr>\n",
       "      <th>'Soil_Type'</th>\n",
       "      <td>'2702', '2703', '2704', '2705', '2706', '2717', '3501', '3502', '4201', '4703', '4704', '4744', '4758', '5101', '5151', '6101', '6102', '6731', '7101', '7102', '7103', '7201', '7202', '7700', '7701', '7702', '7709', '7710', '7745', '7746', '7755', '7756', '7757', '7790', '8703', '8707', '8708', '8771', '8772', '8776'</td>\n",
       "    </tr>\n",
       "  </tbody>\n",
       "</table>\n",
       "</div>"
      ],
      "text/plain": [
       "                                                                                                                                                                                                                                                                                                                                           Values\n",
       "Domain                                                                                                                                                                                                                                                                                                                                           \n",
       "'Wilderness_Area'  'Cache', 'Commanche', 'Neota', 'Rawah'                                                                                                                                                                                                                                                                                        \n",
       "'Soil_Type'        '2702', '2703', '2704', '2705', '2706', '2717', '3501', '3502', '4201', '4703', '4704', '4744', '4758', '5101', '5151', '6101', '6102', '6731', '7101', '7102', '7103', '7201', '7202', '7700', '7701', '7702', '7709', '7710', '7745', '7746', '7755', '7756', '7757', '7790', '8703', '8707', '8708', '8771', '8772', '8776'"
      ]
     },
     "metadata": {},
     "output_type": "display_data"
    }
   ],
   "source": [
    "tfdv.display_schema(schema=schema)"
   ]
  },
  {
   "cell_type": "code",
   "execution_count": 56,
   "metadata": {},
   "outputs": [
    {
     "data": {
      "text/html": [
       "<iframe id='facets-iframe' width=\"100%\" height=\"500px\"></iframe>\n",
       "        <script>\n",
       "        facets_iframe = document.getElementById('facets-iframe');\n",
       "        facets_html = '<link rel=\"import\" href=\"https://raw.githubusercontent.com/PAIR-code/facets/master/facets-dist/facets-jupyter.html\"><facets-overview proto-input=\"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\"></facets-overview>';\n",
       "        facets_iframe.srcdoc = facets_html;\n",
       "         facets_iframe.id = \"\";\n",
       "         setTimeout(() => {\n",
       "           facets_iframe.setAttribute('height', facets_iframe.contentWindow.document.body.offsetHeight + 'px')\n",
       "         }, 1500)\n",
       "         </script>"
      ],
      "text/plain": [
       "<IPython.core.display.HTML object>"
      ]
     },
     "metadata": {},
     "output_type": "display_data"
    }
   ],
   "source": [
    "stats_options = tfdv.StatsOptions(schema=schema, infer_type_from_schema=True)\n",
    "\n",
    "train_stats = tfdv.generate_statistics_from_csv(\n",
    "    data_location=TRAINING_DATASET_WITH_MISSING_VALUES,\n",
    "    stats_options=stats_options,\n",
    ")\n",
    "\n",
    "tfdv.visualize_statistics(train_stats)"
   ]
  },
  {
   "cell_type": "markdown",
   "metadata": {},
   "source": [
    "## Creating statistics using Cloud Dataflow\n",
    "\n",
    "Previously, you created descriptive statistics using local compute. This may work for smaller datasets. But for large datasets you may not have enough local compute power. The `tfdv.generate_statistics_*` functions can utilize `DataflowRunner` to run Beam processing on a distributed Dataflow cluster.\n",
    "\n",
    "To run TFDV on Google Cloud Dataflow, the TFDV library must be must be installed on the Dataflow workers. There are different ways to install additional packages on Dataflow. You are going to use the Python `setup.py` file approach.\n",
    "\n",
    "You also configure `tfdv.generate_statistics_from_csv` to use the schema created in the previous steps."
   ]
  },
  {
   "cell_type": "markdown",
   "metadata": {},
   "source": [
    "### Configure Dataflow settings"
   ]
  },
  {
   "cell_type": "code",
   "execution_count": 53,
   "metadata": {},
   "outputs": [
    {
     "name": "stdout",
     "output_type": "stream",
     "text": [
      "Overwriting setup.py\n"
     ]
    }
   ],
   "source": [
    "%%writefile setup.py\n",
    "\n",
    "from setuptools import setup\n",
    "\n",
    "setup(\n",
    "    name='tfdv',\n",
    "    description='TFDV Runtime.',\n",
    "    version='0.1',\n",
    "    install_requires=[\n",
    "      'tensorflow_data_validation==0.15.0'\n",
    "    ]\n",
    ")"
   ]
  },
  {
   "cell_type": "markdown",
   "metadata": {},
   "source": [
    "### Regenerate statistics"
   ]
  },
  {
   "cell_type": "code",
   "execution_count": 54,
   "metadata": {},
   "outputs": [
    {
     "name": "stderr",
     "output_type": "stream",
     "text": [
      "WARNING:root:Discarding unparseable args: ['-f', '/root/.local/share/jupyter/runtime/kernel-7f1ae176-b6ce-477a-847c-b49effa72411.json']\n",
      "WARNING:root:Discarding unparseable args: ['-f', '/root/.local/share/jupyter/runtime/kernel-7f1ae176-b6ce-477a-847c-b49effa72411.json']\n"
     ]
    }
   ],
   "source": [
    "options = PipelineOptions()\n",
    "options.view_as(GoogleCloudOptions).project = PROJECT_ID\n",
    "options.view_as(GoogleCloudOptions).region = REGION\n",
    "options.view_as(GoogleCloudOptions).job_name = \"tfdv-{}\".format(time.strftime(\"%Y%m%d-%H%M%S\"))\n",
    "options.view_as(GoogleCloudOptions).staging_location = STAGING_BUCKET + '/staging/'\n",
    "options.view_as(GoogleCloudOptions).temp_location = STAGING_BUCKET + '/tmp/'\n",
    "options.view_as(StandardOptions).runner = 'DataflowRunner'\n",
    "options.view_as(SetupOptions).setup_file = os.path.join(LAB_ROOT_FOLDER, 'setup.py')\n",
    "\n",
    "stats_options = tfdv.StatsOptions(schema=schema, infer_type_from_schema=True)\n",
    "\n",
    "train_stats = tfdv.generate_statistics_from_csv(\n",
    "    data_location=TRAINING_DATASET_WITH_MISSING_VALUES,\n",
    "    stats_options=stats_options,\n",
    "    pipeline_options=options,\n",
    "    output_path=STAGING_BUCKET + '/output/'\n",
    ")"
   ]
  },
  {
   "cell_type": "code",
   "execution_count": 55,
   "metadata": {},
   "outputs": [
    {
     "data": {
      "text/html": [
       "<iframe id='facets-iframe' width=\"100%\" height=\"500px\"></iframe>\n",
       "        <script>\n",
       "        facets_iframe = document.getElementById('facets-iframe');\n",
       "        facets_html = '<link rel=\"import\" href=\"https://raw.githubusercontent.com/PAIR-code/facets/master/facets-dist/facets-jupyter.html\"><facets-overview proto-input=\"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\"></facets-overview>';\n",
       "        facets_iframe.srcdoc = facets_html;\n",
       "         facets_iframe.id = \"\";\n",
       "         setTimeout(() => {\n",
       "           facets_iframe.setAttribute('height', facets_iframe.contentWindow.document.body.offsetHeight + 'px')\n",
       "         }, 1500)\n",
       "         </script>"
      ],
      "text/plain": [
       "<IPython.core.display.HTML object>"
      ]
     },
     "metadata": {},
     "output_type": "display_data"
    }
   ],
   "source": [
    "tfdv.visualize_statistics(train_stats)"
   ]
  },
  {
   "cell_type": "markdown",
   "metadata": {},
   "source": [
    "## Analyzing evaluation data\n",
    "\n",
    "So far we've only been looking at the training data. It's important that our evaluation data is consistent with our training data, including that it uses the same schema. It's also important that the evaluation data includes examples of roughly the same ranges of values for our numerical features as our training data, so that our coverage of the loss surface during evaluation is roughly the same as during training. The same is true for categorical features. Otherwise, we may have training issues that are not identified during evaluation, because we didn't evaluate part of our loss surface.\n",
    "\n",
    "You will now generate statistics for the evaluation split and visualize both training and evaluation splits on the same chart:\n",
    "\n",
    "- The training and evaluation datasets overlay, making it easy to compare them.\n",
    "- The charts now include a percentages view, which can be combined with log or the default linear scales.\n",
    "- Notice that some features are significantly different for the training versus the evaluation datasets, in particular check the mean and median. Will that cause problems?\n",
    "- Click expand on the Numeric Features chart, and select the log scale. Review the n_hrefs feature, and notice the difference in the max. Will evaluation miss parts of the loss surface?"
   ]
  },
  {
   "cell_type": "code",
   "execution_count": null,
   "metadata": {},
   "outputs": [],
   "source": [
    "soil_type_domain = [\n",
    "\"2702\", \"2703\", \"2704\", \"2705\", \"2706\", \"2717\", \"3501\", \"3502\", \"4201\", \"4703\", \"4704\", \"4744\", \"4758\", \"5101\", \n",
    "\"5151\", \"6101\", \"6102\", \"6731\", \"7101\", \"7102\", \"7103\", \"7201\", \"7202\", \"7700\", \"7701\", \"7702\", \"7709\", \"7710\", \n",
    "\"7745\", \"7746\", \"7755\", \"7756\", \"7757\", \"7790\", \"8703\", \"8707\", \"8708\", \"8771\", \"8772\", \"8776\",\n",
    "]\n",
    "\n",
    "tfdv.get_feature(schema, 'Soil_Type').type = schema_pb2.FeatureType.BYTES\n",
    "tfdv.set_domain(schema, 'Soil_Type', schema_pb2.StringDomain(name='Soil_Type', value=soil_type_domain))\n",
    "\n",
    "tfdv.set_domain(schema, 'Cover_Type', schema_pb2.IntDomain(name='Cover_Type', min=1, max=7, is_categorical=True))"
   ]
  },
  {
   "cell_type": "code",
   "execution_count": 25,
   "metadata": {},
   "outputs": [],
   "source": [
    "stats_options = tfdv.StatsOptions(schema=eval_schema, infer_type_from_schema=True)\n",
    "\n",
    "eval_stats = tfdv.generate_statistics_from_csv(\n",
    "    data_location=EVALUATION_DATASET_WITH_ANOMALIES,\n",
    "    stats_options=stats_options\n",
    ")"
   ]
  },
  {
   "cell_type": "code",
   "execution_count": 26,
   "metadata": {},
   "outputs": [
    {
     "data": {
      "text/html": [
       "<iframe id='facets-iframe' width=\"100%\" height=\"500px\"></iframe>\n",
       "        <script>\n",
       "        facets_iframe = document.getElementById('facets-iframe');\n",
       "        facets_html = '<link rel=\"import\" href=\"https://raw.githubusercontent.com/PAIR-code/facets/master/facets-dist/facets-jupyter.html\"><facets-overview proto-input=\"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\"></facets-overview>';\n",
       "        facets_iframe.srcdoc = facets_html;\n",
       "         facets_iframe.id = \"\";\n",
       "         setTimeout(() => {\n",
       "           facets_iframe.setAttribute('height', facets_iframe.contentWindow.document.body.offsetHeight + 'px')\n",
       "         }, 1500)\n",
       "         </script>"
      ],
      "text/plain": [
       "<IPython.core.display.HTML object>"
      ]
     },
     "metadata": {},
     "output_type": "display_data"
    }
   ],
   "source": [
    "tfdv.visualize_statistics(eval_stats)"
   ]
  },
  {
   "cell_type": "markdown",
   "metadata": {},
   "source": [
    "### Checking for anomalies"
   ]
  },
  {
   "cell_type": "code",
   "execution_count": null,
   "metadata": {},
   "outputs": [],
   "source": []
  },
  {
   "cell_type": "code",
   "execution_count": 24,
   "metadata": {},
   "outputs": [
    {
     "data": {
      "text/html": [
       "<div>\n",
       "<style scoped>\n",
       "    .dataframe tbody tr th:only-of-type {\n",
       "        vertical-align: middle;\n",
       "    }\n",
       "\n",
       "    .dataframe tbody tr th {\n",
       "        vertical-align: top;\n",
       "    }\n",
       "\n",
       "    .dataframe thead th {\n",
       "        text-align: right;\n",
       "    }\n",
       "</style>\n",
       "<table border=\"1\" class=\"dataframe\">\n",
       "  <thead>\n",
       "    <tr style=\"text-align: right;\">\n",
       "      <th></th>\n",
       "      <th>Type</th>\n",
       "      <th>Presence</th>\n",
       "      <th>Valency</th>\n",
       "      <th>Domain</th>\n",
       "    </tr>\n",
       "    <tr>\n",
       "      <th>Feature name</th>\n",
       "      <th></th>\n",
       "      <th></th>\n",
       "      <th></th>\n",
       "      <th></th>\n",
       "    </tr>\n",
       "  </thead>\n",
       "  <tbody>\n",
       "    <tr>\n",
       "      <th>'Aspect'</th>\n",
       "      <td>INT</td>\n",
       "      <td>required</td>\n",
       "      <td></td>\n",
       "      <td>-</td>\n",
       "    </tr>\n",
       "    <tr>\n",
       "      <th>'Cover_Type'</th>\n",
       "      <td>INT</td>\n",
       "      <td>required</td>\n",
       "      <td></td>\n",
       "      <td>-</td>\n",
       "    </tr>\n",
       "    <tr>\n",
       "      <th>'Elevation'</th>\n",
       "      <td>INT</td>\n",
       "      <td>required</td>\n",
       "      <td></td>\n",
       "      <td>-</td>\n",
       "    </tr>\n",
       "    <tr>\n",
       "      <th>'Hillshade_3pm'</th>\n",
       "      <td>INT</td>\n",
       "      <td>required</td>\n",
       "      <td></td>\n",
       "      <td>-</td>\n",
       "    </tr>\n",
       "    <tr>\n",
       "      <th>'Hillshade_9am'</th>\n",
       "      <td>INT</td>\n",
       "      <td>required</td>\n",
       "      <td></td>\n",
       "      <td>-</td>\n",
       "    </tr>\n",
       "    <tr>\n",
       "      <th>'Hillshade_Noon'</th>\n",
       "      <td>INT</td>\n",
       "      <td>required</td>\n",
       "      <td></td>\n",
       "      <td>-</td>\n",
       "    </tr>\n",
       "    <tr>\n",
       "      <th>'Horizontal_Distance_To_Fire_Points'</th>\n",
       "      <td>INT</td>\n",
       "      <td>required</td>\n",
       "      <td></td>\n",
       "      <td>-</td>\n",
       "    </tr>\n",
       "    <tr>\n",
       "      <th>'Horizontal_Distance_To_Hydrology'</th>\n",
       "      <td>INT</td>\n",
       "      <td>required</td>\n",
       "      <td></td>\n",
       "      <td>-</td>\n",
       "    </tr>\n",
       "    <tr>\n",
       "      <th>'Horizontal_Distance_To_Roadways'</th>\n",
       "      <td>INT</td>\n",
       "      <td>required</td>\n",
       "      <td></td>\n",
       "      <td>-</td>\n",
       "    </tr>\n",
       "    <tr>\n",
       "      <th>'Slope'</th>\n",
       "      <td>INT</td>\n",
       "      <td>required</td>\n",
       "      <td></td>\n",
       "      <td>-</td>\n",
       "    </tr>\n",
       "    <tr>\n",
       "      <th>'Soil_Type'</th>\n",
       "      <td>INT</td>\n",
       "      <td>required</td>\n",
       "      <td></td>\n",
       "      <td>-</td>\n",
       "    </tr>\n",
       "    <tr>\n",
       "      <th>'Vertical_Distance_To_Hydrology'</th>\n",
       "      <td>INT</td>\n",
       "      <td>required</td>\n",
       "      <td></td>\n",
       "      <td>-</td>\n",
       "    </tr>\n",
       "    <tr>\n",
       "      <th>'Wilderness_Area'</th>\n",
       "      <td>STRING</td>\n",
       "      <td>required</td>\n",
       "      <td></td>\n",
       "      <td>'Wilderness_Area'</td>\n",
       "    </tr>\n",
       "  </tbody>\n",
       "</table>\n",
       "</div>"
      ],
      "text/plain": [
       "                                        Type  Presence Valency  \\\n",
       "Feature name                                                     \n",
       "'Aspect'                              INT     required           \n",
       "'Cover_Type'                          INT     required           \n",
       "'Elevation'                           INT     required           \n",
       "'Hillshade_3pm'                       INT     required           \n",
       "'Hillshade_9am'                       INT     required           \n",
       "'Hillshade_Noon'                      INT     required           \n",
       "'Horizontal_Distance_To_Fire_Points'  INT     required           \n",
       "'Horizontal_Distance_To_Hydrology'    INT     required           \n",
       "'Horizontal_Distance_To_Roadways'     INT     required           \n",
       "'Slope'                               INT     required           \n",
       "'Soil_Type'                           INT     required           \n",
       "'Vertical_Distance_To_Hydrology'      INT     required           \n",
       "'Wilderness_Area'                     STRING  required           \n",
       "\n",
       "                                                 Domain  \n",
       "Feature name                                             \n",
       "'Aspect'                              -                  \n",
       "'Cover_Type'                          -                  \n",
       "'Elevation'                           -                  \n",
       "'Hillshade_3pm'                       -                  \n",
       "'Hillshade_9am'                       -                  \n",
       "'Hillshade_Noon'                      -                  \n",
       "'Horizontal_Distance_To_Fire_Points'  -                  \n",
       "'Horizontal_Distance_To_Hydrology'    -                  \n",
       "'Horizontal_Distance_To_Roadways'     -                  \n",
       "'Slope'                               -                  \n",
       "'Soil_Type'                           -                  \n",
       "'Vertical_Distance_To_Hydrology'      -                  \n",
       "'Wilderness_Area'                     'Wilderness_Area'  "
      ]
     },
     "metadata": {},
     "output_type": "display_data"
    },
    {
     "data": {
      "text/html": [
       "<div>\n",
       "<style scoped>\n",
       "    .dataframe tbody tr th:only-of-type {\n",
       "        vertical-align: middle;\n",
       "    }\n",
       "\n",
       "    .dataframe tbody tr th {\n",
       "        vertical-align: top;\n",
       "    }\n",
       "\n",
       "    .dataframe thead th {\n",
       "        text-align: right;\n",
       "    }\n",
       "</style>\n",
       "<table border=\"1\" class=\"dataframe\">\n",
       "  <thead>\n",
       "    <tr style=\"text-align: right;\">\n",
       "      <th></th>\n",
       "      <th>Values</th>\n",
       "    </tr>\n",
       "    <tr>\n",
       "      <th>Domain</th>\n",
       "      <th></th>\n",
       "    </tr>\n",
       "  </thead>\n",
       "  <tbody>\n",
       "    <tr>\n",
       "      <th>'Wilderness_Area'</th>\n",
       "      <td>'Cache', 'Commanche', 'Neota', 'Rawah'</td>\n",
       "    </tr>\n",
       "  </tbody>\n",
       "</table>\n",
       "</div>"
      ],
      "text/plain": [
       "                                                   Values\n",
       "Domain                                                   \n",
       "'Wilderness_Area'  'Cache', 'Commanche', 'Neota', 'Rawah'"
      ]
     },
     "metadata": {},
     "output_type": "display_data"
    }
   ],
   "source": [
    "eval_schema = tfdv.infer_schema(eval_stats)\n",
    "tfdv.display_schema(schema=eval_schema)"
   ]
  },
  {
   "cell_type": "code",
   "execution_count": 21,
   "metadata": {},
   "outputs": [
    {
     "data": {
      "text/html": [
       "<iframe id='facets-iframe' width=\"100%\" height=\"500px\"></iframe>\n",
       "        <script>\n",
       "        facets_iframe = document.getElementById('facets-iframe');\n",
       "        facets_html = '<link rel=\"import\" href=\"https://raw.githubusercontent.com/PAIR-code/facets/master/facets-dist/facets-jupyter.html\"><facets-overview proto-input=\"CqlfCgxFVkFMIERBVEFTRVQQ+MkEGrEEIqAECrgCCPjJBBgBIAEtAACAPzKkAhobCQAAAAAAAPA/EQAAAAAAAPA/IQAAAAAATL1AGhsJAAAAAAAA8D8RAAAAAAAA8D8hAAAAAABMvUAaGwkAAAAAAADwPxEAAAAAAADwPyEAAAAAAEy9QBobCQAAAAAAAPA/EQAAAAAAAPA/IQAAAAAATL1AGhsJAAAAAAAA8D8RAAAAAAAA8D8hAAAAAABMvUAaGwkAAAAAAADwPxEAAAAAAADwPyEAAAAAAEy9QBobCQAAAAAAAPA/EQAAAAAAAPA/IQAAAAAATL1AGhsJAAAAAAAA8D8RAAAAAAAA8D8hAAAAAABMvUAaGwkAAAAAAADwPxEAAAAAAADwPyEAAAAAAEy9QBobCQAAAAAAAPA/EQAAAAAAAPA/IQAAAAAATL1AIAFA+MkEEAcaDBIBMhkAAAAAwOXhQBoMEgExGQAAAAAAmtpAGgwSATMZAAAAAACAsUAaDBIBNxkAAAAAACqlQBoMEgE2GQAAAAAAPKJAGgwSATUZAAAAAACAk0AaDBIBNBkAAAAAAPB0QCUAAIA/KnoKDCIBMikAAAAAwOXhQAoQCAEQASIBMSkAAAAAAJraQAoQCAIQAiIBMykAAAAAAICxQAoQCAMQAyIBNykAAAAAACqlQAoQCAQQBCIBNikAAAAAADyiQAoQCAUQBSIBNSkAAAAAAICTQAoQCAYQBiIBNCkAAAAAAPB0QEIMCgpDb3Zlcl9UeXBlGu8LEAIi3QsKuAII+MkEGAEgAS0AAIA/MqQCGhsJAAAAAAAA8D8RAAAAAAAA8D8hAAAAAABMvUAaGwkAAAAAAADwPxEAAAAAAADwPyEAAAAAAEy9QBobCQAAAAAAAPA/EQAAAAAAAPA/IQAAAAAATL1AGhsJAAAAAAAA8D8RAAAAAAAA8D8hAAAAAABMvUAaGwkAAAAAAADwPxEAAAAAAADwPyEAAAAAAEy9QBobCQAAAAAAAPA/EQAAAAAAAPA/IQAAAAAATL1AGhsJAAAAAAAA8D8RAAAAAAAA8D8hAAAAAABMvUAaGwkAAAAAAADwPxEAAAAAAADwPyEAAAAAAEy9QBobCQAAAAAAAPA/EQAAAAAAAPA/IQAAAAAATL1AGhsJAAAAAAAA8D8RAAAAAAAA8D8hAAAAAABMvUAgAUD4yQQQKBoPEgQ3NzQ1GQAAAACA+cxAGg8SBDcyMDIZAAAAAABTvUAaDxIENzc1NhkAAAAAAFa6QBoPEgQ3NzU3GQAAAAAArLZAGg8SBDQ3MDMZAAAAAACMsEAaDxIENzIwMRkAAAAAABGwQBoPEgQ3NzQ2GQAAAAAAOq9AGg8SBDQ3NDQZAAAAAAAMrkAaDxIENzc1NRkAAAAAAE6qQBoPEgQ3NzAwGQAAAAAA2qVAGg8SBDQ3NTgZAAAAAAAkokAaDxIEODc3MRkAAAAAAAagQBoPEgQ4NzcyGQAAAAAAsJtAGg8SBDQ3MDQZAAAAAACYmUAaDxIEMjcwNRkAAAAAAKyYQBoPEgQ3MTAyGQAAAAAADJJAGg8SBDg3NzYZAAAAAAC4kUAaDxIEMjcwMxkAAAAAAFCNQBoPEgQyNzE3GQAAAAAAqIpAGg8SBDI3MDQZAAAAAAAIgkAlAACAQCrEBgoPIgQ3NzQ1KQAAAACA+cxAChMIARABIgQ3MjAyKQAAAAAAU71AChMIAhACIgQ3NzU2KQAAAAAAVrpAChMIAxADIgQ3NzU3KQAAAAAArLZAChMIBBAEIgQ0NzAzKQAAAAAAjLBAChMIBRAFIgQ3MjAxKQAAAAAAEbBAChMIBhAGIgQ3NzQ2KQAAAAAAOq9AChMIBxAHIgQ0NzQ0KQAAAAAADK5AChMICBAIIgQ3NzU1KQAAAAAATqpAChMICRAJIgQ3NzAwKQAAAAAA2qVAChMIChAKIgQ0NzU4KQAAAAAAJKJAChMICxALIgQ4NzcxKQAAAAAABqBAChMIDBAMIgQ4NzcyKQAAAAAAsJtAChMIDRANIgQ0NzA0KQAAAAAAmJlAChMIDhAOIgQyNzA1KQAAAAAArJhAChMIDxAPIgQ3MTAyKQAAAAAADJJAChMIEBAQIgQ4Nzc2KQAAAAAAuJFAChMIERARIgQyNzAzKQAAAAAAUI1AChMIEhASIgQyNzE3KQAAAAAAqIpAChMIExATIgQyNzA0KQAAAAAACIJAChMIFBAUIgQ3MTAxKQAAAAAAgH9AChMIFRAVIgQ2MTAyKQAAAAAAEH1AChMIFhAWIgQyNzAyKQAAAAAAkHdAChMIFxAXIgQ2MTAxKQAAAAAAwHVAChMIGBAYIgQ3NzAyKQAAAAAAUHNAChMIGRAZIgQ2NzMxKQAAAAAAsHBAChMIGhAaIgQ4NzAzKQAAAAAAwG1AChMIGxAbIgQ3NzkwKQAAAAAAoGxAChMIHBAcIgQyNzA2KQAAAAAAgGlAChMIHRAdIgQ3NzA5KQAAAAAAQGNAChMIHhAeIgQ0MjAxKQAAAAAAIGNAChMIHxAfIgQ3NzEwKQAAAAAAQF9AChMIIBAgIgQ3MTAzKQAAAAAAgF5AChMIIRAhIgQ1MTAxKQAAAAAAgFVAChMIIhAiIgQ3NzAxKQAAAAAAgE5AChMIIxAjIgQ4NzA4KQAAAAAAAEJAChMIJBAkIgQzNTAyKQAAAAAAADlAChMIJRAlIgQzNTAxKQAAAAAAADBAChMIJhAmIgQ4NzA3KQAAAAAAAC5AChMIJxAnIgQyNzAxKQAAAAAAAAhAQgsKCVNvaWxfVHlwZRqABBACIugDCrgCCPjJBBgBIAEtAACAPzKkAhobCQAAAAAAAPA/EQAAAAAAAPA/IQAAAAAATL1AGhsJAAAAAAAA8D8RAAAAAAAA8D8hAAAAAABMvUAaGwkAAAAAAADwPxEAAAAAAADwPyEAAAAAAEy9QBobCQAAAAAAAPA/EQAAAAAAAPA/IQAAAAAATL1AGhsJAAAAAAAA8D8RAAAAAAAA8D8hAAAAAABMvUAaGwkAAAAAAADwPxEAAAAAAADwPyEAAAAAAEy9QBobCQAAAAAAAPA/EQAAAAAAAPA/IQAAAAAATL1AGhsJAAAAAAAA8D8RAAAAAAAA8D8hAAAAAABMvUAaGwkAAAAAAADwPxEAAAAAAADwPyEAAAAAAEy9QBobCQAAAAAAAPA/EQAAAAAAAPA/IQAAAAAATL1AIAFA+MkEEAQaEBIFUmF3YWgZAAAAAIBi4EAaFBIJQ29tbWFuY2hlGQAAAACADuBAGhASBUNhY2hlGQAAAAAAkbJAGhASBU5lb3RhGQAAAAAAvq1AJT0f2EAqWAoQIgVSYXdhaCkAAAAAgGLgQAoYCAEQASIJQ29tbWFuY2hlKQAAAACADuBAChQIAhACIgVDYWNoZSkAAAAAAJGyQAoUCAMQAyIFTmVvdGEpAAAAAAC+rUBCEQoPV2lsZGVybmVzc19BcmVhGqkHGpwHCrgCCPjJBBgBIAEtAACAPzKkAhobCQAAAAAAAPA/EQAAAAAAAPA/IQAAAAAATL1AGhsJAAAAAAAA8D8RAAAAAAAA8D8hAAAAAABMvUAaGwkAAAAAAADwPxEAAAAAAADwPyEAAAAAAEy9QBobCQAAAAAAAPA/EQAAAAAAAPA/IQAAAAAATL1AGhsJAAAAAAAA8D8RAAAAAAAA8D8hAAAAAABMvUAaGwkAAAAAAADwPxEAAAAAAADwPyEAAAAAAEy9QBobCQAAAAAAAPA/EQAAAAAAAPA/IQAAAAAATL1AGhsJAAAAAAAA8D8RAAAAAAAA8D8hAAAAAABMvUAaGwkAAAAAAADwPxEAAAAAAADwPyEAAAAAAEy9QBobCQAAAAAAAPA/EQAAAAAAAPA/IQAAAAAATL1AIAFA+MkEEduCuIXBc2NAGXAQ3E8F/FtAIPIEMQAAAAAAwF9AOQAAAAAAgHZAQpkCGhIRAAAAAAAAQkAhAAAAAAD5xUAaGwkAAAAAAABCQBEAAAAAAABSQCEAAAAAgLTGQBobCQAAAAAAAFJAEQAAAAAAAFtAIQAAAAAA7MNAGhsJAAAAAAAAW0ARAAAAAAAAYkAhAAAAAAAtvkAaGwkAAAAAAABiQBEAAAAAAIBmQCEAAAAAAES2QBobCQAAAAAAgGZAEQAAAAAAAGtAIQAAAAAAwLJAGhsJAAAAAAAAa0ARAAAAAACAb0AhAAAAAAB4rkAaGwkAAAAAAIBvQBEAAAAAAAByQCEAAAAAAN+xQBobCQAAAAAAAHJAEQAAAAAAQHRAIQAAAAAAfblAGhsJAAAAAABAdEARAAAAAACAdkAhAAAAAAD+wEBCmwIaEhEAAAAAAAA4QCEAAAAAAEy9QBobCQAAAAAAADhAEQAAAAAAAEdAIQAAAAAATL1AGhsJAAAAAAAAR0ARAAAAAACAUUAhAAAAAABMvUAaGwkAAAAAAIBRQBEAAAAAAABYQCEAAAAAAEy9QBobCQAAAAAAAFhAEQAAAAAAwF9AIQAAAAAATL1AGhsJAAAAAADAX0ARAAAAAAAgZUAhAAAAAABMvUAaGwkAAAAAACBlQBEAAAAAAEBsQCEAAAAAAEy9QBobCQAAAAAAQGxAEQAAAAAAEHJAIQAAAAAATL1AGhsJAAAAAAAQckARAAAAAACQdEAhAAAAAABMvUAaGwkAAAAAAJB0QBEAAAAAAIB2QCEAAAAAAEy9QCABQggKBkFzcGVjdBrEBxq0Bwq4Agj4yQQYASABLQAAgD8ypAIaGwkAAAAAAADwPxEAAAAAAADwPyEAAAAAAEy9QBobCQAAAAAAAPA/EQAAAAAAAPA/IQAAAAAATL1AGhsJAAAAAAAA8D8RAAAAAAAA8D8hAAAAAABMvUAaGwkAAAAAAADwPxEAAAAAAADwPyEAAAAAAEy9QBobCQAAAAAAAPA/EQAAAAAAAPA/IQAAAAAATL1AGhsJAAAAAAAA8D8RAAAAAAAA8D8hAAAAAABMvUAaGwkAAAAAAADwPxEAAAAAAADwPyEAAAAAAEy9QBobCQAAAAAAAPA/EQAAAAAAAPA/IQAAAAAATL1AGhsJAAAAAAAA8D8RAAAAAAAA8D8hAAAAAABMvUAaGwkAAAAAAADwPxEAAAAAAADwPyEAAAAAAEy9QCABQPjJBBHfbHNj+h2nQBkrAVOolWxxQCkAAAAAADydQDEAAAAAAGanQDkAAAAAAAiuQEKiAhobCQAAAAAAPJ1AEZqZmZmZKKBAIdDooosusnlAGhsJmpmZmZkooEARMzMzMzOzoUAhyEUXXfTolEAaGwkzMzMzM7OhQBHNzMzMzD2jQCEGAAAAgFqmQBobCc3MzMzMPaNAEWZmZmZmyKRAIfb////fvbZAGhsJZmZmZmbIpEARAAAAAABTpkAhBAAAAIBZx0AaGwkAAAAAAFOmQBGamZmZmd2nQCEEAAAAINnVQBobCZqZmZmZ3adAETQzMzMzaKlAIQQAAACgh9RAGhsJNDMzMzNoqUARzczMzMzyqkAh8f///y+/wEAaGwnNzMzMzPKqQBFmZmZmZn2sQCH3/////wKBQBobCWZmZmZmfaxAEQAAAAAACK5AIQoAAAAAsFhAQqQCGhsJAAAAAAA8nUARAAAAAAAqpEAhAAAAAABMvUAaGwkAAAAAACqkQBEAAAAAAH6lQCEAAAAAAEy9QBobCQAAAAAAfqVAEQAAAAAAVqZAIQAAAAAATL1AGhsJAAAAAABWpkARAAAAAADwpkAhAAAAAABMvUAaGwkAAAAAAPCmQBEAAAAAAGanQCEAAAAAAEy9QBobCQAAAAAAZqdAEQAAAAAA4qdAIQAAAAAATL1AGhsJAAAAAADip0ARAAAAAABwqEAhAAAAAABMvUAaGwkAAAAAAHCoQBEAAAAAAPioQCEAAAAAAEy9QBobCQAAAAAA+KhAEQAAAAAAkKlAIQAAAAAATL1AGhsJAAAAAACQqUARAAAAAAAIrkAhAAAAAABMvUAgAUILCglFbGV2YXRpb24asAcanAcKuAII+MkEGAEgAS0AAIA/MqQCGhsJAAAAAAAA8D8RAAAAAAAA8D8hAAAAAABMvUAaGwkAAAAAAADwPxEAAAAAAADwPyEAAAAAAEy9QBobCQAAAAAAAPA/EQAAAAAAAPA/IQAAAAAATL1AGhsJAAAAAAAA8D8RAAAAAAAA8D8hAAAAAABMvUAaGwkAAAAAAADwPxEAAAAAAADwPyEAAAAAAEy9QBobCQAAAAAAAPA/EQAAAAAAAPA/IQAAAAAATL1AGhsJAAAAAAAA8D8RAAAAAAAA8D8hAAAAAABMvUAaGwkAAAAAAADwPxEAAAAAAADwPyEAAAAAAEy9QBobCQAAAAAAAPA/EQAAAAAAAPA/IQAAAAAATL1AGhsJAAAAAAAA8D8RAAAAAAAA8D8hAAAAAABMvUAgAUD4yQQR8bp+wW7UYUAZHFazR9gbQ0AgrAExAAAAAADgYUA5AAAAAACAb0BCmQIaEhEzMzMzMzM5QCEAAAAAAFR1QBobCTMzMzMzMzlAETMzMzMzM0lAIf//////bYlAGhsJMzMzMzMzSUARZmZmZmbmUkAh//////+xoUAaGwlmZmZmZuZSQBEzMzMzMzNZQCEAAAAAADS3QBobCTMzMzMzM1lAEQAAAAAAgF9AIQAAAACA+8pAGhsJAAAAAACAX0ARZmZmZmbmYkAhAAAAAMAb1UAaGwlmZmZmZuZiQBHNzMzMzAxmQCEAAAAAADvPQBobCc3MzMzMDGZAETMzMzMzM2lAIQAAAAAAOMNAGhsJMzMzMzMzaUARmZmZmZlZbEAh/v/////TrEAaGwmZmZmZmVlsQBEAAAAAAIBvQCELAAAAAJCFQEKbAhoSEQAAAAAAwFdAIQAAAAAATL1AGhsJAAAAAADAV0ARAAAAAABAXEAhAAAAAABMvUAaGwkAAAAAAEBcQBEAAAAAAEBfQCEAAAAAAEy9QBobCQAAAAAAQF9AEQAAAAAAwGBAIQAAAAAATL1AGhsJAAAAAADAYEARAAAAAADgYUAhAAAAAABMvUAaGwkAAAAAAOBhQBEAAAAAAABjQCEAAAAAAEy9QBobCQAAAAAAAGNAEQAAAAAAQGRAIQAAAAAATL1AGhsJAAAAAABAZEARAAAAAADgZUAhAAAAAABMvUAaGwkAAAAAAOBlQBEAAAAAAOBnQCEAAAAAAEy9QBobCQAAAAAA4GdAEQAAAAAAgG9AIQAAAAAATL1AIAFCDwoNSGlsbHNoYWRlXzNwbRqvBxqbBwq4Agj4yQQYASABLQAAgD8ypAIaGwkAAAAAAADwPxEAAAAAAADwPyEAAAAAAEy9QBobCQAAAAAAAPA/EQAAAAAAAPA/IQAAAAAATL1AGhsJAAAAAAAA8D8RAAAAAAAA8D8hAAAAAABMvUAaGwkAAAAAAADwPxEAAAAAAADwPyEAAAAAAEy9QBobCQAAAAAAAPA/EQAAAAAAAPA/IQAAAAAATL1AGhsJAAAAAAAA8D8RAAAAAAAA8D8hAAAAAABMvUAaGwkAAAAAAADwPxEAAAAAAADwPyEAAAAAAEy9QBobCQAAAAAAAPA/EQAAAAAAAPA/IQAAAAAATL1AGhsJAAAAAAAA8D8RAAAAAAAA8D8hAAAAAABMvUAaGwkAAAAAAADwPxEAAAAAAADwPyEAAAAAAEy9QCABQPjJBBE/UkSGVYRqQBlJXRmJSbc6QCACMQAAAAAAQGtAOQAAAAAAwG9AQpkCGhIRZmZmZmZmOUAhq6qqqqoqNUAaGwlmZmZmZmY5QBFmZmZmZmZJQCGqqqqqqio1QBobCWZmZmZmZklAEczMzMzMDFNAIaiqqqqqKjVAGhsJzMzMzMwMU0ARZmZmZmZmWUAh/v//////VEAaGwlmZmZmZmZZQBEAAAAAAMBfQCEAAAAAANSCQBobCQAAAAAAwF9AEczMzMzMDGNAIfj/////755AGhsJzMzMzMwMY0ARmZmZmZk5ZkAhAQAAAACgtEAaGwmZmZmZmTlmQBFmZmZmZmZpQCEBAAAAAMXMQBobCWZmZmZmZmlAETMzMzMzk2xAIQAAAADA9dxAGhsJMzMzMzOTbEARAAAAAADAb0AhAAAAAEAT1kBCmwIaEhEAAAAAAABmQCEAAAAAAEy9QBobCQAAAAAAAGZAEQAAAAAAIGhAIQAAAAAATL1AGhsJAAAAAAAgaEARAAAAAABgaUAhAAAAAABMvUAaGwkAAAAAAGBpQBEAAAAAAGBqQCEAAAAAAEy9QBobCQAAAAAAYGpAEQAAAAAAQGtAIQAAAAAATL1AGhsJAAAAAABAa0ARAAAAAADga0AhAAAAAABMvUAaGwkAAAAAAOBrQBEAAAAAAKBsQCEAAAAAAEy9QBobCQAAAAAAoGxAEQAAAAAAQG1AIQAAAAAATL1AGhsJAAAAAABAbUARAAAAAAAgbkAhAAAAAABMvUAaGwkAAAAAACBuQBEAAAAAAMBvQCEAAAAAAEy9QCABQg8KDUhpbGxzaGFkZV85YW0ayQcatAcKuAII+MkEGAEgAS0AAIA/MqQCGhsJAAAAAAAA8D8RAAAAAAAA8D8hAAAAAABMvUAaGwkAAAAAAADwPxEAAAAAAADwPyEAAAAAAEy9QBobCQAAAAAAAPA/EQAAAAAAAPA/IQAAAAAATL1AGhsJAAAAAAAA8D8RAAAAAAAA8D8hAAAAAABMvUAaGwkAAAAAAADwPxEAAAAAAADwPyEAAAAAAEy9QBobCQAAAAAAAPA/EQAAAAAAAPA/IQAAAAAATL1AGhsJAAAAAAAA8D8RAAAAAAAA8D8hAAAAAABMvUAaGwkAAAAAAADwPxEAAAAAAADwPyEAAAAAAEy9QBobCQAAAAAAAPA/EQAAAAAAAPA/IQAAAAAATL1AGhsJAAAAAAAA8D8RAAAAAAAA8D8hAAAAAABMvUAgAUD4yQQRvUpRQVjsa0AZlkLTtvygM0ApAAAAAAAAUEAxAAAAAABAbEA5AAAAAADAb0BCogIaGwkAAAAAAABQQBEAAAAAAMBUQCG1tLS0tPQ0QBobCQAAAAAAwFRAEQAAAAAAgFlAIba0tLS09DRAGhsJAAAAAACAWUARAAAAAABAXkAhtLS0tLT0NEAaGwkAAAAAAEBeQBEAAAAAAIBhQCF4eHh4eAhSQBobCQAAAAAAgGFAEQAAAAAA4GNAIQAAAAAAEH1AGhsJAAAAAADgY0ARAAAAAABAZkAhAAAAAACcmEAaGwkAAAAAAEBmQBEAAAAAAKBoQCEAAAAAAHWyQBobCQAAAAAAoGhAEQAAAAAAAGtAIQAAAACA28xAGhsJAAAAAAAAa0ARAAAAAABgbUAhAAAAAIC83UAaGwkAAAAAAGBtQBEAAAAAAMBvQCEAAAAAwFbWQEKkAhobCQAAAAAAAFBAEQAAAAAAwGhAIQAAAAAATL1AGhsJAAAAAADAaEARAAAAAAAgakAhAAAAAABMvUAaGwkAAAAAACBqQBEAAAAAAABrQCEAAAAAAEy9QBobCQAAAAAAAGtAEQAAAAAAoGtAIQAAAAAATL1AGhsJAAAAAACga0ARAAAAAABAbEAhAAAAAABMvUAaGwkAAAAAAEBsQBEAAAAAAMBsQCEAAAAAAEy9QBobCQAAAAAAwGxAEQAAAAAAYG1AIQAAAAAATL1AGhsJAAAAAABgbUARAAAAAAAAbkAhAAAAAABMvUAaGwkAAAAAAABuQBEAAAAAAOBuQCEAAAAAAEy9QBobCQAAAAAA4G5AEQAAAAAAwG9AIQAAAAAATL1AIAFCEAoOSGlsbHNoYWRlX05vb24axAcamwcKuAII+MkEGAEgAS0AAIA/MqQCGhsJAAAAAAAA8D8RAAAAAAAA8D8hAAAAAABMvUAaGwkAAAAAAADwPxEAAAAAAADwPyEAAAAAAEy9QBobCQAAAAAAAPA/EQAAAAAAAPA/IQAAAAAATL1AGhsJAAAAAAAA8D8RAAAAAAAA8D8hAAAAAABMvUAaGwkAAAAAAADwPxEAAAAAAADwPyEAAAAAAEy9QBobCQAAAAAAAPA/EQAAAAAAAPA/IQAAAAAATL1AGhsJAAAAAAAA8D8RAAAAAAAA8D8hAAAAAABMvUAaGwkAAAAAAADwPxEAAAAAAADwPyEAAAAAAEy9QBobCQAAAAAAAPA/EQAAAAAAAPA/IQAAAAAATL1AGhsJAAAAAAAA8D8RAAAAAAAA8D8hAAAAAABMvUAgAUD4yQQRj0YYGXcHn0AZJnBNs+eglEAgBTEAAAAAALyaQDkAAAAAAM27QEKZAhoSEZqZmZmZPYZAIQEAAACg08NAGhsJmpmZmZk9hkARmpmZmZk9lkAhAQAAALAZ00AaGwmamZmZmT2WQBE0MzMzM66gQCEBAAAAeGzRQBobCTQzMzMzrqBAEZqZmZmZPaZAIf3////PjcpAGhsJmpmZmZk9pkARAAAAAADNq0Ahdnh4eHiMtUAaGwkAAAAAAM2rQBE0MzMzM66wQCGJ4FQmbC+lQBobCTQzMzMzrrBAEWdmZmbmdbNAIb0HH3zwiZ9AGhsJZ2ZmZuZ1s0ARmpmZmZk9tkAhU1VVVVUXmkAaGwmamZmZmT22QBHNzMzMTAW5QCH+////v4yXQBobCc3MzMxMBblAEQAAAAAAzbtAIfr/////zHpAQpsCGhIRAAAAAADAgkAhAAAAAABMvUAaGwkAAAAAAMCCQBEAAAAAACCMQCEAAAAAAEy9QBobCQAAAAAAIIxAEQAAAAAAYJJAIQAAAAAATL1AGhsJAAAAAABgkkARAAAAAAB0lkAhAAAAAABMvUAaGwkAAAAAAHSWQBEAAAAAALyaQCEAAAAAAEy9QBobCQAAAAAAvJpAEQAAAAAAoJ9AIQAAAAAATL1AGhsJAAAAAACgn0ARAAAAAAB+okAhAAAAAABMvUAaGwkAAAAAAH6iQBEAAAAAAJilQCEAAAAAAEy9QBobCQAAAAAAmKVAEQAAAAAAWq1AIQAAAAAATL1AGhsJAAAAAABarUARAAAAAADNu0AhAAAAAABMvUAgAUIkCiJIb3Jpem9udGFsX0Rpc3RhbmNlX1RvX0ZpcmVfUG9pbnRzGsUHEAEanAcKuAII+MkEGAEgAS0AAIA/MqQCGhsJAAAAAAAA8D8RAAAAAAAA8D8hAAAAAABMvUAaGwkAAAAAAADwPxEAAAAAAADwPyEAAAAAAEy9QBobCQAAAAAAAPA/EQAAAAAAAPA/IQAAAAAATL1AGhsJAAAAAAAA8D8RAAAAAAAA8D8hAAAAAABMvUAaGwkAAAAAAADwPxEAAAAAAADwPyEAAAAAAEy9QBobCQAAAAAAAPA/EQAAAAAAAPA/IQAAAAAATL1AGhsJAAAAAAAA8D8RAAAAAAAA8D8hAAAAAABMvUAaGwkAAAAAAADwPxEAAAAAAADwPyEAAAAAAEy9QBobCQAAAAAAAPA/EQAAAAAAAPA/IQAAAAAATL1AGhsJAAAAAAAA8D8RAAAAAAAA8D8hAAAAAABMvUAgAUD4yQQR+uWm4APEcEAZqmlJEEmWakAgtxkxAAAAAABAa0A5AAAAAABklUBCmQIaEhHNzMzMzBxhQCEAAAAA5i7YQBobCc3MzMzMHGFAEc3MzMzMHHFAIQAAAAAabNNAGhsJzczMzMwccUARNDMzMzOreUAhAAAAAEBiy0AaGwk0MzMzM6t5QBHNzMzMzByBQCEAAAAAwOO/QBobCc3MzMzMHIFAEQAAAAAAZIVAIQAAAABAGLFAGhsJAAAAAABkhUARNDMzMzOriUAhAgAAAEAYoUAaGwk0MzMzM6uJQBFnZmZmZvKNQCH8/////4eNQBobCWdmZmZm8o1AEc3MzMzMHJFAIfr/////NXtAGhsJzczMzMwckUARZ2ZmZmZAk0Ahp4M6qIMKZEAaGwlnZmZmZkCTQBEAAAAAAGSVQCFX8RVf8VVNQEKbAhoSEQAAAAAAAD5AIQAAAAAATL1AGhsJAAAAAAAAPkARAAAAAABAVUAhAAAAAABMvUAaGwkAAAAAAEBVQBEAAAAAAABfQCEAAAAAAEy9QBobCQAAAAAAAF9AEQAAAAAA4GVAIQAAAAAATL1AGhsJAAAAAADgZUARAAAAAABAa0AhAAAAAABMvUAaGwkAAAAAAEBrQBEAAAAAAFBxQCEAAAAAAEy9QBobCQAAAAAAUHFAEQAAAAAAYHVAIQAAAAAATL1AGhsJAAAAAABgdUARAAAAAACgekAhAAAAAABMvUAaGwkAAAAAAKB6QBEAAAAAAKCBQCEAAAAAAEy9QBobCQAAAAAAoIFAEQAAAAAAZJVAIQAAAAAATL1AIAFCIgogSG9yaXpvbnRhbF9EaXN0YW5jZV9Ub19IeWRyb2xvZ3kawQcamwcKuAII+MkEGAEgAS0AAIA/MqQCGhsJAAAAAAAA8D8RAAAAAAAA8D8hAAAAAABMvUAaGwkAAAAAAADwPxEAAAAAAADwPyEAAAAAAEy9QBobCQAAAAAAAPA/EQAAAAAAAPA/IQAAAAAATL1AGhsJAAAAAAAA8D8RAAAAAAAA8D8hAAAAAABMvUAaGwkAAAAAAADwPxEAAAAAAADwPyEAAAAAAEy9QBobCQAAAAAAAPA/EQAAAAAAAPA/IQAAAAAATL1AGhsJAAAAAAAA8D8RAAAAAAAA8D8hAAAAAABMvUAaGwkAAAAAAADwPxEAAAAAAADwPyEAAAAAAEy9QBobCQAAAAAAAPA/EQAAAAAAAPA/IQAAAAAATL1AGhsJAAAAAAAA8D8RAAAAAAAA8D8hAAAAAABMvUAgAUD4yQQRblFmgwxdokAZhJvsawtMmEAgDjEAAAAAAESfQDkAAAAAAMi7QEKZAhoSEZqZmZmZOYZAIW7btm1bTMNAGhsJmpmZmZk5hkARmpmZmZk5lkAhliRJkiSXz0AaGwmamZmZmTmWQBE0MzMzM6ugQCEAAAAA4NfKQBobCTQzMzMzq6BAEZqZmZmZOaZAIf7///8fd8RAGhsJmpmZmZk5pkARAAAAAADIq0AhQxdddNHav0AaGwkAAAAAAMirQBE0MzMzM6uwQCE0uuiiiz62QBobCTQzMzMzq7BAEWdmZmZmcrNAIXPRRRdd/7BAGhsJZ2ZmZmZys0ARmpmZmZk5tkAhKrroogs9r0AaGwmamZmZmTm2QBHNzMzMzAC5QCFAeQ3lNe2hQBobCc3MzMzMALlAEQAAAAAAyLtAIcRrKK+hpGxAQpsCGhIRAAAAAACQgkAhAAAAAABMvUAaGwkAAAAAAJCCQBEAAAAAAFiNQCEAAAAAAEy9QBobCQAAAAAAWI1AEQAAAAAAyJNAIQAAAAAATL1AGhsJAAAAAADIk0ARAAAAAAAgmUAhAAAAAABMvUAaGwkAAAAAACCZQBEAAAAAAESfQCEAAAAAAEy9QBobCQAAAAAARJ9AEQAAAAAAQKNAIQAAAAAATL1AGhsJAAAAAABAo0ARAAAAAACSp0AhAAAAAABMvUAaGwkAAAAAAJKnQBEAAAAAADitQCEAAAAAAEy9QBobCQAAAAAAOK1AEQAAAAAAtrJAIQAAAAAATL1AGhsJAAAAAAC2skARAAAAAADIu0AhAAAAAABMvUAgAUIhCh9Ib3Jpem9udGFsX0Rpc3RhbmNlX1RvX1JvYWR3YXlzGqcHGpsHCrgCCPjJBBgBIAEtAACAPzKkAhobCQAAAAAAAPA/EQAAAAAAAPA/IQAAAAAATL1AGhsJAAAAAAAA8D8RAAAAAAAA8D8hAAAAAABMvUAaGwkAAAAAAADwPxEAAAAAAADwPyEAAAAAAEy9QBobCQAAAAAAAPA/EQAAAAAAAPA/IQAAAAAATL1AGhsJAAAAAAAA8D8RAAAAAAAA8D8hAAAAAABMvUAaGwkAAAAAAADwPxEAAAAAAADwPyEAAAAAAEy9QBobCQAAAAAAAPA/EQAAAAAAAPA/IQAAAAAATL1AGhsJAAAAAAAA8D8RAAAAAAAA8D8hAAAAAABMvUAaGwkAAAAAAADwPxEAAAAAAADwPyEAAAAAAEy9QBobCQAAAAAAAPA/EQAAAAAAAPA/IQAAAAAATL1AIAFA+MkEEfjKqYqWKSxAGZYX5IBB8R1AIFAxAAAAAAAAKkA5AAAAAACAW0BCmQIaEhEAAAAAAAAmQCEAAAAAAF7aQBobCQAAAAAAACZAEQAAAAAAADZAIQAAAABgneFAGhsJAAAAAAAANkARAAAAAACAQEAhAAAAAIBcxEAaGwkAAAAAAIBAQBEAAAAAAABGQCHDr8ZEekiWQBobCQAAAAAAAEZAEQAAAAAAgEtAIcKvxkR6oChAGhsJAAAAAACAS0ARAAAAAACAUEAhxK/GRHqgKEAaGwkAAAAAAIBQQBEAAAAAAEBTQCHEr8ZEeqAoQBobCQAAAAAAQFNAEQAAAAAAAFZAIcSvxkR6oChAGhsJAAAAAAAAVkARAAAAAADAWEAhwK/GRHqgKEAaGwkAAAAAAMBYQBEAAAAAAIBbQCHEr8ZEeqAoQEKbAhoSEQAAAAAAABRAIQAAAAAATL1AGhsJAAAAAAAAFEARAAAAAAAAIEAhAAAAAABMvUAaGwkAAAAAAAAgQBEAAAAAAAAiQCEAAAAAAEy9QBobCQAAAAAAACJAEQAAAAAAACZAIQAAAAAATL1AGhsJAAAAAAAAJkARAAAAAAAAKkAhAAAAAABMvUAaGwkAAAAAAAAqQBEAAAAAAAAuQCEAAAAAAEy9QBobCQAAAAAAAC5AEQAAAAAAADFAIQAAAAAATL1AGhsJAAAAAAAAMUARAAAAAAAANEAhAAAAAABMvUAaGwkAAAAAAAA0QBEAAAAAAAA4QCEAAAAAAEy9QBobCQAAAAAAADhAEQAAAAAAgFtAIQAAAAAATL1AIAFCBwoFU2xvcGUaygcapQcKuAII+MkEGAEgAS0AAIA/MqQCGhsJAAAAAAAA8D8RAAAAAAAA8D8hAAAAAABMvUAaGwkAAAAAAADwPxEAAAAAAADwPyEAAAAAAEy9QBobCQAAAAAAAPA/EQAAAAAAAPA/IQAAAAAATL1AGhsJAAAAAAAA8D8RAAAAAAAA8D8hAAAAAABMvUAaGwkAAAAAAADwPxEAAAAAAADwPyEAAAAAAEy9QBobCQAAAAAAAPA/EQAAAAAAAPA/IQAAAAAATL1AGhsJAAAAAAAA8D8RAAAAAAAA8D8hAAAAAABMvUAaGwkAAAAAAADwPxEAAAAAAADwPyEAAAAAAEy9QBobCQAAAAAAAPA/EQAAAAAAAPA/IQAAAAAATL1AGhsJAAAAAAAA8D8RAAAAAAAA8D8hAAAAAABMvUAgAUD4yQQRbbV08g84R0AZ4m5mkT89TUAg0ycpAAAAAABgY8AxAAAAAAAAPUA5AAAAAACwgkBCogIaGwkAAAAAAGBjwBHNzMzMzOxTwCF00UUXXURnQBobCc3MzMzM7FPAEaCZmZmZmRHAIXTRRRfd57FAGhsJoJmZmZmZEcARmJmZmZm5UUAhAAAAABBt6UAaGwmYmZmZmblRQBFmZmZmZkZiQCEBAAAAQIjJQBobCWZmZmZmRmJAEQAAAAAAsGtAIQIAAAAAea1AGhsJAAAAAACwa0ARzMzMzMyMckAh/v////+fjkAaGwnMzMzMzIxyQBGamZmZmUF3QCH+GsprKPdvQBobCZqZmZmZQXdAEWZmZmZm9ntAISv1e26JkzpAGhsJZmZmZmb2e0ARmZmZmZlVgEAhlJmZmZkZOUAaGwmZmZmZmVWAQBEAAAAAALCCQCGgmZmZmRk5QEKSAhoSCQAAAAAAYGPAIQAAAAAATL1AGhIRAAAAAAAACEAhAAAAAABMvUAaGwkAAAAAAAAIQBEAAAAAAAAkQCEAAAAAAEy9QBobCQAAAAAAACRAEQAAAAAAADNAIQAAAAAATL1AGhsJAAAAAAAAM0ARAAAAAAAAPUAhAAAAAABMvUAaGwkAAAAAAAA9QBEAAAAAAABFQCEAAAAAAEy9QBobCQAAAAAAAEVAEQAAAAAAAE1AIQAAAAAATL1AGhsJAAAAAAAATUARAAAAAACAVEAhAAAAAABMvUAaGwkAAAAAAIBUQBEAAAAAAIBeQCEAAAAAAEy9QBobCQAAAAAAgF5AEQAAAAAAsIJAIQAAAAAATL1AIAFCIAoeVmVydGljYWxfRGlzdGFuY2VfVG9fSHlkcm9sb2d5CpdfCg1UUkFJTl9EQVRBU0VUEKSnGhqxBCKgBAq4AgikpxoYASABLQAAgD8ypAIaGwkAAAAAAADwPxEAAAAAAADwPyFmZmZmpgvlQBobCQAAAAAAAPA/EQAAAAAAAPA/IWZmZmamC+VAGhsJAAAAAAAA8D8RAAAAAAAA8D8hZmZmZqYL5UAaGwkAAAAAAADwPxEAAAAAAADwPyFmZmZmpgvlQBobCQAAAAAAAPA/EQAAAAAAAPA/IWZmZmamC+VAGhsJAAAAAAAA8D8RAAAAAAAA8D8hZmZmZqYL5UAaGwkAAAAAAADwPxEAAAAAAADwPyFmZmZmpgvlQBobCQAAAAAAAPA/EQAAAAAAAPA/IWZmZmamC+VAGhsJAAAAAAAA8D8RAAAAAAAA8D8hZmZmZqYL5UAaGwkAAAAAAADwPxEAAAAAAADwPyFmZmZmpgvlQCABQKSnGhAHGgwSATIZAAAAAGCgCUEaDBIBMRkAAAAAyDMDQRoMEgEzGQAAAACACNpAGgwSATcZAAAAAIDPzUAaDBIBNhkAAAAAgPvIQBoMEgE1GQAAAAAAdbtAGgwSATQZAAAAAADIn0AlAACAPyp6CgwiATIpAAAAAGCgCUEKEAgBEAEiATEpAAAAAMgzA0EKEAgCEAIiATMpAAAAAIAI2kAKEAgDEAMiATcpAAAAAIDPzUAKEAgEEAQiATYpAAAAAID7yEAKEAgFEAUiATUpAAAAAAB1u0AKEAgGEAYiATQpAAAAAADIn0BCDAoKQ292ZXJfVHlwZRrvCxACIt0LCrgCCKSnGhgBIAEtAACAPzKkAhobCQAAAAAAAPA/EQAAAAAAAPA/IWZmZmamC+VAGhsJAAAAAAAA8D8RAAAAAAAA8D8hZmZmZqYL5UAaGwkAAAAAAADwPxEAAAAAAADwPyFmZmZmpgvlQBobCQAAAAAAAPA/EQAAAAAAAPA/IWZmZmamC+VAGhsJAAAAAAAA8D8RAAAAAAAA8D8hZmZmZqYL5UAaGwkAAAAAAADwPxEAAAAAAADwPyFmZmZmpgvlQBobCQAAAAAAAPA/EQAAAAAAAPA/IWZmZmamC+VAGhsJAAAAAAAA8D8RAAAAAAAA8D8hZmZmZqYL5UAaGwkAAAAAAADwPxEAAAAAAADwPyFmZmZmpgvlQBobCQAAAAAAAPA/EQAAAAAAAPA/IWZmZmamC+VAIAFApKcaECgaDxIENzc0NRkAAAAAkN/0QBoPEgQ3MjAyGQAAAADg2+RAGg8SBDc3NTYZAAAAAMAH40AaDxIENzc1NxkAAAAAgGXgQBoPEgQ3MjAxGQAAAABAUNhAGg8SBDQ3MDMZAAAAAICc10AaDxIENzc0NhkAAAAAAMbVQBoPEgQ0NzQ0GQAAAABAu9VAGg8SBDc3NTUZAAAAAAB/0kAaDxIENzcwMBkAAAAAgKvOQBoPEgQ0NzU4GQAAAACAOMlAGg8SBDg3NzEZAAAAAICMxkAaDxIEODc3MhkAAAAAgDjEQBoPEgQyNzA1GQAAAAAADsJAGg8SBDQ3MDQZAAAAAIDzwUAaDxIENzEwMhkAAAAAAPO6QBoPEgQ4Nzc2GQAAAAAAYLlAGg8SBDI3MDMZAAAAAADntUAaDxIEMjcxNxkAAAAAAPGyQBoPEgQyNzA0GQAAAAAAaqxAJQAAgEAqxAYKDyIENzc0NSkAAAAAkN/0QAoTCAEQASIENzIwMikAAAAA4NvkQAoTCAIQAiIENzc1NikAAAAAwAfjQAoTCAMQAyIENzc1NykAAAAAgGXgQAoTCAQQBCIENzIwMSkAAAAAQFDYQAoTCAUQBSIENDcwMykAAAAAgJzXQAoTCAYQBiIENzc0NikAAAAAAMbVQAoTCAcQByIENDc0NCkAAAAAQLvVQAoTCAgQCCIENzc1NSkAAAAAAH/SQAoTCAkQCSIENzcwMCkAAAAAgKvOQAoTCAoQCiIENDc1OCkAAAAAgDjJQAoTCAsQCyIEODc3MSkAAAAAgIzGQAoTCAwQDCIEODc3MikAAAAAgDjEQAoTCA0QDSIEMjcwNSkAAAAAAA7CQAoTCA4QDiIENDcwNCkAAAAAgPPBQAoTCA8QDyIENzEwMikAAAAAAPO6QAoTCBAQECIEODc3NikAAAAAAGC5QAoTCBEQESIEMjcwMykAAAAAAOe1QAoTCBIQEiIEMjcxNykAAAAAAPGyQAoTCBMQEyIEMjcwNCkAAAAAAGqsQAoTCBQQFCIENzEwMSkAAAAAAESnQAoTCBUQFSIENjEwMikAAAAAAJCjQAoTCBYQFiIEMjcwMikAAAAAAMShQAoTCBcQFyIENjEwMSkAAAAAAKSgQAoTCBgQGCIENzcwMikAAAAAADieQAoTCBkQGSIEODcwMykAAAAAABiWQAoTCBoQGiIENjczMSkAAAAAAKSVQAoTCBsQGyIENzc5MCkAAAAAAKiSQAoTCBwQHCIEMjcwNikAAAAAADiSQAoTCB0QHSIENDIwMSkAAAAAACiKQAoTCB4QHiIENzcwOSkAAAAAANiIQAoTCB8QHyIENzcxMCkAAAAAAMiFQAoTCCAQICIENzEwMykAAAAAAICDQAoTCCEQISIENTEwMSkAAAAAAFB7QAoTCCIQIiIENzcwMSkAAAAAACB2QAoTCCMQIyIEODcwOCkAAAAAACBrQAoTCCQQJCIEMzUwMikAAAAAACBgQAoTCCUQJSIEODcwNykAAAAAAMBXQAoTCCYQJiIEMzUwMSkAAAAAAIBSQAoTCCcQJyIENTE1MSkAAAAAAAAIQEILCglTb2lsX1R5cGUaqQcanAcKuAIIpKcaGAEgAS0AAIA/MqQCGhsJAAAAAAAA8D8RAAAAAAAA8D8hZmZmZqYL5UAaGwkAAAAAAADwPxEAAAAAAADwPyFmZmZmpgvlQBobCQAAAAAAAPA/EQAAAAAAAPA/IWZmZmamC+VAGhsJAAAAAAAA8D8RAAAAAAAA8D8hZmZmZqYL5UAaGwkAAAAAAADwPxEAAAAAAADwPyFmZmZmpgvlQBobCQAAAAAAAPA/EQAAAAAAAPA/IWZmZmamC+VAGhsJAAAAAAAA8D8RAAAAAAAA8D8hZmZmZqYL5UAaGwkAAAAAAADwPxEAAAAAAADwPyFmZmZmpgvlQBobCQAAAAAAAPA/EQAAAAAAAPA/IWZmZmamC+VAGhsJAAAAAAAA8D8RAAAAAAAA8D8hZmZmZqYL5UAgAUCkpxoR3SrvJFZ1Y0AZHK4HmwH5W0AgqhwxAAAAAADAX0A5AAAAAACAdkBCmQIaEhEAAAAAAABCQCGoxks3mVvvQBobCQAAAAAAAEJAEQAAAAAAAFJAIaJFtvNdavBAGhsJAAAAAAAAUkARAAAAAAAAW0AhcT0K11Np7EAaGwkAAAAAAABbQBEAAAAAAABiQCEtsp3vJ+PlQBobCQAAAAAAAGJAEQAAAAAAgGZAIZmZmZl5kd9AGhsJAAAAAACAZkARAAAAAAAAa0AhuB6F6/Fb20AaGwkAAAAAAABrQBEAAAAAAIBvQCEQWDm06E7WQBobCQAAAAAAgG9AEQAAAAAAAHJAIUfhehQuQdlAGhsJAAAAAAAAckARAAAAAABAdEAhE4PAyiGF4kAaGwkAAAAAAEB0QBEAAAAAAIB2QCGPwvUozDPoQEKbAhoSEQAAAAAAADhAIWZmZmamC+VAGhsJAAAAAAAAOEARAAAAAACAR0AhZmZmZqYL5UAaGwkAAAAAAIBHQBEAAAAAAIBRQCFmZmZmpgvlQBobCQAAAAAAgFFAEQAAAAAAAFhAIWZmZmamC+VAGhsJAAAAAAAAWEARAAAAAADAX0AhZmZmZqYL5UAaGwkAAAAAAMBfQBEAAAAAACBlQCFmZmZmpgvlQBobCQAAAAAAIGVAEfT/////P2xAIWZmZmamC+VAGhsJ9P////8/bEAR+f////8PckAhZmZmZqYL5UAaGwn5/////w9yQBH4/////490QCFmZmZmpgvlQBobCfj/////j3RAEQAAAAAAgHZAIWZmZmamC+VAIAFCCAoGQXNwZWN0GsQHGrQHCrgCCKSnGhgBIAEtAACAPzKkAhobCQAAAAAAAPA/EQAAAAAAAPA/IWZmZmamC+VAGhsJAAAAAAAA8D8RAAAAAAAA8D8hZmZmZqYL5UAaGwkAAAAAAADwPxEAAAAAAADwPyFmZmZmpgvlQBobCQAAAAAAAPA/EQAAAAAAAPA/IWZmZmamC+VAGhsJAAAAAAAA8D8RAAAAAAAA8D8hZmZmZqYL5UAaGwkAAAAAAADwPxEAAAAAAADwPyFmZmZmpgvlQBobCQAAAAAAAPA/EQAAAAAAAPA/IWZmZmamC+VAGhsJAAAAAAAA8D8RAAAAAAAA8D8hZmZmZqYL5UAaGwkAAAAAAADwPxEAAAAAAADwPyFmZmZmpgvlQBobCQAAAAAAAPA/EQAAAAAAAPA/IWZmZmamC+VAIAFApKcaEQN/87biHqdAGZAdn5a5g3FAKQAAAAAADJ1AMQAAAAAAaKdAOQAAAAAAJK5AQqICGhsJAAAAAAAMnUARzczMzMwVoEAhFJwzolxyoUAaGwnNzMzMzBWgQBGamZmZmaWhQCHGMJkqlDi/QBobCZqZmZmZpaFAEWZmZmZmNaNAIeTAOSMqFNBAGhsJZmZmZmY1o0ARMzMzMzPFpEAhivcJjWMf4EAaGwkzMzMzM8WkQBEAAAAAAFWmQCF5n9DYONXwQBobCQAAAAAAVaZAEc3MzMzM5KdAIe+ePCy4qf9AGhsJzczMzMzkp0ARmpmZmZl0qUAh6B2n6MTf/UAaGwmamZmZmXSpQBFmZmZmZgSrQCGTiplAGBDnQBobCWZmZmZmBKtAETQzMzMzlKxAIU+py5CSVKRAGhsJNDMzMzOUrEARAAAAAAAkrkAhNC/laeYAfUBCpAIaGwkAAAAAAAydQBEAAAAAACqkQCFmZmZmpgvlQBobCQAAAAAAKqRAEQAAAAAAfqVAIWZmZmamC+VAGhsJAAAAAAB+pUARAAAAAABYpkAhZmZmZqYL5UAaGwkAAAAAAFimQBEAAAAAAPSmQCFmZmZmpgvlQBobCQAAAAAA9KZAEf//////Z6dAIWZmZmamC+VAGhsJ//////9np0AR///////lp0AhZmZmZqYL5UAaGwn//////+WnQBH//////3GoQCFmZmZmpgvlQBobCf//////cahAEf//////+6hAIWZmZmamC+VAGhsJ///////7qEAR//////+RqUAhZmZmZqYL5UAaGwn//////5GpQBEAAAAAACSuQCFmZmZmpgvlQCABQgsKCUVsZXZhdGlvbhqwBxqcBwq4AgikpxoYASABLQAAgD8ypAIaGwkAAAAAAADwPxEAAAAAAADwPyFmZmZmpgvlQBobCQAAAAAAAPA/EQAAAAAAAPA/IWZmZmamC+VAGhsJAAAAAAAA8D8RAAAAAAAA8D8hZmZmZqYL5UAaGwkAAAAAAADwPxEAAAAAAADwPyFmZmZmpgvlQBobCQAAAAAAAPA/EQAAAAAAAPA/IWZmZmamC+VAGhsJAAAAAAAA8D8RAAAAAAAA8D8hZmZmZqYL5UAaGwkAAAAAAADwPxEAAAAAAADwPyFmZmZmpgvlQBobCQAAAAAAAPA/EQAAAAAAAPA/IWZmZmamC+VAGhsJAAAAAAAA8D8RAAAAAAAA8D8hZmZmZqYL5UAaGwkAAAAAAADwPxEAAAAAAADwPyFmZmZmpgvlQCABQKSnGhEKqJ8nys9hQBlJDdxmsydDQCDwBzEAAAAAAOBhQDkAAAAAAMBvQEKZAhoSEWZmZmZmZjlAIXd/vFetbqBAGhsJZmZmZmZmOUARZmZmZmZmSUAhYrSOqqZiskAaGwlmZmZmZmZJQBHMzMzMzAxTQCGJ/WX3ZEbLQBobCczMzMzMDFNAEWZmZmZmZllAIaXfvg6MIeFAGhsJZmZmZmZmWUARAAAAAADAX0AhRdjw9AoJ9EAaGwkAAAAAAMBfQBHMzMzMzAxjQCGGONbF/Vj+QBobCczMzMzMDGNAEZmZmZmZOWZAIT0s1JreCPZAGhsJmZmZmZk5ZkARZmZmZmZmaUAh5j+k335x60AaGwlmZmZmZmZpQBEzMzMzM5NsQCG5QILiB1rSQBobCTMzMzMzk2xAEQAAAAAAwG9AIUOC4seYnKtAQpsCGhIRAAAAAADAV0AhZmZmZqYL5UAaGwkAAAAAAMBXQBEAAAAAAEBcQCFmZmZmpgvlQBobCQAAAAAAQFxAEfb/////P19AIWZmZmamC+VAGhsJ9v////8/X0ARAAAAAADAYEAhZmZmZqYL5UAaGwkAAAAAAMBgQBEAAAAAAOBhQCFmZmZmpgvlQBobCQAAAAAA4GFAEQAAAAAAAGNAIWZmZmamC+VAGhsJAAAAAAAAY0ARAAAAAABAZEAhZmZmZqYL5UAaGwkAAAAAAEBkQBEAAAAAAOBlQCFmZmZmpgvlQBobCQAAAAAA4GVAEQAAAAAA4GdAIWZmZmamC+VAGhsJAAAAAADgZ0ARAAAAAADAb0AhZmZmZqYL5UAgAUIPCg1IaWxsc2hhZGVfM3BtGq8HGpsHCrgCCKSnGhgBIAEtAACAPzKkAhobCQAAAAAAAPA/EQAAAAAAAPA/IWZmZmamC+VAGhsJAAAAAAAA8D8RAAAAAAAA8D8hZmZmZqYL5UAaGwkAAAAAAADwPxEAAAAAAADwPyFmZmZmpgvlQBobCQAAAAAAAPA/EQAAAAAAAPA/IWZmZmamC+VAGhsJAAAAAAAA8D8RAAAAAAAA8D8hZmZmZqYL5UAaGwkAAAAAAADwPxEAAAAAAADwPyFmZmZmpgvlQBobCQAAAAAAAPA/EQAAAAAAAPA/IWZmZmamC+VAGhsJAAAAAAAA8D8RAAAAAAAA8D8hZmZmZqYL5UAaGwkAAAAAAADwPxEAAAAAAADwPyFmZmZmpgvlQBobCQAAAAAAAPA/EQAAAAAAAPA/IWZmZmamC+VAIAFApKcaEUXdYvslhWpAGQhrJ4GKxTpAIAkxAAAAAABAa0A5AAAAAADAb0BCmQIaEhFmZmZmZmY5QCHND5jWCGleQBobCWZmZmZmZjlAEWZmZmZmZklAIc4PmNYIaV5AGhsJZmZmZmZmSUARzMzMzMwMU0Ahzg+Y1ghpXkAaGwnMzMzMzAxTQBFmZmZmZmZZQCEjpaDbSyCDQBobCWZmZmZmZllAEQAAAAAAwF9AIUdsnaVRCqpAGhsJAAAAAADAX0ARzMzMzMwMY0Ah3TYawFs5xkAaGwnMzMzMzAxjQBGZmZmZmTlmQCG+UpYhTsrcQBobCZmZmZmZOWZAEWZmZmZmZmlAIYUNT698+/RAGhsJZmZmZmZmaUARMzMzMzOTbEAhR3L5DznABEEaGwkzMzMzM5NsQBEAAAAAAMBvQCGpE9BEMLf/QEKbAhoSEQAAAAAAAGZAIWZmZmamC+VAGhsJAAAAAAAAZkARAAAAAAAgaEAhZmZmZqYL5UAaGwkAAAAAACBoQBEAAAAAAGBpQCFmZmZmpgvlQBobCQAAAAAAYGlAEQAAAAAAYGpAIWZmZmamC+VAGhsJAAAAAABgakARAAAAAABAa0AhZmZmZqYL5UAaGwkAAAAAAEBrQBEAAAAAAOBrQCFmZmZmpgvlQBobCQAAAAAA4GtAEQAAAAAAoGxAIWZmZmamC+VAGhsJAAAAAACgbEARAAAAAABAbUAhZmZmZqYL5UAaGwkAAAAAAEBtQBEAAAAAACBuQCFmZmZmpgvlQBobCQAAAAAAIG5AEQAAAAAAwG9AIWZmZmamC+VAIAFCDwoNSGlsbHNoYWRlXzlhbRqwBxqbBwq4AgikpxoYASABLQAAgD8ypAIaGwkAAAAAAADwPxEAAAAAAADwPyFmZmZmpgvlQBobCQAAAAAAAPA/EQAAAAAAAPA/IWZmZmamC+VAGhsJAAAAAAAA8D8RAAAAAAAA8D8hZmZmZqYL5UAaGwkAAAAAAADwPxEAAAAAAADwPyFmZmZmpgvlQBobCQAAAAAAAPA/EQAAAAAAAPA/IWZmZmamC+VAGhsJAAAAAAAA8D8RAAAAAAAA8D8hZmZmZqYL5UAaGwkAAAAAAADwPxEAAAAAAADwPyFmZmZmpgvlQBobCQAAAAAAAPA/EQAAAAAAAPA/IWZmZmamC+VAGhsJAAAAAAAA8D8RAAAAAAAA8D8hZmZmZqYL5UAaGwkAAAAAAADwPxEAAAAAAADwPyFmZmZmpgvlQCABQKSnGhFGB9PI9+lrQBkK3o95eMwzQCAFMQAAAAAAQGxAOQAAAAAAwG9AQpkCGhIRZmZmZmZmOUAhUPd9O3/kVEAaGwlmZmZmZmY5QBFmZmZmZmZJQCFQ9307f+RUQBobCWZmZmZmZklAEczMzMzMDFNAIVD3fTt/5FRAGhsJzMzMzMwMU0ARZmZmZmZmWUAhUPd9O3/kVEAaGwlmZmZmZmZZQBEAAAAAAMBfQCFQ9307f+RUQBobCQAAAAAAwF9AEczMzMzMDGNAIYOM/u+kfZxAGhsJzMzMzMwMY0ARmZmZmZk5ZkAh6JWyDPHdw0AaGwmZmZmZmTlmQBFmZmZmZmZpQCHoaiv2t6fnQBobCWZmZmZmZmlAETMzMzMzk2xAIbwFEhQT2wVBGhsJMzMzMzOTbEARAAAAAADAb0AhV8oyxDVUB0FCmwIaEhEAAAAAAMBoQCFmZmZmpgvlQBobCQAAAAAAwGhAEQAAAAAAIGpAIWZmZmamC+VAGhsJAAAAAAAgakARAAAAAAAAa0AhZmZmZqYL5UAaGwkAAAAAAABrQBEAAAAAAKBrQCFmZmZmpgvlQBobCQAAAAAAoGtAEQAAAAAAQGxAIWZmZmamC+VAGhsJAAAAAABAbEARAAAAAADAbEAhZmZmZqYL5UAaGwkAAAAAAMBsQBEAAAAAAGBtQCFmZmZmpgvlQBobCQAAAAAAYG1AEQAAAAAAAG5AIWZmZmamC+VAGhsJAAAAAAAAbkARAAAAAADgbkAhZmZmZqYL5UAaGwkAAAAAAOBuQBEAAAAAAMBvQCFmZmZmpgvlQCABQhAKDkhpbGxzaGFkZV9Ob29uGsQHGpsHCrgCCKSnGhgBIAEtAACAPzKkAhobCQAAAAAAAPA/EQAAAAAAAPA/IWZmZmamC+VAGhsJAAAAAAAA8D8RAAAAAAAA8D8hZmZmZqYL5UAaGwkAAAAAAADwPxEAAAAAAADwPyFmZmZmpgvlQBobCQAAAAAAAPA/EQAAAAAAAPA/IWZmZmamC+VAGhsJAAAAAAAA8D8RAAAAAAAA8D8hZmZmZqYL5UAaGwkAAAAAAADwPxEAAAAAAADwPyFmZmZmpgvlQBobCQAAAAAAAPA/EQAAAAAAAPA/IWZmZmamC+VAGhsJAAAAAAAA8D8RAAAAAAAA8D8hZmZmZqYL5UAaGwkAAAAAAADwPxEAAAAAAADwPyFmZmZmpgvlQBobCQAAAAAAAPA/EQAAAAAAAPA/IWZmZmamC+VAIAFApKcaEYblRzql755AGY9eMhHytpRAICkxAAAAAAC4mkA5AAAAAAAFvEBCmQIaEhFmZmZmZmqGQCESa/EpmLrtQBobCWZmZmZmaoZAEWZmZmZmapZAIW7A54frc/tAGhsJZmZmZmZqlkARzMzMzMzPoEAhcPkP6VIN+UAaGwnMzMzMzM+gQBFmZmZmZmqmQCEM16NwDODyQBobCWZmZmZmaqZAEQAAAAAABaxAIWuhVR5lCt5AGhsJAAAAAAAFrEARzMzMzMzPsEAhhNFWWWm1zUAaGwnMzMzMzM+wQBGZmZmZGZ2zQCHWhmdhTDHGQBobCZmZmZkZnbNAEWZmZmZmarZAIVXTxXHs/MJAGhsJZmZmZmZqtkARMzMzM7M3uUAhjIakH6vgwEAaGwkzMzMzsze5QBEAAAAAAAW8QCFiXScKwxCgQEKbAhoSEf//////j4JAIWZmZmamC+VAGhsJ//////+PgkAR//////+Xi0AhZmZmZqYL5UAaGwn//////5eLQBH+/////xeSQCFmZmZmpgvlQBobCf7/////F5JAEfz/////V5ZAIWZmZmamC+VAGhsJ/P////9XlkAR/v////+3mkAhZmZmZqYL5UAaGwn+/////7eaQBH9/////4OfQCFmZmZmpgvlQBobCf3/////g59AEfz/////c6JAIWZmZmamC+VAGhsJ/P////9zokAR/f////+RpUAhZmZmZqYL5UAaGwn9/////5GlQBHt/////02tQCFmZmZmpgvlQBobCe3/////Ta1AEQAAAAAABbxAIWZmZmamC+VAIAFCJAoiSG9yaXpvbnRhbF9EaXN0YW5jZV9Ub19GaXJlX1BvaW50cxrJBxABGqAHCrsCCPzgGRCoRhgBIAEtAACAPzKkAhobCQAAAAAAAPA/EQAAAAAAAPA/IWZmZmYmm+RAGhsJAAAAAAAA8D8RAAAAAAAA8D8hZmZmZiab5EAaGwkAAAAAAADwPxEAAAAAAADwPyFmZmZmJpvkQBobCQAAAAAAAPA/EQAAAAAAAPA/IWZmZmYmm+RAGhsJAAAAAAAA8D8RAAAAAAAA8D8hZmZmZiab5EAaGwkAAAAAAADwPxEAAAAAAADwPyFmZmZmJpvkQBobCQAAAAAAAPA/EQAAAAAAAPA/IWZmZmYmm+RAGhsJAAAAAAAA8D8RAAAAAAAA8D8hZmZmZiab5EAaGwkAAAAAAADwPxEAAAAAAADwPyFmZmZmJpvkQBobCQAAAAAAAPA/EQAAAAAAAPA/IWZmZmYmm+RAIAFA/OAZEUsNR6L+2HBAGU7o/rFai2pAINeKATEAAAAAAEBrQDkAAAAAANSVQEKZAhoSEWZmZmZmdmFAIamkTiAi3QBBGhsJZmZmZmZ2YUARZmZmZmZ2cUAhwoanlzyL/EAaGwlmZmZmZnZxQBGZmZmZmTF6QCEOT6+U96nyQBobCZmZmZmZMXpAEWZmZmZmdoFAIW6jAbwBQedAGhsJZmZmZmZ2gUARAAAAAADUhUAhQVdbsVcE10AaGwkAAAAAANSFQBGZmZmZmTGKQCG8DeKhw8rFQBobCZmZmZmZMYpAETIzMzMzj45AIVjx0ZOQlLNAGhsJMjMzMzOPjkARZmZmZmZ2kUAh5IyH5NFioUAaGwlmZmZmZnaRQBEzMzMzM6WTQCE4ehaudbaDQBobCTMzMzMzpZNAEQAAAAAA1JVAIVovb7rQi3FAQpsCGhIRAAAAAAAAPkAhZmZmZiab5EAaGwkAAAAAAAA+QBEAAAAAAEBVQCFmZmZmJpvkQBobCQAAAAAAQFVAEQAAAAAAAF9AIWZmZmYmm+RAGhsJAAAAAAAAX0ARAAAAAADgZUAhZmZmZiab5EAaGwkAAAAAAOBlQBEAAAAAAEBrQCFmZmZmJpvkQBobCQAAAAAAQGtAEQAAAAAAUHFAIWZmZmYmm+RAGhsJAAAAAABQcUARAAAAAABgdUAhZmZmZiab5EAaGwkAAAAAAGB1QBEAAAAAAOB6QCFmZmZmJpvkQBobCQAAAAAA4HpAEfD/////n4FAIWZmZmYmm+RAGhsJ8P////+fgUARAAAAAADUlUAhZmZmZiab5EAgAUIiCiBIb3Jpem9udGFsX0Rpc3RhbmNlX1RvX0h5ZHJvbG9neRrBBxqbBwq4AgikpxoYASABLQAAgD8ypAIaGwkAAAAAAADwPxEAAAAAAADwPyFmZmZmpgvlQBobCQAAAAAAAPA/EQAAAAAAAPA/IWZmZmamC+VAGhsJAAAAAAAA8D8RAAAAAAAA8D8hZmZmZqYL5UAaGwkAAAAAAADwPxEAAAAAAADwPyFmZmZmpgvlQBobCQAAAAAAAPA/EQAAAAAAAPA/IWZmZmamC+VAGhsJAAAAAAAA8D8RAAAAAAAA8D8hZmZmZqYL5UAaGwkAAAAAAADwPxEAAAAAAADwPyFmZmZmpgvlQBobCQAAAAAAAPA/EQAAAAAAAPA/IWZmZmamC+VAGhsJAAAAAAAA8D8RAAAAAAAA8D8hZmZmZqYL5UAaGwkAAAAAAADwPxEAAAAAAADwPyFmZmZmpgvlQCABQKSnGhFQxnB0hVyiQBnhqUg9bVuYQCBWMQAAAAAAPJ9AOQAAAAAAzbtAQpkCGhIRmpmZmZk9hkAhl1taDZHv60AaGwmamZmZmT2GQBGamZmZmT2WQCEZLpjlLOn2QBobCZqZmZmZPZZAETQzMzMzrqBAIYdXpQdlDfNAGhsJNDMzMzOuoEARmpmZmZk9pkAh7LH0ofE37UAaGwmamZmZmT2mQBEAAAAAAM2rQCG3OMiv+CfnQBobCQAAAAAAzatAETQzMzMzrrBAIUvte4XbQd9AGhsJNDMzMzOusEARZ2ZmZuZ1s0AhQNHkrS7J2EAaGwlnZmZm5nWzQBGamZmZmT22QCF5S1jQOMPVQBobCZqZmZmZPbZAEc3MzMxMBblAIcsBlVs9fcpAGhsJzczMzEwFuUARAAAAAADNu0AhjyJ9tf0tlkBCmwIaEhH8/////3eCQCFmZmZmpgvlQBobCfz/////d4JAEQAAAAAAcI1AIWZmZmamC+VAGhsJAAAAAABwjUAR//////+zk0AhZmZmZqYL5UAaGwn//////7OTQBH9/////+uYQCFmZmZmpgvlQBobCf3/////65hAEfj/////O59AIWZmZmamC+VAGhsJ+P////87n0AR/P////89o0AhZmZmZqYL5UAaGwn8/////z2jQBH7/////5GnQCFmZmZmpgvlQBobCfv/////kadAEff/////M61AIWZmZmamC+VAGhsJ9/////8zrUAR+v////+1skAhZmZmZqYL5UAaGwn6/////7WyQBEAAAAAAM27QCFmZmZmpgvlQCABQiEKH0hvcml6b250YWxfRGlzdGFuY2VfVG9fUm9hZHdheXMaqAcanAcKuAIIpKcaGAEgAS0AAIA/MqQCGhsJAAAAAAAA8D8RAAAAAAAA8D8hZmZmZqYL5UAaGwkAAAAAAADwPxEAAAAAAADwPyFmZmZmpgvlQBobCQAAAAAAAPA/EQAAAAAAAPA/IWZmZmamC+VAGhsJAAAAAAAA8D8RAAAAAAAA8D8hZmZmZqYL5UAaGwkAAAAAAADwPxEAAAAAAADwPyFmZmZmpgvlQBobCQAAAAAAAPA/EQAAAAAAAPA/IWZmZmamC+VAGhsJAAAAAAAA8D8RAAAAAAAA8D8hZmZmZqYL5UAaGwkAAAAAAADwPxEAAAAAAADwPyFmZmZmpgvlQBobCQAAAAAAAPA/EQAAAAAAAPA/IWZmZmamC+VAGhsJAAAAAAAA8D8RAAAAAAAA8D8hZmZmZqYL5UAgAUCkpxoRY5f/y385LEAZEXJfQJP9HUAg9wMxAAAAAAAAKkA5AAAAAABAUEBCmQIaEhEAAAAAAAAaQCFMN4lB6NTuQBobCQAAAAAAABpAEQAAAAAAACpAIU1iEFirLQFBGhsJAAAAAAAAKkARAAAAAACAM0AhAAAAABpxAEEaGwkAAAAAAIAzQBEAAAAAAAA6QCEyCKwc4nbrQBobCQAAAAAAADpAEQAAAAAAQEBAIeSlm8RQutpAGhsJAAAAAABAQEARAAAAAACAQ0AhKVyPwrV2vUAaGwkAAAAAAIBDQBEAAAAAAMBGQCHKvDZmBXiMQBobCQAAAAAAwEZAEQAAAAAAAEpAIeTrE4sL1l9AGhsJAAAAAAAASkARAAAAAABATUAh5OsTiwvWX0AaGwkAAAAAAEBNQBEAAAAAAEBQQCHk6xOLC9ZfQEKbAhoSEQAAAAAAABRAIWZmZmamC+VAGhsJAAAAAAAAFEARAAAAAAAAIEAhZmZmZqYL5UAaGwkAAAAAAAAgQBEAAAAAAAAkQCFmZmZmpgvlQBobCQAAAAAAACRAEQAAAAAAACZAIWZmZmamC+VAGhsJAAAAAAAAJkARAAAAAAAAKkAhZmZmZqYL5UAaGwkAAAAAAAAqQBEAAAAAAAAuQCFmZmZmpgvlQBobCQAAAAAAAC5AEQAAAAAAADFAIWZmZmamC+VAGhsJAAAAAAAAMUARAAAAAAAANEAhZmZmZqYL5UAaGwkAAAAAAAA0QBGB//////84QCFmZmZmpgvlQBobCYH//////zhAEQAAAAAAQFBAIWZmZmamC+VAIAFCBwoFU2xvcGUaywcapgcKuAIIpKcaGAEgAS0AAIA/MqQCGhsJAAAAAAAA8D8RAAAAAAAA8D8hZmZmZqYL5UAaGwkAAAAAAADwPxEAAAAAAADwPyFmZmZmpgvlQBobCQAAAAAAAPA/EQAAAAAAAPA/IWZmZmamC+VAGhsJAAAAAAAA8D8RAAAAAAAA8D8hZmZmZqYL5UAaGwkAAAAAAADwPxEAAAAAAADwPyFmZmZmpgvlQBobCQAAAAAAAPA/EQAAAAAAAPA/IWZmZmamC+VAGhsJAAAAAAAA8D8RAAAAAAAA8D8hZmZmZqYL5UAaGwkAAAAAAADwPxEAAAAAAADwPyFmZmZmpgvlQBobCQAAAAAAAPA/EQAAAAAAAPA/IWZmZmamC+VAGhsJAAAAAAAA8D8RAAAAAAAA8D8hZmZmZqYL5UAgAUCkpxoRfEIwD282R0AZ5/BEwEYkTUAg3d4BKQAAAAAAoGXAMQAAAAAAAD5AOQAAAAAAyIJAQqICGhsJAAAAAACgZcARZmZmZmbmV8Ahiowj5Qm3gkAaGwlmZmZmZuZXwBEwMzMzMzMywCGZznt7oDvGQBobCTAzMzMzMzLAEZyZmZmZmU1AIUm/fR3+0RFBGhsJnJmZmZmZTUARNDMzMzMTYUAhi47k8m/F9kAaGwk0MzMzMxNhQBEAAAAAAMBqQCHPubVfsbjYQBobCQAAAAAAwGpAEWdmZmZmNnJAIS/880fL47hAGhsJZ2ZmZmY2ckARzszMzMwMd0AhJ1GtPH+3mUAaGwnOzMzMzAx3QBE0MzMzM+N7QCHXvoxR9RllQBobCTQzMzMz43tAEc3MzMzMXIBAIRSMieJvIWJAGhsJzczMzMxcgEARAAAAAADIgkAhGIyJ4m8hYkBCkgIaEgkAAAAAAKBlwCFmZmZmpgvlQBoSEQAAAAAAAAhAIWZmZmamC+VAGhsJAAAAAAAACEARrv//////JUAhZmZmZqYL5UAaGwmu//////8lQBEAAAAAAAAzQCFmZmZmpgvlQBobCQAAAAAAADNAEbr//////z1AIWZmZmamC+VAGhsJuv//////PUARAAAAAAAARUAhZmZmZqYL5UAaGwkAAAAAAABFQBHP/////39NQCFmZmZmpgvlQBobCc//////f01AEQAAAAAAQFRAIWZmZmamC+VAGhsJAAAAAABAVEAR4P////9/XkAhZmZmZqYL5UAaGwng/////39eQBEAAAAAAMiCQCFmZmZmpgvlQCABQiAKHlZlcnRpY2FsX0Rpc3RhbmNlX1RvX0h5ZHJvbG9neRqABBACIugDCrgCCKSnGhgBIAEtAACAPzKkAhobCQAAAAAAAPA/EQAAAAAAAPA/IWZmZmamC+VAGhsJAAAAAAAA8D8RAAAAAAAA8D8hZmZmZqYL5UAaGwkAAAAAAADwPxEAAAAAAADwPyFmZmZmpgvlQBobCQAAAAAAAPA/EQAAAAAAAPA/IWZmZmamC+VAGhsJAAAAAAAA8D8RAAAAAAAA8D8hZmZmZqYL5UAaGwkAAAAAAADwPxEAAAAAAADwPyFmZmZmpgvlQBobCQAAAAAAAPA/EQAAAAAAAPA/IWZmZmamC+VAGhsJAAAAAAAA8D8RAAAAAAAA8D8hZmZmZqYL5UAaGwkAAAAAAADwPxEAAAAAAADwPyFmZmZmpgvlQBobCQAAAAAAAPA/EQAAAAAAAPA/IWZmZmamC+VAIAFApKcaEAQaEBIFUmF3YWgZAAAAACChB0EaFBIJQ29tbWFuY2hlGQAAAAB47QZBGhASBUNhY2hlGQAAAACAyNpAGhASBU5lb3RhGQAAAADAq9VAJWHH10AqWAoQIgVSYXdhaCkAAAAAIKEHQQoYCAEQASIJQ29tbWFuY2hlKQAAAAB47QZBChQIAhACIgVDYWNoZSkAAAAAgMjaQAoUCAMQAyIFTmVvdGEpAAAAAMCr1UBCEQoPV2lsZGVybmVzc19BcmVh\"></facets-overview>';\n",
       "        facets_iframe.srcdoc = facets_html;\n",
       "         facets_iframe.id = \"\";\n",
       "         setTimeout(() => {\n",
       "           facets_iframe.setAttribute('height', facets_iframe.contentWindow.document.body.offsetHeight + 'px')\n",
       "         }, 1500)\n",
       "         </script>"
      ],
      "text/plain": [
       "<IPython.core.display.HTML object>"
      ]
     },
     "metadata": {},
     "output_type": "display_data"
    }
   ],
   "source": [
    "tfdv.visualize_statistics(lhs_statistics=eval_stats, rhs_statistics=train_stats,\n",
    "                         lhs_name='EVAL DATASET', rhs_name='TRAIN_DATASET')"
   ]
  },
  {
   "cell_type": "code",
   "execution_count": null,
   "metadata": {},
   "outputs": [],
   "source": [
    "stats_options = tfdv.StatsOptions(schema=schema, infer_type_from_schema=True)\n",
    "\n",
    "train_stats = tfdv.generate_statistics_from_csv(\n",
    "    data_location=SERVING_DATASET,\n",
    "    stats_options=stats_options\n",
    ")\n",
    "\n",
    "tfdv.visualize_statistics(train_stats)"
   ]
  },
  {
   "cell_type": "code",
   "execution_count": null,
   "metadata": {},
   "outputs": [],
   "source": [
    "#schema = schema_pb2.Schema()\n",
    "\n",
    "#schema.feature.add(name='Elevation', type=schema_pb2.FeatureType.FLOAT)\n",
    "#schema.feature.add(name='Aspect', type=schema_pb2.FeatureType.FLOAT)\n",
    "#schema.feature.add(name='Slope', type=schema_pb2.FeatureType.FLOAT)\n",
    "#schema.feature.add(name='Horizontal_Distance_To_Hydrology', type=schema_pb2.FeatureType.FLOAT)\n",
    "#schema.feature.add(name='Vertical_Distance_To_Hydrology', type=schema_pb2.FeatureType.FLOAT)\n",
    "#schema.feature.add(name='Horizontal_Distance_To_Roadways', type=schema_pb2.FeatureType.FLOAT)\n",
    "#schema.feature.add(name='Hillshade_9am', type=schema_pb2.FeatureType.FLOAT)\n",
    "#schema.feature.add(name='Hillshade_Noon', type=schema_pb2.FeatureType.FLOAT)\n",
    "#schema.feature.add(name='Hillshade_3pm', type=schema_pb2.FeatureType.FLOAT)\n",
    "#schema.feature.add(name='Horizontal_Distance_To_Fire_Points', type=schema_pb2.FeatureType.FLOAT)\n",
    "\n",
    "#schema.feature.add(name='Wilderness_Area', type=schema_pb2.FeatureType.BYTES)\n",
    "#schema.feature.add(name='Soil_Type', type=schema_pb2.FeatureType.BYTES)\n",
    "\n",
    "#schema.feature.add(name='Cover_Type', type=schema_pb2.FeatureType.INT)\n",
    "#tfdv.set_domain(schema, 'Cover_Type', schema_pb2.IntDomain(min=1, max=7, is_categorical=True))"
   ]
  },
  {
   "cell_type": "code",
   "execution_count": 30,
   "metadata": {},
   "outputs": [
    {
     "name": "stdout",
     "output_type": "stream",
     "text": [
      "Collecting gcsfs\n",
      "  Downloading https://files.pythonhosted.org/packages/d8/10/891a143325fb237bd4f990efcd13fac257af8dcd6525f804981eb5f6f632/gcsfs-0.5.3-py2.py3-none-any.whl\n",
      "Requirement already satisfied: google-auth>=1.2 in /root/miniconda3/envs/tfx/lib/python3.6/site-packages (from gcsfs) (1.7.2)\n",
      "Collecting fsspec>=0.6.0\n",
      "\u001b[?25l  Downloading https://files.pythonhosted.org/packages/04/1e/6108c48f2d4ad9ef1a6bff01fb58245c009f37b2bd0505ec6d0f55cc326d/fsspec-0.6.1-py3-none-any.whl (62kB)\n",
      "\u001b[K     |████████████████████████████████| 71kB 5.9MB/s eta 0:00:011\n",
      "\u001b[?25hRequirement already satisfied: requests in /root/miniconda3/envs/tfx/lib/python3.6/site-packages (from gcsfs) (2.22.0)\n",
      "Requirement already satisfied: decorator in /root/miniconda3/envs/tfx/lib/python3.6/site-packages (from gcsfs) (4.4.1)\n",
      "Requirement already satisfied: google-auth-oauthlib in /root/miniconda3/envs/tfx/lib/python3.6/site-packages (from gcsfs) (0.4.1)\n",
      "Requirement already satisfied: setuptools>=40.3.0 in /root/miniconda3/envs/tfx/lib/python3.6/site-packages (from google-auth>=1.2->gcsfs) (42.0.2.post20191203)\n",
      "Requirement already satisfied: cachetools<3.2,>=2.0.0 in /root/miniconda3/envs/tfx/lib/python3.6/site-packages (from google-auth>=1.2->gcsfs) (3.1.1)\n",
      "Requirement already satisfied: rsa<4.1,>=3.1.4 in /root/miniconda3/envs/tfx/lib/python3.6/site-packages (from google-auth>=1.2->gcsfs) (4.0)\n",
      "Requirement already satisfied: pyasn1-modules>=0.2.1 in /root/miniconda3/envs/tfx/lib/python3.6/site-packages (from google-auth>=1.2->gcsfs) (0.2.7)\n",
      "Requirement already satisfied: six>=1.9.0 in /root/miniconda3/envs/tfx/lib/python3.6/site-packages (from google-auth>=1.2->gcsfs) (1.13.0)\n",
      "Requirement already satisfied: chardet<3.1.0,>=3.0.2 in /root/miniconda3/envs/tfx/lib/python3.6/site-packages (from requests->gcsfs) (3.0.4)\n",
      "Requirement already satisfied: idna<2.9,>=2.5 in /root/miniconda3/envs/tfx/lib/python3.6/site-packages (from requests->gcsfs) (2.8)\n",
      "Requirement already satisfied: urllib3!=1.25.0,!=1.25.1,<1.26,>=1.21.1 in /root/miniconda3/envs/tfx/lib/python3.6/site-packages (from requests->gcsfs) (1.25.7)\n",
      "Requirement already satisfied: certifi>=2017.4.17 in /root/miniconda3/envs/tfx/lib/python3.6/site-packages (from requests->gcsfs) (2019.11.28)\n",
      "Requirement already satisfied: requests-oauthlib>=0.7.0 in /root/miniconda3/envs/tfx/lib/python3.6/site-packages (from google-auth-oauthlib->gcsfs) (1.3.0)\n",
      "Requirement already satisfied: pyasn1>=0.1.3 in /root/miniconda3/envs/tfx/lib/python3.6/site-packages (from rsa<4.1,>=3.1.4->google-auth>=1.2->gcsfs) (0.4.8)\n",
      "Requirement already satisfied: oauthlib>=3.0.0 in /root/miniconda3/envs/tfx/lib/python3.6/site-packages (from requests-oauthlib>=0.7.0->google-auth-oauthlib->gcsfs) (3.1.0)\n",
      "Installing collected packages: fsspec, gcsfs\n",
      "Successfully installed fsspec-0.6.1 gcsfs-0.5.3\n",
      "Note: you may need to restart the kernel to use updated packages.\n"
     ]
    }
   ],
   "source": [
    "%pip install gcsfs"
   ]
  },
  {
   "cell_type": "code",
   "execution_count": 31,
   "metadata": {},
   "outputs": [],
   "source": [
    "import pandas as pd"
   ]
  },
  {
   "cell_type": "code",
   "execution_count": 32,
   "metadata": {},
   "outputs": [
    {
     "data": {
      "text/html": [
       "<div>\n",
       "<style scoped>\n",
       "    .dataframe tbody tr th:only-of-type {\n",
       "        vertical-align: middle;\n",
       "    }\n",
       "\n",
       "    .dataframe tbody tr th {\n",
       "        vertical-align: top;\n",
       "    }\n",
       "\n",
       "    .dataframe thead th {\n",
       "        text-align: right;\n",
       "    }\n",
       "</style>\n",
       "<table border=\"1\" class=\"dataframe\">\n",
       "  <thead>\n",
       "    <tr style=\"text-align: right;\">\n",
       "      <th></th>\n",
       "      <th>Elevation</th>\n",
       "      <th>Aspect</th>\n",
       "      <th>Slope</th>\n",
       "      <th>Horizontal_Distance_To_Hydrology</th>\n",
       "      <th>Vertical_Distance_To_Hydrology</th>\n",
       "      <th>Horizontal_Distance_To_Roadways</th>\n",
       "      <th>Hillshade_9am</th>\n",
       "      <th>Hillshade_Noon</th>\n",
       "      <th>Hillshade_3pm</th>\n",
       "      <th>Horizontal_Distance_To_Fire_Points</th>\n",
       "      <th>Wilderness_Area</th>\n",
       "      <th>Soil_Type</th>\n",
       "      <th>Cover_Type</th>\n",
       "    </tr>\n",
       "  </thead>\n",
       "  <tbody>\n",
       "    <tr>\n",
       "      <th>0</th>\n",
       "      <td>3051</td>\n",
       "      <td>7</td>\n",
       "      <td>8</td>\n",
       "      <td>0</td>\n",
       "      <td>0</td>\n",
       "      <td>2568</td>\n",
       "      <td>211</td>\n",
       "      <td>225</td>\n",
       "      <td>151</td>\n",
       "      <td>778</td>\n",
       "      <td>Commanche</td>\n",
       "      <td>7202</td>\n",
       "      <td>1</td>\n",
       "    </tr>\n",
       "    <tr>\n",
       "      <th>1</th>\n",
       "      <td>2820</td>\n",
       "      <td>212</td>\n",
       "      <td>15</td>\n",
       "      <td>127</td>\n",
       "      <td>22</td>\n",
       "      <td>3679</td>\n",
       "      <td>205</td>\n",
       "      <td>253</td>\n",
       "      <td>180</td>\n",
       "      <td>3237</td>\n",
       "      <td>Rawah</td>\n",
       "      <td>7746</td>\n",
       "      <td>2</td>\n",
       "    </tr>\n",
       "    <tr>\n",
       "      <th>2</th>\n",
       "      <td>2288</td>\n",
       "      <td>2</td>\n",
       "      <td>30</td>\n",
       "      <td>134</td>\n",
       "      <td>18</td>\n",
       "      <td>626</td>\n",
       "      <td>165</td>\n",
       "      <td>170</td>\n",
       "      <td>130</td>\n",
       "      <td>601</td>\n",
       "      <td>Cache</td>\n",
       "      <td>4703</td>\n",
       "      <td>6</td>\n",
       "    </tr>\n",
       "    <tr>\n",
       "      <th>3</th>\n",
       "      <td>3155</td>\n",
       "      <td>31</td>\n",
       "      <td>13</td>\n",
       "      <td>256</td>\n",
       "      <td>11</td>\n",
       "      <td>3079</td>\n",
       "      <td>216</td>\n",
       "      <td>210</td>\n",
       "      <td>128</td>\n",
       "      <td>3120</td>\n",
       "      <td>Commanche</td>\n",
       "      <td>7700</td>\n",
       "      <td>2</td>\n",
       "    </tr>\n",
       "    <tr>\n",
       "      <th>4</th>\n",
       "      <td>2945</td>\n",
       "      <td>90</td>\n",
       "      <td>11</td>\n",
       "      <td>127</td>\n",
       "      <td>13</td>\n",
       "      <td>3637</td>\n",
       "      <td>237</td>\n",
       "      <td>223</td>\n",
       "      <td>116</td>\n",
       "      <td>6449</td>\n",
       "      <td>Rawah</td>\n",
       "      <td>7745</td>\n",
       "      <td>2</td>\n",
       "    </tr>\n",
       "  </tbody>\n",
       "</table>\n",
       "</div>"
      ],
      "text/plain": [
       "   Elevation  Aspect  Slope  Horizontal_Distance_To_Hydrology  \\\n",
       "0  3051       7       8      0                                  \n",
       "1  2820       212     15     127                                \n",
       "2  2288       2       30     134                                \n",
       "3  3155       31      13     256                                \n",
       "4  2945       90      11     127                                \n",
       "\n",
       "   Vertical_Distance_To_Hydrology  Horizontal_Distance_To_Roadways  \\\n",
       "0  0                               2568                              \n",
       "1  22                              3679                              \n",
       "2  18                              626                               \n",
       "3  11                              3079                              \n",
       "4  13                              3637                              \n",
       "\n",
       "   Hillshade_9am  Hillshade_Noon  Hillshade_3pm  \\\n",
       "0  211            225             151             \n",
       "1  205            253             180             \n",
       "2  165            170             130             \n",
       "3  216            210             128             \n",
       "4  237            223             116             \n",
       "\n",
       "   Horizontal_Distance_To_Fire_Points Wilderness_Area  Soil_Type  Cover_Type  \n",
       "0  778                                 Commanche       7202       1           \n",
       "1  3237                                Rawah           7746       2           \n",
       "2  601                                 Cache           4703       6           \n",
       "3  3120                                Commanche       7700       2           \n",
       "4  6449                                Rawah           7745       2           "
      ]
     },
     "execution_count": 32,
     "metadata": {},
     "output_type": "execute_result"
    }
   ],
   "source": [
    "eval_df = pd.read_csv(EVALUATION_DATASET)\n",
    "eval_df.head()"
   ]
  },
  {
   "cell_type": "code",
   "execution_count": 34,
   "metadata": {},
   "outputs": [
    {
     "data": {
      "text/plain": [
       "array([7202, 7746, 4703, 7700, 7745, 7756, 4744, 4758, 2704, 2703, 7101,\n",
       "       7757, 7755, 2717, 2705, 8772, 7102, 6102, 7702, 8771, 6101, 7790,\n",
       "       7201, 4704, 2702, 7103, 8776, 7709, 7710, 5101, 8703, 3502, 6731,\n",
       "       2706, 4201, 7701, 8708, 3501, 8707])"
      ]
     },
     "execution_count": 34,
     "metadata": {},
     "output_type": "execute_result"
    }
   ],
   "source": [
    "eval_df.Soil_Type.unique()"
   ]
  },
  {
   "cell_type": "code",
   "execution_count": 35,
   "metadata": {},
   "outputs": [
    {
     "data": {
      "text/plain": [
       "39"
      ]
     },
     "execution_count": 35,
     "metadata": {},
     "output_type": "execute_result"
    }
   ],
   "source": [
    "len(eval_df.Soil_Type.unique())"
   ]
  },
  {
   "cell_type": "code",
   "execution_count": 36,
   "metadata": {},
   "outputs": [
    {
     "ename": "NameError",
     "evalue": "name 'unique' is not defined",
     "output_type": "error",
     "traceback": [
      "\u001b[0;31m---------------------------------------------------------------------------\u001b[0m",
      "\u001b[0;31mNameError\u001b[0m                                 Traceback (most recent call last)",
      "\u001b[0;32m<ipython-input-36-716f601ee5da>\u001b[0m in \u001b[0;36m<module>\u001b[0;34m\u001b[0m\n\u001b[1;32m      1\u001b[0m \u001b[0mtrain_df\u001b[0m \u001b[0;34m=\u001b[0m \u001b[0mpd\u001b[0m\u001b[0;34m.\u001b[0m\u001b[0mread_csv\u001b[0m\u001b[0;34m(\u001b[0m\u001b[0mTRAINING_DATASET\u001b[0m\u001b[0;34m)\u001b[0m\u001b[0;34m\u001b[0m\u001b[0;34m\u001b[0m\u001b[0m\n\u001b[0;32m----> 2\u001b[0;31m \u001b[0mtrain_df\u001b[0m\u001b[0;34m.\u001b[0m\u001b[0mSoil_Type\u001b[0m\u001b[0;34m(\u001b[0m\u001b[0munique\u001b[0m\u001b[0;34m)\u001b[0m\u001b[0;34m\u001b[0m\u001b[0;34m\u001b[0m\u001b[0m\n\u001b[0m",
      "\u001b[0;31mNameError\u001b[0m: name 'unique' is not defined"
     ]
    }
   ],
   "source": [
    "train_df = pd.read_csv(TRAINING_DATASET)\n"
   ]
  },
  {
   "cell_type": "code",
   "execution_count": 37,
   "metadata": {},
   "outputs": [
    {
     "data": {
      "text/plain": [
       "array([7202, 7746, 7755, 7756, 2703, 4703, 7745, 2717, 6101, 4758, 7201,\n",
       "       7700, 8771, 8703, 2702, 7102, 7702, 2704, 8707, 4744, 7757, 4704,\n",
       "       2705, 8776, 8772, 7790, 5101, 7103, 7101, 6102, 2706, 7710, 7709,\n",
       "       6731, 7701, 3502, 4201, 8708, 3501, 5151])"
      ]
     },
     "execution_count": 37,
     "metadata": {},
     "output_type": "execute_result"
    }
   ],
   "source": [
    "train_df.Soil_Type.unique()"
   ]
  },
  {
   "cell_type": "code",
   "execution_count": 38,
   "metadata": {},
   "outputs": [
    {
     "data": {
      "text/plain": [
       "40"
      ]
     },
     "execution_count": 38,
     "metadata": {},
     "output_type": "execute_result"
    }
   ],
   "source": [
    "len(train_df.Soil_Type.unique())"
   ]
  },
  {
   "cell_type": "code",
   "execution_count": 39,
   "metadata": {},
   "outputs": [],
   "source": [
    "eval_df = pd.read_csv(EVALUATION_DATASET_WITH_ANOMALIES)"
   ]
  },
  {
   "cell_type": "code",
   "execution_count": 40,
   "metadata": {},
   "outputs": [
    {
     "data": {
      "text/plain": [
       "40"
      ]
     },
     "execution_count": 40,
     "metadata": {},
     "output_type": "execute_result"
    }
   ],
   "source": [
    "len(eval_df.Soil_Type.unique())"
   ]
  },
  {
   "cell_type": "code",
   "execution_count": null,
   "metadata": {},
   "outputs": [],
   "source": []
  }
 ],
 "metadata": {
  "kernelspec": {
   "display_name": "tfx",
   "language": "python",
   "name": "tfx"
  },
  "language_info": {
   "codemirror_mode": {
    "name": "ipython",
    "version": 3
   },
   "file_extension": ".py",
   "mimetype": "text/x-python",
   "name": "python",
   "nbconvert_exporter": "python",
   "pygments_lexer": "ipython3",
   "version": "3.6.9"
  }
 },
 "nbformat": 4,
 "nbformat_minor": 4
}

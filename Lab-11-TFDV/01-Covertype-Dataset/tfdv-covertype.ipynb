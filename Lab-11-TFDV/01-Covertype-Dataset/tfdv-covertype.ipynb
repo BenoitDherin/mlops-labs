{
 "cells": [
  {
   "cell_type": "markdown",
   "metadata": {},
   "source": [
    "# Analyzing data with Tensorflow Data Validation\n",
    "\n",
    "This notebook demonstrates how TensorFlow Data Validation (TFDV) can be used to analyze and validate your data, including generating descriptive statistics, inferring and fine tuning schema, checking for and fixing anomalies, and detecting drift and skew. It's important to understand your dataset's characteristics, including how it might change over time in your production pipeline. It's also important to look for anomalies in your data, and to compare your training, evaluation, and serving datasets to make sure that they're consistent. TFDV is the tool to achieve it.\n",
    "\n",
    "You are going to use a variant of Cover Type dataset. For more information about the dataset refer to [the dataset summary page.](../../datasets/covertype/README.md)"
   ]
  },
  {
   "cell_type": "markdown",
   "metadata": {},
   "source": [
    "## Lab setup\n",
    "### Import packages and check the versions"
   ]
  },
  {
   "cell_type": "code",
   "execution_count": 34,
   "metadata": {},
   "outputs": [
    {
     "name": "stdout",
     "output_type": "stream",
     "text": [
      "TensorFlow version: 1.15.0\n",
      "TensorFlow Data Validation version: 0.15.0\n"
     ]
    }
   ],
   "source": [
    "import tensorflow as tf\n",
    "import tensorflow_data_validation as tfdv\n",
    "from tensorflow_metadata.proto.v0 import schema_pb2\n",
    "\n",
    "print('TensorFlow version: {}'.format(tf.__version__))\n",
    "print('TensorFlow Data Validation version: {}'.format(tfdv.__version__))"
   ]
  },
  {
   "cell_type": "markdown",
   "metadata": {},
   "source": [
    "### Set the locations of the dataset files"
   ]
  },
  {
   "cell_type": "code",
   "execution_count": 35,
   "metadata": {},
   "outputs": [],
   "source": [
    "TRAINING_DATASET='gs://workshop-datasets/covertype/training/covertype_training.csv'\n",
    "TRAINING_DATASET_WITH_MISSING_VALUES='gs://workshop-datasets/covertype/training_missing/covertype_training_missing.csv'\n",
    "EVALUATION_DATASET='gs://workshop-datasets/covertype/evaluation/covertype_evaluation.csv'\n",
    "EVALUATION_DATASET_WITH_ANOMALIES='gs://workshop-datasets/covertype/evaluation_anomalies/covertype_evaluation.csv'\n",
    "SERVING_DATASET='gs://workshop-datasets/covertype/serving/covertype_serving.csv'"
   ]
  },
  {
   "cell_type": "markdown",
   "metadata": {},
   "source": [
    "## Computing and visualizing descriptive statistics\n",
    "\n",
    "First, you use `tfdv.generate_statistics_from_csv` to compute statistics for the training data split. \n",
    "\n",
    "TFDV can compute descriptive statistics that provide a quick overview of the data in terms of the features that are present and the shapes of their value distributions.\n",
    "\n",
    "Internally, TFDV uses Apache Beam's data-parallel processing framework to scale the computation of statistics over large datasets. For applications that wish to integrate deeper with TFDV (e.g., attach statistics generation at the end of a data-generation pipeline), the API also exposes a Beam PTransform for statistics generation.\n",
    "\n",
    "Notice that although your dataset is in Google Cloud Storage you will run you computation locally on the notebook's host, using the Beam DirectRunner. Later in the lab, you will use Cloud Dataflow to calculate statistics on a remote distributed cluster."
   ]
  },
  {
   "cell_type": "code",
   "execution_count": 36,
   "metadata": {},
   "outputs": [],
   "source": [
    "train_stats = tfdv.generate_statistics_from_csv(\n",
    "    data_location=TRAINING_DATASET_WITH_MISSING_VALUES\n",
    ")"
   ]
  },
  {
   "cell_type": "markdown",
   "metadata": {},
   "source": [
    "You can now use `tfdv.visualize_statistics` to create a visualization of your data. `tfdv.visualize_statistics` uses [Facets](https://pair-code.github.io/facets/) that provides succinct, interactive visualizations to aid in understanding and analyzing machine learning datasets."
   ]
  },
  {
   "cell_type": "code",
   "execution_count": 37,
   "metadata": {},
   "outputs": [
    {
     "data": {
      "text/html": [
       "<iframe id='facets-iframe' width=\"100%\" height=\"500px\"></iframe>\n",
       "        <script>\n",
       "        facets_iframe = document.getElementById('facets-iframe');\n",
       "        facets_html = '<link rel=\"import\" href=\"https://raw.githubusercontent.com/PAIR-code/facets/master/facets-dist/facets-jupyter.html\"><facets-overview proto-input=\"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\"></facets-overview>';\n",
       "        facets_iframe.srcdoc = facets_html;\n",
       "         facets_iframe.id = \"\";\n",
       "         setTimeout(() => {\n",
       "           facets_iframe.setAttribute('height', facets_iframe.contentWindow.document.body.offsetHeight + 'px')\n",
       "         }, 1500)\n",
       "         </script>"
      ],
      "text/plain": [
       "<IPython.core.display.HTML object>"
      ]
     },
     "metadata": {},
     "output_type": "display_data"
    }
   ],
   "source": [
    "tfdv.visualize_statistics(train_stats)"
   ]
  },
  {
   "cell_type": "markdown",
   "metadata": {},
   "source": [
    "The interactive widget you see is **Facets Overview**. \n",
    "- Numeric features and categorical features are visualized separately, including charts showing the distributions for each feature.\n",
    "- Features with missing or zero values display a percentage in red as a visual indicator that there may be issues with examples in those features. The percentage is the percentage of examples that have missing or zero values for that feature.\n",
    "- Try clicking \"expand\" above the charts to change the display\n",
    "- Try hovering over bars in the charts to display bucket ranges and counts\n",
    "- Try switching between the log and linear scales\n",
    "- Try selecting \"quantiles\" from the \"Chart to show\" menu, and hover over the markers to show the quantile percentages"
   ]
  },
  {
   "cell_type": "markdown",
   "metadata": {},
   "source": [
    "## Infering Schema\n",
    "Now let's use `tfdv.infer_schema` to create a schema for the data. A schema defines constraints for the data that are relevant for ML. Example constraints include the data type of each feature, whether it's numerical or categorical, or the frequency of its presence in the data. For categorical features the schema also defines the domain - the list of acceptable values. Since writing a schema can be a tedious task, especially for datasets with lots of features, TFDV provides a method to generate an initial version of the schema based on the descriptive statistics."
   ]
  },
  {
   "cell_type": "code",
   "execution_count": 38,
   "metadata": {},
   "outputs": [
    {
     "data": {
      "text/html": [
       "<div>\n",
       "<style scoped>\n",
       "    .dataframe tbody tr th:only-of-type {\n",
       "        vertical-align: middle;\n",
       "    }\n",
       "\n",
       "    .dataframe tbody tr th {\n",
       "        vertical-align: top;\n",
       "    }\n",
       "\n",
       "    .dataframe thead th {\n",
       "        text-align: right;\n",
       "    }\n",
       "</style>\n",
       "<table border=\"1\" class=\"dataframe\">\n",
       "  <thead>\n",
       "    <tr style=\"text-align: right;\">\n",
       "      <th></th>\n",
       "      <th>Type</th>\n",
       "      <th>Presence</th>\n",
       "      <th>Valency</th>\n",
       "      <th>Domain</th>\n",
       "    </tr>\n",
       "    <tr>\n",
       "      <th>Feature name</th>\n",
       "      <th></th>\n",
       "      <th></th>\n",
       "      <th></th>\n",
       "      <th></th>\n",
       "    </tr>\n",
       "  </thead>\n",
       "  <tbody>\n",
       "    <tr>\n",
       "      <th>'Aspect'</th>\n",
       "      <td>INT</td>\n",
       "      <td>required</td>\n",
       "      <td></td>\n",
       "      <td>-</td>\n",
       "    </tr>\n",
       "    <tr>\n",
       "      <th>'Cover_Type'</th>\n",
       "      <td>INT</td>\n",
       "      <td>required</td>\n",
       "      <td></td>\n",
       "      <td>-</td>\n",
       "    </tr>\n",
       "    <tr>\n",
       "      <th>'Elevation'</th>\n",
       "      <td>INT</td>\n",
       "      <td>required</td>\n",
       "      <td></td>\n",
       "      <td>-</td>\n",
       "    </tr>\n",
       "    <tr>\n",
       "      <th>'Hillshade_3pm'</th>\n",
       "      <td>INT</td>\n",
       "      <td>required</td>\n",
       "      <td></td>\n",
       "      <td>-</td>\n",
       "    </tr>\n",
       "    <tr>\n",
       "      <th>'Hillshade_9am'</th>\n",
       "      <td>INT</td>\n",
       "      <td>required</td>\n",
       "      <td></td>\n",
       "      <td>-</td>\n",
       "    </tr>\n",
       "    <tr>\n",
       "      <th>'Hillshade_Noon'</th>\n",
       "      <td>INT</td>\n",
       "      <td>required</td>\n",
       "      <td></td>\n",
       "      <td>-</td>\n",
       "    </tr>\n",
       "    <tr>\n",
       "      <th>'Horizontal_Distance_To_Fire_Points'</th>\n",
       "      <td>INT</td>\n",
       "      <td>required</td>\n",
       "      <td></td>\n",
       "      <td>-</td>\n",
       "    </tr>\n",
       "    <tr>\n",
       "      <th>'Horizontal_Distance_To_Hydrology'</th>\n",
       "      <td>FLOAT</td>\n",
       "      <td>optional</td>\n",
       "      <td>single</td>\n",
       "      <td>-</td>\n",
       "    </tr>\n",
       "    <tr>\n",
       "      <th>'Horizontal_Distance_To_Roadways'</th>\n",
       "      <td>INT</td>\n",
       "      <td>required</td>\n",
       "      <td></td>\n",
       "      <td>-</td>\n",
       "    </tr>\n",
       "    <tr>\n",
       "      <th>'Slope'</th>\n",
       "      <td>INT</td>\n",
       "      <td>required</td>\n",
       "      <td></td>\n",
       "      <td>-</td>\n",
       "    </tr>\n",
       "    <tr>\n",
       "      <th>'Soil_Type'</th>\n",
       "      <td>INT</td>\n",
       "      <td>required</td>\n",
       "      <td></td>\n",
       "      <td>-</td>\n",
       "    </tr>\n",
       "    <tr>\n",
       "      <th>'Vertical_Distance_To_Hydrology'</th>\n",
       "      <td>INT</td>\n",
       "      <td>required</td>\n",
       "      <td></td>\n",
       "      <td>-</td>\n",
       "    </tr>\n",
       "    <tr>\n",
       "      <th>'Wilderness_Area'</th>\n",
       "      <td>STRING</td>\n",
       "      <td>required</td>\n",
       "      <td></td>\n",
       "      <td>'Wilderness_Area'</td>\n",
       "    </tr>\n",
       "  </tbody>\n",
       "</table>\n",
       "</div>"
      ],
      "text/plain": [
       "                                        Type  Presence Valency  \\\n",
       "Feature name                                                     \n",
       "'Aspect'                              INT     required           \n",
       "'Cover_Type'                          INT     required           \n",
       "'Elevation'                           INT     required           \n",
       "'Hillshade_3pm'                       INT     required           \n",
       "'Hillshade_9am'                       INT     required           \n",
       "'Hillshade_Noon'                      INT     required           \n",
       "'Horizontal_Distance_To_Fire_Points'  INT     required           \n",
       "'Horizontal_Distance_To_Hydrology'    FLOAT   optional  single   \n",
       "'Horizontal_Distance_To_Roadways'     INT     required           \n",
       "'Slope'                               INT     required           \n",
       "'Soil_Type'                           INT     required           \n",
       "'Vertical_Distance_To_Hydrology'      INT     required           \n",
       "'Wilderness_Area'                     STRING  required           \n",
       "\n",
       "                                                 Domain  \n",
       "Feature name                                             \n",
       "'Aspect'                              -                  \n",
       "'Cover_Type'                          -                  \n",
       "'Elevation'                           -                  \n",
       "'Hillshade_3pm'                       -                  \n",
       "'Hillshade_9am'                       -                  \n",
       "'Hillshade_Noon'                      -                  \n",
       "'Horizontal_Distance_To_Fire_Points'  -                  \n",
       "'Horizontal_Distance_To_Hydrology'    -                  \n",
       "'Horizontal_Distance_To_Roadways'     -                  \n",
       "'Slope'                               -                  \n",
       "'Soil_Type'                           -                  \n",
       "'Vertical_Distance_To_Hydrology'      -                  \n",
       "'Wilderness_Area'                     'Wilderness_Area'  "
      ]
     },
     "metadata": {},
     "output_type": "display_data"
    },
    {
     "data": {
      "text/html": [
       "<div>\n",
       "<style scoped>\n",
       "    .dataframe tbody tr th:only-of-type {\n",
       "        vertical-align: middle;\n",
       "    }\n",
       "\n",
       "    .dataframe tbody tr th {\n",
       "        vertical-align: top;\n",
       "    }\n",
       "\n",
       "    .dataframe thead th {\n",
       "        text-align: right;\n",
       "    }\n",
       "</style>\n",
       "<table border=\"1\" class=\"dataframe\">\n",
       "  <thead>\n",
       "    <tr style=\"text-align: right;\">\n",
       "      <th></th>\n",
       "      <th>Values</th>\n",
       "    </tr>\n",
       "    <tr>\n",
       "      <th>Domain</th>\n",
       "      <th></th>\n",
       "    </tr>\n",
       "  </thead>\n",
       "  <tbody>\n",
       "    <tr>\n",
       "      <th>'Wilderness_Area'</th>\n",
       "      <td>'Cache', 'Commanche', 'Neota', 'Rawah'</td>\n",
       "    </tr>\n",
       "  </tbody>\n",
       "</table>\n",
       "</div>"
      ],
      "text/plain": [
       "                                                   Values\n",
       "Domain                                                   \n",
       "'Wilderness_Area'  'Cache', 'Commanche', 'Neota', 'Rawah'"
      ]
     },
     "metadata": {},
     "output_type": "display_data"
    }
   ],
   "source": [
    "schema = tfdv.infer_schema(train_stats)\n",
    "tfdv.display_schema(schema=schema)"
   ]
  },
  {
   "cell_type": "markdown",
   "metadata": {},
   "source": [
    "Notice that `tfdv.infer_schema` did not infer all features properly. Although, both `Soil_Type` and `Cover_Type` are `INT` type, they should be interpreted as categorical rather than numeric. You can use `tfdv` functions to manually fine tune the schema."
   ]
  },
  {
   "cell_type": "code",
   "execution_count": 39,
   "metadata": {},
   "outputs": [],
   "source": [
    "soil_type_domain = [\n",
    "\"2702\", \"2703\", \"2704\", \"2705\", \"2706\", \"2717\", \"3501\", \"3502\", \"4201\", \"4703\", \"4704\", \"4744\", \"4758\", \"5101\", \n",
    "\"5151\", \"6101\", \"6102\", \"6731\", \"7101\", \"7102\", \"7103\", \"7201\", \"7202\", \"7700\", \"7701\", \"7702\", \"7709\", \"7710\", \n",
    "\"7745\", \"7746\", \"7755\", \"7756\", \"7757\", \"7790\", \"8703\", \"8707\", \"8708\", \"8771\", \"8772\", \"8776\",\n",
    "]\n",
    "\n",
    "tfdv.get_feature(schema, 'Soil_Type').type = schema_pb2.FeatureType.BYTES\n",
    "tfdv.set_domain(schema, 'Soil_Type', schema_pb2.StringDomain(name='Soil_Type', value=soil_type_domain))\n",
    "\n",
    "tfdv.set_domain(schema, 'Cover_Type', schema_pb2.IntDomain(name='Cover_Type', min=1, max=7, is_categorical=True))"
   ]
  },
  {
   "cell_type": "code",
   "execution_count": 40,
   "metadata": {},
   "outputs": [
    {
     "data": {
      "text/html": [
       "<div>\n",
       "<style scoped>\n",
       "    .dataframe tbody tr th:only-of-type {\n",
       "        vertical-align: middle;\n",
       "    }\n",
       "\n",
       "    .dataframe tbody tr th {\n",
       "        vertical-align: top;\n",
       "    }\n",
       "\n",
       "    .dataframe thead th {\n",
       "        text-align: right;\n",
       "    }\n",
       "</style>\n",
       "<table border=\"1\" class=\"dataframe\">\n",
       "  <thead>\n",
       "    <tr style=\"text-align: right;\">\n",
       "      <th></th>\n",
       "      <th>Type</th>\n",
       "      <th>Presence</th>\n",
       "      <th>Valency</th>\n",
       "      <th>Domain</th>\n",
       "    </tr>\n",
       "    <tr>\n",
       "      <th>Feature name</th>\n",
       "      <th></th>\n",
       "      <th></th>\n",
       "      <th></th>\n",
       "      <th></th>\n",
       "    </tr>\n",
       "  </thead>\n",
       "  <tbody>\n",
       "    <tr>\n",
       "      <th>'Aspect'</th>\n",
       "      <td>INT</td>\n",
       "      <td>required</td>\n",
       "      <td></td>\n",
       "      <td>-</td>\n",
       "    </tr>\n",
       "    <tr>\n",
       "      <th>'Cover_Type'</th>\n",
       "      <td>INT</td>\n",
       "      <td>required</td>\n",
       "      <td></td>\n",
       "      <td>[1,7]</td>\n",
       "    </tr>\n",
       "    <tr>\n",
       "      <th>'Elevation'</th>\n",
       "      <td>INT</td>\n",
       "      <td>required</td>\n",
       "      <td></td>\n",
       "      <td>-</td>\n",
       "    </tr>\n",
       "    <tr>\n",
       "      <th>'Hillshade_3pm'</th>\n",
       "      <td>INT</td>\n",
       "      <td>required</td>\n",
       "      <td></td>\n",
       "      <td>-</td>\n",
       "    </tr>\n",
       "    <tr>\n",
       "      <th>'Hillshade_9am'</th>\n",
       "      <td>INT</td>\n",
       "      <td>required</td>\n",
       "      <td></td>\n",
       "      <td>-</td>\n",
       "    </tr>\n",
       "    <tr>\n",
       "      <th>'Hillshade_Noon'</th>\n",
       "      <td>INT</td>\n",
       "      <td>required</td>\n",
       "      <td></td>\n",
       "      <td>-</td>\n",
       "    </tr>\n",
       "    <tr>\n",
       "      <th>'Horizontal_Distance_To_Fire_Points'</th>\n",
       "      <td>INT</td>\n",
       "      <td>required</td>\n",
       "      <td></td>\n",
       "      <td>-</td>\n",
       "    </tr>\n",
       "    <tr>\n",
       "      <th>'Horizontal_Distance_To_Hydrology'</th>\n",
       "      <td>FLOAT</td>\n",
       "      <td>optional</td>\n",
       "      <td>single</td>\n",
       "      <td>-</td>\n",
       "    </tr>\n",
       "    <tr>\n",
       "      <th>'Horizontal_Distance_To_Roadways'</th>\n",
       "      <td>INT</td>\n",
       "      <td>required</td>\n",
       "      <td></td>\n",
       "      <td>-</td>\n",
       "    </tr>\n",
       "    <tr>\n",
       "      <th>'Slope'</th>\n",
       "      <td>INT</td>\n",
       "      <td>required</td>\n",
       "      <td></td>\n",
       "      <td>-</td>\n",
       "    </tr>\n",
       "    <tr>\n",
       "      <th>'Soil_Type'</th>\n",
       "      <td>STRING</td>\n",
       "      <td>required</td>\n",
       "      <td></td>\n",
       "      <td>'Soil_Type'</td>\n",
       "    </tr>\n",
       "    <tr>\n",
       "      <th>'Vertical_Distance_To_Hydrology'</th>\n",
       "      <td>INT</td>\n",
       "      <td>required</td>\n",
       "      <td></td>\n",
       "      <td>-</td>\n",
       "    </tr>\n",
       "    <tr>\n",
       "      <th>'Wilderness_Area'</th>\n",
       "      <td>STRING</td>\n",
       "      <td>required</td>\n",
       "      <td></td>\n",
       "      <td>'Wilderness_Area'</td>\n",
       "    </tr>\n",
       "  </tbody>\n",
       "</table>\n",
       "</div>"
      ],
      "text/plain": [
       "                                        Type  Presence Valency  \\\n",
       "Feature name                                                     \n",
       "'Aspect'                              INT     required           \n",
       "'Cover_Type'                          INT     required           \n",
       "'Elevation'                           INT     required           \n",
       "'Hillshade_3pm'                       INT     required           \n",
       "'Hillshade_9am'                       INT     required           \n",
       "'Hillshade_Noon'                      INT     required           \n",
       "'Horizontal_Distance_To_Fire_Points'  INT     required           \n",
       "'Horizontal_Distance_To_Hydrology'    FLOAT   optional  single   \n",
       "'Horizontal_Distance_To_Roadways'     INT     required           \n",
       "'Slope'                               INT     required           \n",
       "'Soil_Type'                           STRING  required           \n",
       "'Vertical_Distance_To_Hydrology'      INT     required           \n",
       "'Wilderness_Area'                     STRING  required           \n",
       "\n",
       "                                                 Domain  \n",
       "Feature name                                             \n",
       "'Aspect'                              -                  \n",
       "'Cover_Type'                          [1,7]              \n",
       "'Elevation'                           -                  \n",
       "'Hillshade_3pm'                       -                  \n",
       "'Hillshade_9am'                       -                  \n",
       "'Hillshade_Noon'                      -                  \n",
       "'Horizontal_Distance_To_Fire_Points'  -                  \n",
       "'Horizontal_Distance_To_Hydrology'    -                  \n",
       "'Horizontal_Distance_To_Roadways'     -                  \n",
       "'Slope'                               -                  \n",
       "'Soil_Type'                           'Soil_Type'        \n",
       "'Vertical_Distance_To_Hydrology'      -                  \n",
       "'Wilderness_Area'                     'Wilderness_Area'  "
      ]
     },
     "metadata": {},
     "output_type": "display_data"
    },
    {
     "data": {
      "text/html": [
       "<div>\n",
       "<style scoped>\n",
       "    .dataframe tbody tr th:only-of-type {\n",
       "        vertical-align: middle;\n",
       "    }\n",
       "\n",
       "    .dataframe tbody tr th {\n",
       "        vertical-align: top;\n",
       "    }\n",
       "\n",
       "    .dataframe thead th {\n",
       "        text-align: right;\n",
       "    }\n",
       "</style>\n",
       "<table border=\"1\" class=\"dataframe\">\n",
       "  <thead>\n",
       "    <tr style=\"text-align: right;\">\n",
       "      <th></th>\n",
       "      <th>Values</th>\n",
       "    </tr>\n",
       "    <tr>\n",
       "      <th>Domain</th>\n",
       "      <th></th>\n",
       "    </tr>\n",
       "  </thead>\n",
       "  <tbody>\n",
       "    <tr>\n",
       "      <th>'Wilderness_Area'</th>\n",
       "      <td>'Cache', 'Commanche', 'Neota', 'Rawah'</td>\n",
       "    </tr>\n",
       "    <tr>\n",
       "      <th>'Soil_Type'</th>\n",
       "      <td>'2702', '2703', '2704', '2705', '2706', '2717', '3501', '3502', '4201', '4703', '4704', '4744', '4758', '5101', '5151', '6101', '6102', '6731', '7101', '7102', '7103', '7201', '7202', '7700', '7701', '7702', '7709', '7710', '7745', '7746', '7755', '7756', '7757', '7790', '8703', '8707', '8708', '8771', '8772', '8776'</td>\n",
       "    </tr>\n",
       "  </tbody>\n",
       "</table>\n",
       "</div>"
      ],
      "text/plain": [
       "                                                                                                                                                                                                                                                                                                                                           Values\n",
       "Domain                                                                                                                                                                                                                                                                                                                                           \n",
       "'Wilderness_Area'  'Cache', 'Commanche', 'Neota', 'Rawah'                                                                                                                                                                                                                                                                                        \n",
       "'Soil_Type'        '2702', '2703', '2704', '2705', '2706', '2717', '3501', '3502', '4201', '4703', '4704', '4744', '4758', '5101', '5151', '6101', '6102', '6731', '7101', '7102', '7103', '7201', '7202', '7700', '7701', '7702', '7709', '7710', '7745', '7746', '7755', '7756', '7757', '7790', '8703', '8707', '8708', '8771', '8772', '8776'"
      ]
     },
     "metadata": {},
     "output_type": "display_data"
    }
   ],
   "source": [
    "tfdv.display_schema(schema=schema)"
   ]
  },
  {
   "cell_type": "markdown",
   "metadata": {},
   "source": [
    "## Creating statistics using Cloud Dataflow\n",
    "\n",
    "In the previous step, you created descriptive statistics using local compute. This may work for smaller datasets. But for large datasets you may not have enough local compute power. The `tfdv.generate_statistics_*` functions can utilize `DataflowRunner` to run Beam processing on a distributed Dataflow cluster.\n",
    "\n",
    "To run TFDV on Google Cloud Dataflow, the TFDV wheel file must be provided to the Dataflow workers and the Dataflow configuration must be specified through the `pipeline_options` parameter. \n",
    "\n",
    "You will also configure `tfdv.generate_statistics_from_csv` to use the pre-defined schema."
   ]
  },
  {
   "cell_type": "code",
   "execution_count": 13,
   "metadata": {},
   "outputs": [
    {
     "data": {
      "text/html": [
       "<iframe id='facets-iframe' width=\"100%\" height=\"500px\"></iframe>\n",
       "        <script>\n",
       "        facets_iframe = document.getElementById('facets-iframe');\n",
       "        facets_html = '<link rel=\"import\" href=\"https://raw.githubusercontent.com/PAIR-code/facets/master/facets-dist/facets-jupyter.html\"><facets-overview proto-input=\"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\"></facets-overview>';\n",
       "        facets_iframe.srcdoc = facets_html;\n",
       "         facets_iframe.id = \"\";\n",
       "         setTimeout(() => {\n",
       "           facets_iframe.setAttribute('height', facets_iframe.contentWindow.document.body.offsetHeight + 'px')\n",
       "         }, 1500)\n",
       "         </script>"
      ],
      "text/plain": [
       "<IPython.core.display.HTML object>"
      ]
     },
     "metadata": {},
     "output_type": "display_data"
    }
   ],
   "source": [
    "stats_options = tfdv.StatsOptions(schema=schema, infer_type_from_schema=True)\n",
    "\n",
    "train_stats = tfdv.generate_statistics_from_csv(\n",
    "    data_location=TRAINING_DATASET,\n",
    "    stats_options=stats_options\n",
    ")\n",
    "\n",
    "tfdv.visualize_statistics(train_stats)"
   ]
  },
  {
   "cell_type": "code",
   "execution_count": null,
   "metadata": {},
   "outputs": [],
   "source": [
    "stats_options = tfdv.StatsOptions(schema=schema, infer_type_from_schema=True)\n",
    "\n",
    "train_stats = tfdv.generate_statistics_from_csv(\n",
    "    data_location=EVALUATION_DATASET,\n",
    "    stats_options=stats_options\n",
    ")\n",
    "\n",
    "tfdv.visualize_statistics(train_stats)"
   ]
  },
  {
   "cell_type": "code",
   "execution_count": null,
   "metadata": {},
   "outputs": [],
   "source": [
    "stats_options = tfdv.StatsOptions(schema=schema, infer_type_from_schema=True)\n",
    "\n",
    "train_stats = tfdv.generate_statistics_from_csv(\n",
    "    data_location=SERVING_DATASET,\n",
    "    stats_options=stats_options\n",
    ")\n",
    "\n",
    "tfdv.visualize_statistics(train_stats)"
   ]
  },
  {
   "cell_type": "code",
   "execution_count": null,
   "metadata": {},
   "outputs": [],
   "source": [
    "#schema = schema_pb2.Schema()\n",
    "\n",
    "#schema.feature.add(name='Elevation', type=schema_pb2.FeatureType.FLOAT)\n",
    "#schema.feature.add(name='Aspect', type=schema_pb2.FeatureType.FLOAT)\n",
    "#schema.feature.add(name='Slope', type=schema_pb2.FeatureType.FLOAT)\n",
    "#schema.feature.add(name='Horizontal_Distance_To_Hydrology', type=schema_pb2.FeatureType.FLOAT)\n",
    "#schema.feature.add(name='Vertical_Distance_To_Hydrology', type=schema_pb2.FeatureType.FLOAT)\n",
    "#schema.feature.add(name='Horizontal_Distance_To_Roadways', type=schema_pb2.FeatureType.FLOAT)\n",
    "#schema.feature.add(name='Hillshade_9am', type=schema_pb2.FeatureType.FLOAT)\n",
    "#schema.feature.add(name='Hillshade_Noon', type=schema_pb2.FeatureType.FLOAT)\n",
    "#schema.feature.add(name='Hillshade_3pm', type=schema_pb2.FeatureType.FLOAT)\n",
    "#schema.feature.add(name='Horizontal_Distance_To_Fire_Points', type=schema_pb2.FeatureType.FLOAT)\n",
    "\n",
    "#schema.feature.add(name='Wilderness_Area', type=schema_pb2.FeatureType.BYTES)\n",
    "#schema.feature.add(name='Soil_Type', type=schema_pb2.FeatureType.BYTES)\n",
    "\n",
    "#schema.feature.add(name='Cover_Type', type=schema_pb2.FeatureType.INT)\n",
    "#tfdv.set_domain(schema, 'Cover_Type', schema_pb2.IntDomain(min=1, max=7, is_categorical=True))"
   ]
  }
 ],
 "metadata": {
  "kernelspec": {
   "display_name": "tfx",
   "language": "python",
   "name": "tfx"
  },
  "language_info": {
   "codemirror_mode": {
    "name": "ipython",
    "version": 3
   },
   "file_extension": ".py",
   "mimetype": "text/x-python",
   "name": "python",
   "nbconvert_exporter": "python",
   "pygments_lexer": "ipython3",
   "version": "3.6.9"
  }
 },
 "nbformat": 4,
 "nbformat_minor": 4
}

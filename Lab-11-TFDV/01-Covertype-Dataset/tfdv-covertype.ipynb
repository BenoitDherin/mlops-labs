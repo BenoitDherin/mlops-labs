{
 "cells": [
  {
   "cell_type": "markdown",
   "metadata": {},
   "source": [
    "# Analyzing data with Tensorflow Data Validation\n",
    "\n",
    "This notebook demonstrates how TensorFlow Data Validation (TFDV) can be used to analyze and validate your data, including generating descriptive statistics, inferring and fine tuning schema, checking for and fixing anomalies, and detecting drift and skew. It's important to understand your dataset's characteristics, including how it might change over time in your production pipeline. It's also important to look for anomalies in your data, and to compare your training, evaluation, and serving datasets to make sure that they're consistent. TFDV is the tool to achieve it.\n",
    "\n",
    "You are going to use a variant of Cover Type dataset. For more information about the dataset refer to [the dataset summary page.](../../datasets/covertype/README.md)"
   ]
  },
  {
   "cell_type": "markdown",
   "metadata": {},
   "source": [
    "## Lab setup\n",
    "### Import packages and check the versions"
   ]
  },
  {
   "cell_type": "code",
   "execution_count": 1,
   "metadata": {},
   "outputs": [
    {
     "name": "stdout",
     "output_type": "stream",
     "text": [
      "TensorFlow version: 2.0.0\n",
      "TensorFlow Data Validation version: 0.15.0\n"
     ]
    }
   ],
   "source": [
    "import tempfile\n",
    "import tensorflow as tf\n",
    "import tensorflow_data_validation as tfdv\n",
    "import time\n",
    "\n",
    "from apache_beam.options.pipeline_options import PipelineOptions, GoogleCloudOptions, StandardOptions, SetupOptions, DebugOptions, WorkerOptions\n",
    "from tensorflow_metadata.proto.v0 import schema_pb2\n",
    "\n",
    "print('TensorFlow version: {}'.format(tf.__version__))\n",
    "print('TensorFlow Data Validation version: {}'.format(tfdv.__version__))"
   ]
  },
  {
   "cell_type": "markdown",
   "metadata": {},
   "source": [
    "### Set the locations of the dataset files"
   ]
  },
  {
   "cell_type": "code",
   "execution_count": 2,
   "metadata": {},
   "outputs": [],
   "source": [
    "TRAINING_DATASET='gs://workshop-datasets/covertype/training/covertype_training.csv'\n",
    "TRAINING_DATASET_WITH_MISSING_VALUES='gs://workshop-datasets/covertype/training_missing/covertype_training_missing.csv'\n",
    "EVALUATION_DATASET='gs://workshop-datasets/covertype/evaluation/covertype_evaluation.csv'\n",
    "EVALUATION_DATASET_WITH_ANOMALIES='gs://workshop-datasets/covertype/evaluation_anomalies/covertype_evaluation.csv'\n",
    "SERVING_DATASET='gs://workshop-datasets/covertype/serving/covertype_serving.csv'"
   ]
  },
  {
   "cell_type": "markdown",
   "metadata": {},
   "source": [
    "### Configure GCP settings"
   ]
  },
  {
   "cell_type": "code",
   "execution_count": 3,
   "metadata": {},
   "outputs": [],
   "source": [
    "PROJECT_ID = 'jk-mlops-demo'\n",
    "REGION = 'us-central1'\n",
    "STAGING_BUCKET = 'gs://{}-lab11'.format(PROJECT_ID)"
   ]
  },
  {
   "cell_type": "markdown",
   "metadata": {},
   "source": [
    "### Create a GCP staging bucket"
   ]
  },
  {
   "cell_type": "code",
   "execution_count": 4,
   "metadata": {},
   "outputs": [
    {
     "name": "stdout",
     "output_type": "stream",
     "text": [
      "Creating gs://jk-mlops-demo-lab11/...\n",
      "ServiceException: 409 Bucket jk-mlops-demo-lab11 already exists.\n"
     ]
    }
   ],
   "source": [
    "!gsutil mb -p $PROJECT_ID $STAGING_BUCKET "
   ]
  },
  {
   "cell_type": "markdown",
   "metadata": {},
   "source": [
    "## Computing and visualizing descriptive statistics\n",
    "\n",
    "First, you use `tfdv.generate_statistics_from_csv` to compute statistics for the training data split. \n",
    "\n",
    "TFDV can compute descriptive statistics that provide a quick overview of the data in terms of the features that are present and the shapes of their value distributions.\n",
    "\n",
    "Internally, TFDV uses Apache Beam's data-parallel processing framework to scale the computation of statistics over large datasets. For applications that wish to integrate deeper with TFDV (e.g., attach statistics generation at the end of a data-generation pipeline), the API also exposes a Beam PTransform for statistics generation.\n",
    "\n",
    "Notice that although your dataset is in Google Cloud Storage you will run you computation locally on the notebook's host, using the Beam DirectRunner. Later in the lab, you will use Cloud Dataflow to calculate statistics on a remote distributed cluster."
   ]
  },
  {
   "cell_type": "code",
   "execution_count": 5,
   "metadata": {},
   "outputs": [
    {
     "name": "stderr",
     "output_type": "stream",
     "text": [
      "WARNING:root:Couldn't find python-snappy so the implementation of _TFRecordUtil._masked_crc32c is not as fast as it could be.\n"
     ]
    },
    {
     "name": "stdout",
     "output_type": "stream",
     "text": [
      "WARNING:tensorflow:From /root/miniconda3/envs/tfx/lib/python3.6/site-packages/tensorflow_data_validation/utils/stats_gen_lib.py:366: tf_record_iterator (from tensorflow.python.lib.io.tf_record) is deprecated and will be removed in a future version.\n",
      "Instructions for updating:\n",
      "Use eager execution and: \n",
      "`tf.data.TFRecordDataset(path)`\n"
     ]
    },
    {
     "name": "stderr",
     "output_type": "stream",
     "text": [
      "WARNING:tensorflow:From /root/miniconda3/envs/tfx/lib/python3.6/site-packages/tensorflow_data_validation/utils/stats_gen_lib.py:366: tf_record_iterator (from tensorflow.python.lib.io.tf_record) is deprecated and will be removed in a future version.\n",
      "Instructions for updating:\n",
      "Use eager execution and: \n",
      "`tf.data.TFRecordDataset(path)`\n"
     ]
    }
   ],
   "source": [
    "train_stats = tfdv.generate_statistics_from_csv(\n",
    "    data_location=TRAINING_DATASET_WITH_MISSING_VALUES\n",
    ")"
   ]
  },
  {
   "cell_type": "markdown",
   "metadata": {},
   "source": [
    "You can now use `tfdv.visualize_statistics` to create a visualization of your data. `tfdv.visualize_statistics` uses [Facets](https://pair-code.github.io/facets/) that provides succinct, interactive visualizations to aid in understanding and analyzing machine learning datasets."
   ]
  },
  {
   "cell_type": "code",
   "execution_count": 6,
   "metadata": {},
   "outputs": [
    {
     "data": {
      "text/html": [
       "<iframe id='facets-iframe' width=\"100%\" height=\"500px\"></iframe>\n",
       "        <script>\n",
       "        facets_iframe = document.getElementById('facets-iframe');\n",
       "        facets_html = '<link rel=\"import\" href=\"https://raw.githubusercontent.com/PAIR-code/facets/master/facets-dist/facets-jupyter.html\"><facets-overview proto-input=\"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\"></facets-overview>';\n",
       "        facets_iframe.srcdoc = facets_html;\n",
       "         facets_iframe.id = \"\";\n",
       "         setTimeout(() => {\n",
       "           facets_iframe.setAttribute('height', facets_iframe.contentWindow.document.body.offsetHeight + 'px')\n",
       "         }, 1500)\n",
       "         </script>"
      ],
      "text/plain": [
       "<IPython.core.display.HTML object>"
      ]
     },
     "metadata": {},
     "output_type": "display_data"
    }
   ],
   "source": [
    "tfdv.visualize_statistics(train_stats)"
   ]
  },
  {
   "cell_type": "markdown",
   "metadata": {},
   "source": [
    "The interactive widget you see is **Facets Overview**. \n",
    "- Numeric features and categorical features are visualized separately, including charts showing the distributions for each feature.\n",
    "- Features with missing or zero values display a percentage in red as a visual indicator that there may be issues with examples in those features. The percentage is the percentage of examples that have missing or zero values for that feature.\n",
    "- Try clicking \"expand\" above the charts to change the display\n",
    "- Try hovering over bars in the charts to display bucket ranges and counts\n",
    "- Try switching between the log and linear scales\n",
    "- Try selecting \"quantiles\" from the \"Chart to show\" menu, and hover over the markers to show the quantile percentages"
   ]
  },
  {
   "cell_type": "markdown",
   "metadata": {},
   "source": [
    "## Infering Schema\n",
    "Now let's use `tfdv.infer_schema` to create a schema for the data. A schema defines constraints for the data that are relevant for ML. Example constraints include the data type of each feature, whether it's numerical or categorical, or the frequency of its presence in the data. For categorical features the schema also defines the domain - the list of acceptable values. Since writing a schema can be a tedious task, especially for datasets with lots of features, TFDV provides a method to generate an initial version of the schema based on the descriptive statistics."
   ]
  },
  {
   "cell_type": "code",
   "execution_count": 7,
   "metadata": {},
   "outputs": [
    {
     "data": {
      "text/html": [
       "<div>\n",
       "<style scoped>\n",
       "    .dataframe tbody tr th:only-of-type {\n",
       "        vertical-align: middle;\n",
       "    }\n",
       "\n",
       "    .dataframe tbody tr th {\n",
       "        vertical-align: top;\n",
       "    }\n",
       "\n",
       "    .dataframe thead th {\n",
       "        text-align: right;\n",
       "    }\n",
       "</style>\n",
       "<table border=\"1\" class=\"dataframe\">\n",
       "  <thead>\n",
       "    <tr style=\"text-align: right;\">\n",
       "      <th></th>\n",
       "      <th>Type</th>\n",
       "      <th>Presence</th>\n",
       "      <th>Valency</th>\n",
       "      <th>Domain</th>\n",
       "    </tr>\n",
       "    <tr>\n",
       "      <th>Feature name</th>\n",
       "      <th></th>\n",
       "      <th></th>\n",
       "      <th></th>\n",
       "      <th></th>\n",
       "    </tr>\n",
       "  </thead>\n",
       "  <tbody>\n",
       "    <tr>\n",
       "      <th>'Wilderness_Area'</th>\n",
       "      <td>STRING</td>\n",
       "      <td>required</td>\n",
       "      <td></td>\n",
       "      <td>'Wilderness_Area'</td>\n",
       "    </tr>\n",
       "    <tr>\n",
       "      <th>'Aspect'</th>\n",
       "      <td>INT</td>\n",
       "      <td>required</td>\n",
       "      <td></td>\n",
       "      <td>-</td>\n",
       "    </tr>\n",
       "    <tr>\n",
       "      <th>'Cover_Type'</th>\n",
       "      <td>INT</td>\n",
       "      <td>required</td>\n",
       "      <td></td>\n",
       "      <td>-</td>\n",
       "    </tr>\n",
       "    <tr>\n",
       "      <th>'Elevation'</th>\n",
       "      <td>INT</td>\n",
       "      <td>required</td>\n",
       "      <td></td>\n",
       "      <td>-</td>\n",
       "    </tr>\n",
       "    <tr>\n",
       "      <th>'Hillshade_3pm'</th>\n",
       "      <td>INT</td>\n",
       "      <td>required</td>\n",
       "      <td></td>\n",
       "      <td>-</td>\n",
       "    </tr>\n",
       "    <tr>\n",
       "      <th>'Hillshade_9am'</th>\n",
       "      <td>INT</td>\n",
       "      <td>required</td>\n",
       "      <td></td>\n",
       "      <td>-</td>\n",
       "    </tr>\n",
       "    <tr>\n",
       "      <th>'Hillshade_Noon'</th>\n",
       "      <td>INT</td>\n",
       "      <td>required</td>\n",
       "      <td></td>\n",
       "      <td>-</td>\n",
       "    </tr>\n",
       "    <tr>\n",
       "      <th>'Horizontal_Distance_To_Fire_Points'</th>\n",
       "      <td>INT</td>\n",
       "      <td>required</td>\n",
       "      <td></td>\n",
       "      <td>-</td>\n",
       "    </tr>\n",
       "    <tr>\n",
       "      <th>'Horizontal_Distance_To_Hydrology'</th>\n",
       "      <td>FLOAT</td>\n",
       "      <td>optional</td>\n",
       "      <td>single</td>\n",
       "      <td>-</td>\n",
       "    </tr>\n",
       "    <tr>\n",
       "      <th>'Horizontal_Distance_To_Roadways'</th>\n",
       "      <td>INT</td>\n",
       "      <td>required</td>\n",
       "      <td></td>\n",
       "      <td>-</td>\n",
       "    </tr>\n",
       "    <tr>\n",
       "      <th>'Slope'</th>\n",
       "      <td>INT</td>\n",
       "      <td>required</td>\n",
       "      <td></td>\n",
       "      <td>-</td>\n",
       "    </tr>\n",
       "    <tr>\n",
       "      <th>'Soil_Type'</th>\n",
       "      <td>INT</td>\n",
       "      <td>required</td>\n",
       "      <td></td>\n",
       "      <td>-</td>\n",
       "    </tr>\n",
       "    <tr>\n",
       "      <th>'Vertical_Distance_To_Hydrology'</th>\n",
       "      <td>INT</td>\n",
       "      <td>required</td>\n",
       "      <td></td>\n",
       "      <td>-</td>\n",
       "    </tr>\n",
       "  </tbody>\n",
       "</table>\n",
       "</div>"
      ],
      "text/plain": [
       "                                        Type  Presence Valency  \\\n",
       "Feature name                                                     \n",
       "'Wilderness_Area'                     STRING  required           \n",
       "'Aspect'                                 INT  required           \n",
       "'Cover_Type'                             INT  required           \n",
       "'Elevation'                              INT  required           \n",
       "'Hillshade_3pm'                          INT  required           \n",
       "'Hillshade_9am'                          INT  required           \n",
       "'Hillshade_Noon'                         INT  required           \n",
       "'Horizontal_Distance_To_Fire_Points'     INT  required           \n",
       "'Horizontal_Distance_To_Hydrology'     FLOAT  optional  single   \n",
       "'Horizontal_Distance_To_Roadways'        INT  required           \n",
       "'Slope'                                  INT  required           \n",
       "'Soil_Type'                              INT  required           \n",
       "'Vertical_Distance_To_Hydrology'         INT  required           \n",
       "\n",
       "                                                 Domain  \n",
       "Feature name                                             \n",
       "'Wilderness_Area'                     'Wilderness_Area'  \n",
       "'Aspect'                                              -  \n",
       "'Cover_Type'                                          -  \n",
       "'Elevation'                                           -  \n",
       "'Hillshade_3pm'                                       -  \n",
       "'Hillshade_9am'                                       -  \n",
       "'Hillshade_Noon'                                      -  \n",
       "'Horizontal_Distance_To_Fire_Points'                  -  \n",
       "'Horizontal_Distance_To_Hydrology'                    -  \n",
       "'Horizontal_Distance_To_Roadways'                     -  \n",
       "'Slope'                                               -  \n",
       "'Soil_Type'                                           -  \n",
       "'Vertical_Distance_To_Hydrology'                      -  "
      ]
     },
     "metadata": {},
     "output_type": "display_data"
    },
    {
     "data": {
      "text/html": [
       "<div>\n",
       "<style scoped>\n",
       "    .dataframe tbody tr th:only-of-type {\n",
       "        vertical-align: middle;\n",
       "    }\n",
       "\n",
       "    .dataframe tbody tr th {\n",
       "        vertical-align: top;\n",
       "    }\n",
       "\n",
       "    .dataframe thead th {\n",
       "        text-align: right;\n",
       "    }\n",
       "</style>\n",
       "<table border=\"1\" class=\"dataframe\">\n",
       "  <thead>\n",
       "    <tr style=\"text-align: right;\">\n",
       "      <th></th>\n",
       "      <th>Values</th>\n",
       "    </tr>\n",
       "    <tr>\n",
       "      <th>Domain</th>\n",
       "      <th></th>\n",
       "    </tr>\n",
       "  </thead>\n",
       "  <tbody>\n",
       "    <tr>\n",
       "      <th>'Wilderness_Area'</th>\n",
       "      <td>'Cache', 'Commanche', 'Neota', 'Rawah'</td>\n",
       "    </tr>\n",
       "  </tbody>\n",
       "</table>\n",
       "</div>"
      ],
      "text/plain": [
       "                                                   Values\n",
       "Domain                                                   \n",
       "'Wilderness_Area'  'Cache', 'Commanche', 'Neota', 'Rawah'"
      ]
     },
     "metadata": {},
     "output_type": "display_data"
    }
   ],
   "source": [
    "schema = tfdv.infer_schema(train_stats)\n",
    "tfdv.display_schema(schema=schema)"
   ]
  },
  {
   "cell_type": "markdown",
   "metadata": {},
   "source": [
    "Notice that `tfdv.infer_schema` did not infer all features properly. Although, both `Soil_Type` and `Cover_Type` are `INT` type, they should be interpreted as categorical rather than numeric. You can use `tfdv` functions to manually fine tune the schema."
   ]
  },
  {
   "cell_type": "code",
   "execution_count": 8,
   "metadata": {},
   "outputs": [],
   "source": [
    "soil_type_domain = [\n",
    "\"2702\", \"2703\", \"2704\", \"2705\", \"2706\", \"2717\", \"3501\", \"3502\", \"4201\", \"4703\", \"4704\", \"4744\", \"4758\", \"5101\", \n",
    "\"5151\", \"6101\", \"6102\", \"6731\", \"7101\", \"7102\", \"7103\", \"7201\", \"7202\", \"7700\", \"7701\", \"7702\", \"7709\", \"7710\", \n",
    "\"7745\", \"7746\", \"7755\", \"7756\", \"7757\", \"7790\", \"8703\", \"8707\", \"8708\", \"8771\", \"8772\", \"8776\",\n",
    "]\n",
    "\n",
    "tfdv.get_feature(schema, 'Soil_Type').type = schema_pb2.FeatureType.BYTES\n",
    "tfdv.set_domain(schema, 'Soil_Type', schema_pb2.StringDomain(name='Soil_Type', value=soil_type_domain))\n",
    "\n",
    "tfdv.set_domain(schema, 'Cover_Type', schema_pb2.IntDomain(name='Cover_Type', min=1, max=7, is_categorical=True))"
   ]
  },
  {
   "cell_type": "code",
   "execution_count": 9,
   "metadata": {},
   "outputs": [
    {
     "data": {
      "text/html": [
       "<div>\n",
       "<style scoped>\n",
       "    .dataframe tbody tr th:only-of-type {\n",
       "        vertical-align: middle;\n",
       "    }\n",
       "\n",
       "    .dataframe tbody tr th {\n",
       "        vertical-align: top;\n",
       "    }\n",
       "\n",
       "    .dataframe thead th {\n",
       "        text-align: right;\n",
       "    }\n",
       "</style>\n",
       "<table border=\"1\" class=\"dataframe\">\n",
       "  <thead>\n",
       "    <tr style=\"text-align: right;\">\n",
       "      <th></th>\n",
       "      <th>Type</th>\n",
       "      <th>Presence</th>\n",
       "      <th>Valency</th>\n",
       "      <th>Domain</th>\n",
       "    </tr>\n",
       "    <tr>\n",
       "      <th>Feature name</th>\n",
       "      <th></th>\n",
       "      <th></th>\n",
       "      <th></th>\n",
       "      <th></th>\n",
       "    </tr>\n",
       "  </thead>\n",
       "  <tbody>\n",
       "    <tr>\n",
       "      <th>'Wilderness_Area'</th>\n",
       "      <td>STRING</td>\n",
       "      <td>required</td>\n",
       "      <td></td>\n",
       "      <td>'Wilderness_Area'</td>\n",
       "    </tr>\n",
       "    <tr>\n",
       "      <th>'Aspect'</th>\n",
       "      <td>INT</td>\n",
       "      <td>required</td>\n",
       "      <td></td>\n",
       "      <td>-</td>\n",
       "    </tr>\n",
       "    <tr>\n",
       "      <th>'Cover_Type'</th>\n",
       "      <td>INT</td>\n",
       "      <td>required</td>\n",
       "      <td></td>\n",
       "      <td>[1,7]</td>\n",
       "    </tr>\n",
       "    <tr>\n",
       "      <th>'Elevation'</th>\n",
       "      <td>INT</td>\n",
       "      <td>required</td>\n",
       "      <td></td>\n",
       "      <td>-</td>\n",
       "    </tr>\n",
       "    <tr>\n",
       "      <th>'Hillshade_3pm'</th>\n",
       "      <td>INT</td>\n",
       "      <td>required</td>\n",
       "      <td></td>\n",
       "      <td>-</td>\n",
       "    </tr>\n",
       "    <tr>\n",
       "      <th>'Hillshade_9am'</th>\n",
       "      <td>INT</td>\n",
       "      <td>required</td>\n",
       "      <td></td>\n",
       "      <td>-</td>\n",
       "    </tr>\n",
       "    <tr>\n",
       "      <th>'Hillshade_Noon'</th>\n",
       "      <td>INT</td>\n",
       "      <td>required</td>\n",
       "      <td></td>\n",
       "      <td>-</td>\n",
       "    </tr>\n",
       "    <tr>\n",
       "      <th>'Horizontal_Distance_To_Fire_Points'</th>\n",
       "      <td>INT</td>\n",
       "      <td>required</td>\n",
       "      <td></td>\n",
       "      <td>-</td>\n",
       "    </tr>\n",
       "    <tr>\n",
       "      <th>'Horizontal_Distance_To_Hydrology'</th>\n",
       "      <td>FLOAT</td>\n",
       "      <td>optional</td>\n",
       "      <td>single</td>\n",
       "      <td>-</td>\n",
       "    </tr>\n",
       "    <tr>\n",
       "      <th>'Horizontal_Distance_To_Roadways'</th>\n",
       "      <td>INT</td>\n",
       "      <td>required</td>\n",
       "      <td></td>\n",
       "      <td>-</td>\n",
       "    </tr>\n",
       "    <tr>\n",
       "      <th>'Slope'</th>\n",
       "      <td>INT</td>\n",
       "      <td>required</td>\n",
       "      <td></td>\n",
       "      <td>-</td>\n",
       "    </tr>\n",
       "    <tr>\n",
       "      <th>'Soil_Type'</th>\n",
       "      <td>STRING</td>\n",
       "      <td>required</td>\n",
       "      <td></td>\n",
       "      <td>'Soil_Type'</td>\n",
       "    </tr>\n",
       "    <tr>\n",
       "      <th>'Vertical_Distance_To_Hydrology'</th>\n",
       "      <td>INT</td>\n",
       "      <td>required</td>\n",
       "      <td></td>\n",
       "      <td>-</td>\n",
       "    </tr>\n",
       "  </tbody>\n",
       "</table>\n",
       "</div>"
      ],
      "text/plain": [
       "                                        Type  Presence Valency  \\\n",
       "Feature name                                                     \n",
       "'Wilderness_Area'                     STRING  required           \n",
       "'Aspect'                              INT     required           \n",
       "'Cover_Type'                          INT     required           \n",
       "'Elevation'                           INT     required           \n",
       "'Hillshade_3pm'                       INT     required           \n",
       "'Hillshade_9am'                       INT     required           \n",
       "'Hillshade_Noon'                      INT     required           \n",
       "'Horizontal_Distance_To_Fire_Points'  INT     required           \n",
       "'Horizontal_Distance_To_Hydrology'    FLOAT   optional  single   \n",
       "'Horizontal_Distance_To_Roadways'     INT     required           \n",
       "'Slope'                               INT     required           \n",
       "'Soil_Type'                           STRING  required           \n",
       "'Vertical_Distance_To_Hydrology'      INT     required           \n",
       "\n",
       "                                                 Domain  \n",
       "Feature name                                             \n",
       "'Wilderness_Area'                     'Wilderness_Area'  \n",
       "'Aspect'                              -                  \n",
       "'Cover_Type'                          [1,7]              \n",
       "'Elevation'                           -                  \n",
       "'Hillshade_3pm'                       -                  \n",
       "'Hillshade_9am'                       -                  \n",
       "'Hillshade_Noon'                      -                  \n",
       "'Horizontal_Distance_To_Fire_Points'  -                  \n",
       "'Horizontal_Distance_To_Hydrology'    -                  \n",
       "'Horizontal_Distance_To_Roadways'     -                  \n",
       "'Slope'                               -                  \n",
       "'Soil_Type'                           'Soil_Type'        \n",
       "'Vertical_Distance_To_Hydrology'      -                  "
      ]
     },
     "metadata": {},
     "output_type": "display_data"
    },
    {
     "data": {
      "text/html": [
       "<div>\n",
       "<style scoped>\n",
       "    .dataframe tbody tr th:only-of-type {\n",
       "        vertical-align: middle;\n",
       "    }\n",
       "\n",
       "    .dataframe tbody tr th {\n",
       "        vertical-align: top;\n",
       "    }\n",
       "\n",
       "    .dataframe thead th {\n",
       "        text-align: right;\n",
       "    }\n",
       "</style>\n",
       "<table border=\"1\" class=\"dataframe\">\n",
       "  <thead>\n",
       "    <tr style=\"text-align: right;\">\n",
       "      <th></th>\n",
       "      <th>Values</th>\n",
       "    </tr>\n",
       "    <tr>\n",
       "      <th>Domain</th>\n",
       "      <th></th>\n",
       "    </tr>\n",
       "  </thead>\n",
       "  <tbody>\n",
       "    <tr>\n",
       "      <th>'Wilderness_Area'</th>\n",
       "      <td>'Cache', 'Commanche', 'Neota', 'Rawah'</td>\n",
       "    </tr>\n",
       "    <tr>\n",
       "      <th>'Soil_Type'</th>\n",
       "      <td>'2702', '2703', '2704', '2705', '2706', '2717', '3501', '3502', '4201', '4703', '4704', '4744', '4758', '5101', '5151', '6101', '6102', '6731', '7101', '7102', '7103', '7201', '7202', '7700', '7701', '7702', '7709', '7710', '7745', '7746', '7755', '7756', '7757', '7790', '8703', '8707', '8708', '8771', '8772', '8776'</td>\n",
       "    </tr>\n",
       "  </tbody>\n",
       "</table>\n",
       "</div>"
      ],
      "text/plain": [
       "                                                                                                                                                                                                                                                                                                                                           Values\n",
       "Domain                                                                                                                                                                                                                                                                                                                                           \n",
       "'Wilderness_Area'  'Cache', 'Commanche', 'Neota', 'Rawah'                                                                                                                                                                                                                                                                                        \n",
       "'Soil_Type'        '2702', '2703', '2704', '2705', '2706', '2717', '3501', '3502', '4201', '4703', '4704', '4744', '4758', '5101', '5151', '6101', '6102', '6731', '7101', '7102', '7103', '7201', '7202', '7700', '7701', '7702', '7709', '7710', '7745', '7746', '7755', '7756', '7757', '7790', '8703', '8707', '8708', '8771', '8772', '8776'"
      ]
     },
     "metadata": {},
     "output_type": "display_data"
    }
   ],
   "source": [
    "tfdv.display_schema(schema=schema)"
   ]
  },
  {
   "cell_type": "markdown",
   "metadata": {},
   "source": [
    "## Creating statistics using Cloud Dataflow\n",
    "\n",
    "In the previous step, you created descriptive statistics using local compute. This may work for smaller datasets. But for large datasets you may not have enough local compute power. The `tfdv.generate_statistics_*` functions can utilize `DataflowRunner` to run Beam processing on a distributed Dataflow cluster.\n",
    "\n",
    "To run TFDV on Google Cloud Dataflow, the TFDV wheel file must be provided to the Dataflow workers and the Dataflow configuration must be specified through the `pipeline_options` parameter. \n",
    "\n",
    "You will also configure `tfdv.generate_statistics_from_csv` to use the pre-defined schema."
   ]
  },
  {
   "cell_type": "markdown",
   "metadata": {},
   "source": [
    "### Configure Dataflow settings"
   ]
  },
  {
   "cell_type": "code",
   "execution_count": 10,
   "metadata": {},
   "outputs": [
    {
     "name": "stdout",
     "output_type": "stream",
     "text": [
      "Overwriting setup.py\n"
     ]
    }
   ],
   "source": [
    "%%writefile setup.py\n",
    "\n",
    "from setuptools import setup\n",
    "\n",
    "setup(\n",
    "    name='tfdv',\n",
    "    description='TFDV Runtime.',\n",
    "    version='0.1',\n",
    "    install_requires=[\n",
    "      'tensorflow_data_validation==0.15.0'\n",
    "    ]\n",
    ")"
   ]
  },
  {
   "cell_type": "code",
   "execution_count": 11,
   "metadata": {},
   "outputs": [],
   "source": [
    "options = PipelineOptions()\n",
    "\n",
    "options.view_as(GoogleCloudOptions).project = PROJECT_ID\n",
    "options.view_as(GoogleCloudOptions).region = REGION\n",
    "options.view_as(GoogleCloudOptions).job_name = \"tfdv-{}\".format(time.strftime(\"%Y%m%d-%H%M%S\"))\n",
    "options.view_as(GoogleCloudOptions).staging_location = STAGING_BUCKET + '/staging/'\n",
    "options.view_as(GoogleCloudOptions).temp_location = STAGING_BUCKET + '/tmp/'\n",
    "options.view_as(StandardOptions).runner = 'DataflowRunner'\n",
    "#options.view_as(SetupOptions).extra_packages = [PATH_TO_WHL_FILE]\n",
    "#options.view_as(DebugOptions).experiments = ['shuffle_mode=auto', 'use_fastavro']\n",
    "options.view_as(SetupOptions).setup_file = '/home/mlops-labs/Lab-11-TFDV/01-Covertype-Dataset/setup.py'\n",
    "#options.view_as(SetupOptions).requirements_file = 'requirements.txt'"
   ]
  },
  {
   "cell_type": "markdown",
   "metadata": {},
   "source": [
    "### Regenerate statistics\n",
    "Regenerate the statistics using the schema"
   ]
  },
  {
   "cell_type": "code",
   "execution_count": 12,
   "metadata": {},
   "outputs": [
    {
     "name": "stderr",
     "output_type": "stream",
     "text": [
      "WARNING:root:Discarding unparseable args: ['-f', '/root/.local/share/jupyter/runtime/kernel-7f1ae176-b6ce-477a-847c-b49effa72411.json']\n",
      "WARNING:root:Discarding unparseable args: ['-f', '/root/.local/share/jupyter/runtime/kernel-7f1ae176-b6ce-477a-847c-b49effa72411.json']\n"
     ]
    }
   ],
   "source": [
    "stats_options = tfdv.StatsOptions(schema=schema, infer_type_from_schema=True)\n",
    "\n",
    "train_stats = tfdv.generate_statistics_from_csv(\n",
    "    data_location=TRAINING_DATASET_WITH_MISSING_VALUES,\n",
    "    stats_options=stats_options,\n",
    "    pipeline_options=options,\n",
    "    output_path=STAGING_BUCKET + '/output/'\n",
    ")"
   ]
  },
  {
   "cell_type": "code",
   "execution_count": 13,
   "metadata": {},
   "outputs": [
    {
     "data": {
      "text/html": [
       "<iframe id='facets-iframe' width=\"100%\" height=\"500px\"></iframe>\n",
       "        <script>\n",
       "        facets_iframe = document.getElementById('facets-iframe');\n",
       "        facets_html = '<link rel=\"import\" href=\"https://raw.githubusercontent.com/PAIR-code/facets/master/facets-dist/facets-jupyter.html\"><facets-overview proto-input=\"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\"></facets-overview>';\n",
       "        facets_iframe.srcdoc = facets_html;\n",
       "         facets_iframe.id = \"\";\n",
       "         setTimeout(() => {\n",
       "           facets_iframe.setAttribute('height', facets_iframe.contentWindow.document.body.offsetHeight + 'px')\n",
       "         }, 1500)\n",
       "         </script>"
      ],
      "text/plain": [
       "<IPython.core.display.HTML object>"
      ]
     },
     "metadata": {},
     "output_type": "display_data"
    }
   ],
   "source": [
    "tfdv.visualize_statistics(train_stats)"
   ]
  },
  {
   "cell_type": "code",
   "execution_count": null,
   "metadata": {},
   "outputs": [],
   "source": [
    "stats_options = tfdv.StatsOptions(schema=schema, infer_type_from_schema=True)\n",
    "\n",
    "train_stats = tfdv.generate_statistics_from_csv(\n",
    "    data_location=EVALUATION_DATASET,\n",
    "    stats_options=stats_options\n",
    ")\n",
    "\n",
    "tfdv.visualize_statistics(train_stats)"
   ]
  },
  {
   "cell_type": "code",
   "execution_count": null,
   "metadata": {},
   "outputs": [],
   "source": [
    "stats_options = tfdv.StatsOptions(schema=schema, infer_type_from_schema=True)\n",
    "\n",
    "train_stats = tfdv.generate_statistics_from_csv(\n",
    "    data_location=SERVING_DATASET,\n",
    "    stats_options=stats_options\n",
    ")\n",
    "\n",
    "tfdv.visualize_statistics(train_stats)"
   ]
  },
  {
   "cell_type": "code",
   "execution_count": null,
   "metadata": {},
   "outputs": [],
   "source": [
    "#schema = schema_pb2.Schema()\n",
    "\n",
    "#schema.feature.add(name='Elevation', type=schema_pb2.FeatureType.FLOAT)\n",
    "#schema.feature.add(name='Aspect', type=schema_pb2.FeatureType.FLOAT)\n",
    "#schema.feature.add(name='Slope', type=schema_pb2.FeatureType.FLOAT)\n",
    "#schema.feature.add(name='Horizontal_Distance_To_Hydrology', type=schema_pb2.FeatureType.FLOAT)\n",
    "#schema.feature.add(name='Vertical_Distance_To_Hydrology', type=schema_pb2.FeatureType.FLOAT)\n",
    "#schema.feature.add(name='Horizontal_Distance_To_Roadways', type=schema_pb2.FeatureType.FLOAT)\n",
    "#schema.feature.add(name='Hillshade_9am', type=schema_pb2.FeatureType.FLOAT)\n",
    "#schema.feature.add(name='Hillshade_Noon', type=schema_pb2.FeatureType.FLOAT)\n",
    "#schema.feature.add(name='Hillshade_3pm', type=schema_pb2.FeatureType.FLOAT)\n",
    "#schema.feature.add(name='Horizontal_Distance_To_Fire_Points', type=schema_pb2.FeatureType.FLOAT)\n",
    "\n",
    "#schema.feature.add(name='Wilderness_Area', type=schema_pb2.FeatureType.BYTES)\n",
    "#schema.feature.add(name='Soil_Type', type=schema_pb2.FeatureType.BYTES)\n",
    "\n",
    "#schema.feature.add(name='Cover_Type', type=schema_pb2.FeatureType.INT)\n",
    "#tfdv.set_domain(schema, 'Cover_Type', schema_pb2.IntDomain(min=1, max=7, is_categorical=True))"
   ]
  },
  {
   "cell_type": "code",
   "execution_count": null,
   "metadata": {},
   "outputs": [],
   "source": [
    "import types"
   ]
  },
  {
   "cell_type": "code",
   "execution_count": null,
   "metadata": {},
   "outputs": [],
   "source": [
    "dir(types)"
   ]
  },
  {
   "cell_type": "code",
   "execution_count": null,
   "metadata": {},
   "outputs": [],
   "source": []
  }
 ],
 "metadata": {
  "kernelspec": {
   "display_name": "tfx",
   "language": "python",
   "name": "tfx"
  },
  "language_info": {
   "codemirror_mode": {
    "name": "ipython",
    "version": 3
   },
   "file_extension": ".py",
   "mimetype": "text/x-python",
   "name": "python",
   "nbconvert_exporter": "python",
   "pygments_lexer": "ipython3",
   "version": "3.6.9"
  }
 },
 "nbformat": 4,
 "nbformat_minor": 4
}

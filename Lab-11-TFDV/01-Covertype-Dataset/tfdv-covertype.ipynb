{
 "cells": [
  {
   "cell_type": "markdown",
   "metadata": {},
   "source": [
    "# Analyzing data with Tensorflow Data Validation\n",
    "\n",
    "This notebook demonstrates how TensorFlow Data Validation (TFDV) can be used to analyze and validate your data, including generating descriptive statistics, inferring and fine tuning schema, checking for and fixing anomalies, and detecting drift and skew. It's important to understand your dataset's characteristics, including how it might change over time in your production pipeline. It's also important to look for anomalies in your data, and to compare your training, evaluation, and serving datasets to make sure that they're consistent. TFDV is the tool to achieve it.\n",
    "\n",
    "You are going to use a variant of Cover Type dataset. For more information about the dataset refer to [the dataset summary page.](../../datasets/covertype/README.md)"
   ]
  },
  {
   "cell_type": "markdown",
   "metadata": {},
   "source": [
    "## Lab setup\n",
    "### Import packages and check the versions"
   ]
  },
  {
   "cell_type": "code",
   "execution_count": 1,
   "metadata": {},
   "outputs": [
    {
     "name": "stdout",
     "output_type": "stream",
     "text": [
      "TensorFlow version: 1.15.0\n",
      "TensorFlow Data Validation version: 0.15.0\n"
     ]
    }
   ],
   "source": [
    "import tempfile\n",
    "import tensorflow as tf\n",
    "import tensorflow_data_validation as tfdv\n",
    "import time\n",
    "\n",
    "from apache_beam.options.pipeline_options import PipelineOptions, GoogleCloudOptions, StandardOptions, SetupOptions, DebugOptions, WorkerOptions\n",
    "from tensorflow_metadata.proto.v0 import schema_pb2\n",
    "\n",
    "print('TensorFlow version: {}'.format(tf.__version__))\n",
    "print('TensorFlow Data Validation version: {}'.format(tfdv.__version__))"
   ]
  },
  {
   "cell_type": "markdown",
   "metadata": {},
   "source": [
    "### Set the locations of the dataset files"
   ]
  },
  {
   "cell_type": "code",
   "execution_count": 2,
   "metadata": {},
   "outputs": [],
   "source": [
    "TRAINING_DATASET='gs://workshop-datasets/covertype/training/covertype_training.csv'\n",
    "TRAINING_DATASET_WITH_MISSING_VALUES='gs://workshop-datasets/covertype/training_missing/covertype_training_missing.csv'\n",
    "EVALUATION_DATASET='gs://workshop-datasets/covertype/evaluation/covertype_evaluation.csv'\n",
    "EVALUATION_DATASET_WITH_ANOMALIES='gs://workshop-datasets/covertype/evaluation_anomalies/covertype_evaluation.csv'\n",
    "SERVING_DATASET='gs://workshop-datasets/covertype/serving/covertype_serving.csv'"
   ]
  },
  {
   "cell_type": "markdown",
   "metadata": {},
   "source": [
    "### Configure GCP settings"
   ]
  },
  {
   "cell_type": "code",
   "execution_count": 3,
   "metadata": {},
   "outputs": [],
   "source": [
    "PROJECT_ID = 'jk-mlops-demo'\n",
    "REGION = 'us-central1'\n",
    "STAGING_BUCKET = 'gs://{}-lab11'.format(PROJECT_ID)"
   ]
  },
  {
   "cell_type": "markdown",
   "metadata": {},
   "source": [
    "### Create a GCP staging bucket"
   ]
  },
  {
   "cell_type": "code",
   "execution_count": 4,
   "metadata": {},
   "outputs": [
    {
     "name": "stdout",
     "output_type": "stream",
     "text": [
      "Creating gs://jk-mlops-demo-lab11/...\n",
      "ServiceException: 409 Bucket jk-mlops-demo-lab11 already exists.\n"
     ]
    }
   ],
   "source": [
    "!gsutil mb -p $PROJECT_ID $STAGING_BUCKET "
   ]
  },
  {
   "cell_type": "code",
   "execution_count": 8,
   "metadata": {},
   "outputs": [],
   "source": [
    "PATH_TO_WHL_FILE = '/home/tmp/tensorflow_data_validation-0.15.0-cp36-cp36m-manylinux2010_x86_64.whl'"
   ]
  },
  {
   "cell_type": "markdown",
   "metadata": {},
   "source": [
    "## Computing and visualizing descriptive statistics\n",
    "\n",
    "First, you use `tfdv.generate_statistics_from_csv` to compute statistics for the training data split. \n",
    "\n",
    "TFDV can compute descriptive statistics that provide a quick overview of the data in terms of the features that are present and the shapes of their value distributions.\n",
    "\n",
    "Internally, TFDV uses Apache Beam's data-parallel processing framework to scale the computation of statistics over large datasets. For applications that wish to integrate deeper with TFDV (e.g., attach statistics generation at the end of a data-generation pipeline), the API also exposes a Beam PTransform for statistics generation.\n",
    "\n",
    "Notice that although your dataset is in Google Cloud Storage you will run you computation locally on the notebook's host, using the Beam DirectRunner. Later in the lab, you will use Cloud Dataflow to calculate statistics on a remote distributed cluster."
   ]
  },
  {
   "cell_type": "code",
   "execution_count": 4,
   "metadata": {},
   "outputs": [
    {
     "name": "stderr",
     "output_type": "stream",
     "text": [
      "WARNING:root:Couldn't find python-snappy so the implementation of _TFRecordUtil._masked_crc32c is not as fast as it could be.\n"
     ]
    },
    {
     "name": "stdout",
     "output_type": "stream",
     "text": [
      "WARNING:tensorflow:From /root/miniconda3/envs/tfx/lib/python3.6/site-packages/tensorflow_data_validation/utils/stats_gen_lib.py:366: tf_record_iterator (from tensorflow.python.lib.io.tf_record) is deprecated and will be removed in a future version.\n",
      "Instructions for updating:\n",
      "Use eager execution and: \n",
      "`tf.data.TFRecordDataset(path)`\n"
     ]
    },
    {
     "name": "stderr",
     "output_type": "stream",
     "text": [
      "WARNING:tensorflow:From /root/miniconda3/envs/tfx/lib/python3.6/site-packages/tensorflow_data_validation/utils/stats_gen_lib.py:366: tf_record_iterator (from tensorflow.python.lib.io.tf_record) is deprecated and will be removed in a future version.\n",
      "Instructions for updating:\n",
      "Use eager execution and: \n",
      "`tf.data.TFRecordDataset(path)`\n"
     ]
    }
   ],
   "source": [
    "train_stats = tfdv.generate_statistics_from_csv(\n",
    "    data_location=TRAINING_DATASET_WITH_MISSING_VALUES\n",
    ")"
   ]
  },
  {
   "cell_type": "markdown",
   "metadata": {},
   "source": [
    "You can now use `tfdv.visualize_statistics` to create a visualization of your data. `tfdv.visualize_statistics` uses [Facets](https://pair-code.github.io/facets/) that provides succinct, interactive visualizations to aid in understanding and analyzing machine learning datasets."
   ]
  },
  {
   "cell_type": "code",
   "execution_count": 5,
   "metadata": {},
   "outputs": [
    {
     "data": {
      "text/html": [
       "<iframe id='facets-iframe' width=\"100%\" height=\"500px\"></iframe>\n",
       "        <script>\n",
       "        facets_iframe = document.getElementById('facets-iframe');\n",
       "        facets_html = '<link rel=\"import\" href=\"https://raw.githubusercontent.com/PAIR-code/facets/master/facets-dist/facets-jupyter.html\"><facets-overview proto-input=\"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\"></facets-overview>';\n",
       "        facets_iframe.srcdoc = facets_html;\n",
       "         facets_iframe.id = \"\";\n",
       "         setTimeout(() => {\n",
       "           facets_iframe.setAttribute('height', facets_iframe.contentWindow.document.body.offsetHeight + 'px')\n",
       "         }, 1500)\n",
       "         </script>"
      ],
      "text/plain": [
       "<IPython.core.display.HTML object>"
      ]
     },
     "metadata": {},
     "output_type": "display_data"
    }
   ],
   "source": [
    "tfdv.visualize_statistics(train_stats)"
   ]
  },
  {
   "cell_type": "markdown",
   "metadata": {},
   "source": [
    "The interactive widget you see is **Facets Overview**. \n",
    "- Numeric features and categorical features are visualized separately, including charts showing the distributions for each feature.\n",
    "- Features with missing or zero values display a percentage in red as a visual indicator that there may be issues with examples in those features. The percentage is the percentage of examples that have missing or zero values for that feature.\n",
    "- Try clicking \"expand\" above the charts to change the display\n",
    "- Try hovering over bars in the charts to display bucket ranges and counts\n",
    "- Try switching between the log and linear scales\n",
    "- Try selecting \"quantiles\" from the \"Chart to show\" menu, and hover over the markers to show the quantile percentages"
   ]
  },
  {
   "cell_type": "markdown",
   "metadata": {},
   "source": [
    "## Infering Schema\n",
    "Now let's use `tfdv.infer_schema` to create a schema for the data. A schema defines constraints for the data that are relevant for ML. Example constraints include the data type of each feature, whether it's numerical or categorical, or the frequency of its presence in the data. For categorical features the schema also defines the domain - the list of acceptable values. Since writing a schema can be a tedious task, especially for datasets with lots of features, TFDV provides a method to generate an initial version of the schema based on the descriptive statistics."
   ]
  },
  {
   "cell_type": "code",
   "execution_count": 6,
   "metadata": {},
   "outputs": [
    {
     "data": {
      "text/html": [
       "<div>\n",
       "<style scoped>\n",
       "    .dataframe tbody tr th:only-of-type {\n",
       "        vertical-align: middle;\n",
       "    }\n",
       "\n",
       "    .dataframe tbody tr th {\n",
       "        vertical-align: top;\n",
       "    }\n",
       "\n",
       "    .dataframe thead th {\n",
       "        text-align: right;\n",
       "    }\n",
       "</style>\n",
       "<table border=\"1\" class=\"dataframe\">\n",
       "  <thead>\n",
       "    <tr style=\"text-align: right;\">\n",
       "      <th></th>\n",
       "      <th>Type</th>\n",
       "      <th>Presence</th>\n",
       "      <th>Valency</th>\n",
       "      <th>Domain</th>\n",
       "    </tr>\n",
       "    <tr>\n",
       "      <th>Feature name</th>\n",
       "      <th></th>\n",
       "      <th></th>\n",
       "      <th></th>\n",
       "      <th></th>\n",
       "    </tr>\n",
       "  </thead>\n",
       "  <tbody>\n",
       "    <tr>\n",
       "      <th>'Wilderness_Area'</th>\n",
       "      <td>STRING</td>\n",
       "      <td>required</td>\n",
       "      <td></td>\n",
       "      <td>'Wilderness_Area'</td>\n",
       "    </tr>\n",
       "    <tr>\n",
       "      <th>'Aspect'</th>\n",
       "      <td>INT</td>\n",
       "      <td>required</td>\n",
       "      <td></td>\n",
       "      <td>-</td>\n",
       "    </tr>\n",
       "    <tr>\n",
       "      <th>'Cover_Type'</th>\n",
       "      <td>INT</td>\n",
       "      <td>required</td>\n",
       "      <td></td>\n",
       "      <td>-</td>\n",
       "    </tr>\n",
       "    <tr>\n",
       "      <th>'Elevation'</th>\n",
       "      <td>INT</td>\n",
       "      <td>required</td>\n",
       "      <td></td>\n",
       "      <td>-</td>\n",
       "    </tr>\n",
       "    <tr>\n",
       "      <th>'Hillshade_3pm'</th>\n",
       "      <td>INT</td>\n",
       "      <td>required</td>\n",
       "      <td></td>\n",
       "      <td>-</td>\n",
       "    </tr>\n",
       "    <tr>\n",
       "      <th>'Hillshade_9am'</th>\n",
       "      <td>INT</td>\n",
       "      <td>required</td>\n",
       "      <td></td>\n",
       "      <td>-</td>\n",
       "    </tr>\n",
       "    <tr>\n",
       "      <th>'Hillshade_Noon'</th>\n",
       "      <td>INT</td>\n",
       "      <td>required</td>\n",
       "      <td></td>\n",
       "      <td>-</td>\n",
       "    </tr>\n",
       "    <tr>\n",
       "      <th>'Horizontal_Distance_To_Fire_Points'</th>\n",
       "      <td>INT</td>\n",
       "      <td>required</td>\n",
       "      <td></td>\n",
       "      <td>-</td>\n",
       "    </tr>\n",
       "    <tr>\n",
       "      <th>'Horizontal_Distance_To_Hydrology'</th>\n",
       "      <td>FLOAT</td>\n",
       "      <td>optional</td>\n",
       "      <td>single</td>\n",
       "      <td>-</td>\n",
       "    </tr>\n",
       "    <tr>\n",
       "      <th>'Horizontal_Distance_To_Roadways'</th>\n",
       "      <td>INT</td>\n",
       "      <td>required</td>\n",
       "      <td></td>\n",
       "      <td>-</td>\n",
       "    </tr>\n",
       "    <tr>\n",
       "      <th>'Slope'</th>\n",
       "      <td>INT</td>\n",
       "      <td>required</td>\n",
       "      <td></td>\n",
       "      <td>-</td>\n",
       "    </tr>\n",
       "    <tr>\n",
       "      <th>'Soil_Type'</th>\n",
       "      <td>INT</td>\n",
       "      <td>required</td>\n",
       "      <td></td>\n",
       "      <td>-</td>\n",
       "    </tr>\n",
       "    <tr>\n",
       "      <th>'Vertical_Distance_To_Hydrology'</th>\n",
       "      <td>INT</td>\n",
       "      <td>required</td>\n",
       "      <td></td>\n",
       "      <td>-</td>\n",
       "    </tr>\n",
       "  </tbody>\n",
       "</table>\n",
       "</div>"
      ],
      "text/plain": [
       "                                        Type  Presence Valency  \\\n",
       "Feature name                                                     \n",
       "'Wilderness_Area'                     STRING  required           \n",
       "'Aspect'                                 INT  required           \n",
       "'Cover_Type'                             INT  required           \n",
       "'Elevation'                              INT  required           \n",
       "'Hillshade_3pm'                          INT  required           \n",
       "'Hillshade_9am'                          INT  required           \n",
       "'Hillshade_Noon'                         INT  required           \n",
       "'Horizontal_Distance_To_Fire_Points'     INT  required           \n",
       "'Horizontal_Distance_To_Hydrology'     FLOAT  optional  single   \n",
       "'Horizontal_Distance_To_Roadways'        INT  required           \n",
       "'Slope'                                  INT  required           \n",
       "'Soil_Type'                              INT  required           \n",
       "'Vertical_Distance_To_Hydrology'         INT  required           \n",
       "\n",
       "                                                 Domain  \n",
       "Feature name                                             \n",
       "'Wilderness_Area'                     'Wilderness_Area'  \n",
       "'Aspect'                                              -  \n",
       "'Cover_Type'                                          -  \n",
       "'Elevation'                                           -  \n",
       "'Hillshade_3pm'                                       -  \n",
       "'Hillshade_9am'                                       -  \n",
       "'Hillshade_Noon'                                      -  \n",
       "'Horizontal_Distance_To_Fire_Points'                  -  \n",
       "'Horizontal_Distance_To_Hydrology'                    -  \n",
       "'Horizontal_Distance_To_Roadways'                     -  \n",
       "'Slope'                                               -  \n",
       "'Soil_Type'                                           -  \n",
       "'Vertical_Distance_To_Hydrology'                      -  "
      ]
     },
     "metadata": {},
     "output_type": "display_data"
    },
    {
     "data": {
      "text/html": [
       "<div>\n",
       "<style scoped>\n",
       "    .dataframe tbody tr th:only-of-type {\n",
       "        vertical-align: middle;\n",
       "    }\n",
       "\n",
       "    .dataframe tbody tr th {\n",
       "        vertical-align: top;\n",
       "    }\n",
       "\n",
       "    .dataframe thead th {\n",
       "        text-align: right;\n",
       "    }\n",
       "</style>\n",
       "<table border=\"1\" class=\"dataframe\">\n",
       "  <thead>\n",
       "    <tr style=\"text-align: right;\">\n",
       "      <th></th>\n",
       "      <th>Values</th>\n",
       "    </tr>\n",
       "    <tr>\n",
       "      <th>Domain</th>\n",
       "      <th></th>\n",
       "    </tr>\n",
       "  </thead>\n",
       "  <tbody>\n",
       "    <tr>\n",
       "      <th>'Wilderness_Area'</th>\n",
       "      <td>'Cache', 'Commanche', 'Neota', 'Rawah'</td>\n",
       "    </tr>\n",
       "  </tbody>\n",
       "</table>\n",
       "</div>"
      ],
      "text/plain": [
       "                                                   Values\n",
       "Domain                                                   \n",
       "'Wilderness_Area'  'Cache', 'Commanche', 'Neota', 'Rawah'"
      ]
     },
     "metadata": {},
     "output_type": "display_data"
    }
   ],
   "source": [
    "schema = tfdv.infer_schema(train_stats)\n",
    "tfdv.display_schema(schema=schema)"
   ]
  },
  {
   "cell_type": "markdown",
   "metadata": {},
   "source": [
    "Notice that `tfdv.infer_schema` did not infer all features properly. Although, both `Soil_Type` and `Cover_Type` are `INT` type, they should be interpreted as categorical rather than numeric. You can use `tfdv` functions to manually fine tune the schema."
   ]
  },
  {
   "cell_type": "code",
   "execution_count": 7,
   "metadata": {},
   "outputs": [],
   "source": [
    "soil_type_domain = [\n",
    "\"2702\", \"2703\", \"2704\", \"2705\", \"2706\", \"2717\", \"3501\", \"3502\", \"4201\", \"4703\", \"4704\", \"4744\", \"4758\", \"5101\", \n",
    "\"5151\", \"6101\", \"6102\", \"6731\", \"7101\", \"7102\", \"7103\", \"7201\", \"7202\", \"7700\", \"7701\", \"7702\", \"7709\", \"7710\", \n",
    "\"7745\", \"7746\", \"7755\", \"7756\", \"7757\", \"7790\", \"8703\", \"8707\", \"8708\", \"8771\", \"8772\", \"8776\",\n",
    "]\n",
    "\n",
    "tfdv.get_feature(schema, 'Soil_Type').type = schema_pb2.FeatureType.BYTES\n",
    "tfdv.set_domain(schema, 'Soil_Type', schema_pb2.StringDomain(name='Soil_Type', value=soil_type_domain))\n",
    "\n",
    "tfdv.set_domain(schema, 'Cover_Type', schema_pb2.IntDomain(name='Cover_Type', min=1, max=7, is_categorical=True))"
   ]
  },
  {
   "cell_type": "code",
   "execution_count": 8,
   "metadata": {},
   "outputs": [
    {
     "data": {
      "text/html": [
       "<div>\n",
       "<style scoped>\n",
       "    .dataframe tbody tr th:only-of-type {\n",
       "        vertical-align: middle;\n",
       "    }\n",
       "\n",
       "    .dataframe tbody tr th {\n",
       "        vertical-align: top;\n",
       "    }\n",
       "\n",
       "    .dataframe thead th {\n",
       "        text-align: right;\n",
       "    }\n",
       "</style>\n",
       "<table border=\"1\" class=\"dataframe\">\n",
       "  <thead>\n",
       "    <tr style=\"text-align: right;\">\n",
       "      <th></th>\n",
       "      <th>Type</th>\n",
       "      <th>Presence</th>\n",
       "      <th>Valency</th>\n",
       "      <th>Domain</th>\n",
       "    </tr>\n",
       "    <tr>\n",
       "      <th>Feature name</th>\n",
       "      <th></th>\n",
       "      <th></th>\n",
       "      <th></th>\n",
       "      <th></th>\n",
       "    </tr>\n",
       "  </thead>\n",
       "  <tbody>\n",
       "    <tr>\n",
       "      <th>'Wilderness_Area'</th>\n",
       "      <td>STRING</td>\n",
       "      <td>required</td>\n",
       "      <td></td>\n",
       "      <td>'Wilderness_Area'</td>\n",
       "    </tr>\n",
       "    <tr>\n",
       "      <th>'Aspect'</th>\n",
       "      <td>INT</td>\n",
       "      <td>required</td>\n",
       "      <td></td>\n",
       "      <td>-</td>\n",
       "    </tr>\n",
       "    <tr>\n",
       "      <th>'Cover_Type'</th>\n",
       "      <td>INT</td>\n",
       "      <td>required</td>\n",
       "      <td></td>\n",
       "      <td>[1,7]</td>\n",
       "    </tr>\n",
       "    <tr>\n",
       "      <th>'Elevation'</th>\n",
       "      <td>INT</td>\n",
       "      <td>required</td>\n",
       "      <td></td>\n",
       "      <td>-</td>\n",
       "    </tr>\n",
       "    <tr>\n",
       "      <th>'Hillshade_3pm'</th>\n",
       "      <td>INT</td>\n",
       "      <td>required</td>\n",
       "      <td></td>\n",
       "      <td>-</td>\n",
       "    </tr>\n",
       "    <tr>\n",
       "      <th>'Hillshade_9am'</th>\n",
       "      <td>INT</td>\n",
       "      <td>required</td>\n",
       "      <td></td>\n",
       "      <td>-</td>\n",
       "    </tr>\n",
       "    <tr>\n",
       "      <th>'Hillshade_Noon'</th>\n",
       "      <td>INT</td>\n",
       "      <td>required</td>\n",
       "      <td></td>\n",
       "      <td>-</td>\n",
       "    </tr>\n",
       "    <tr>\n",
       "      <th>'Horizontal_Distance_To_Fire_Points'</th>\n",
       "      <td>INT</td>\n",
       "      <td>required</td>\n",
       "      <td></td>\n",
       "      <td>-</td>\n",
       "    </tr>\n",
       "    <tr>\n",
       "      <th>'Horizontal_Distance_To_Hydrology'</th>\n",
       "      <td>FLOAT</td>\n",
       "      <td>optional</td>\n",
       "      <td>single</td>\n",
       "      <td>-</td>\n",
       "    </tr>\n",
       "    <tr>\n",
       "      <th>'Horizontal_Distance_To_Roadways'</th>\n",
       "      <td>INT</td>\n",
       "      <td>required</td>\n",
       "      <td></td>\n",
       "      <td>-</td>\n",
       "    </tr>\n",
       "    <tr>\n",
       "      <th>'Slope'</th>\n",
       "      <td>INT</td>\n",
       "      <td>required</td>\n",
       "      <td></td>\n",
       "      <td>-</td>\n",
       "    </tr>\n",
       "    <tr>\n",
       "      <th>'Soil_Type'</th>\n",
       "      <td>STRING</td>\n",
       "      <td>required</td>\n",
       "      <td></td>\n",
       "      <td>'Soil_Type'</td>\n",
       "    </tr>\n",
       "    <tr>\n",
       "      <th>'Vertical_Distance_To_Hydrology'</th>\n",
       "      <td>INT</td>\n",
       "      <td>required</td>\n",
       "      <td></td>\n",
       "      <td>-</td>\n",
       "    </tr>\n",
       "  </tbody>\n",
       "</table>\n",
       "</div>"
      ],
      "text/plain": [
       "                                        Type  Presence Valency  \\\n",
       "Feature name                                                     \n",
       "'Wilderness_Area'                     STRING  required           \n",
       "'Aspect'                              INT     required           \n",
       "'Cover_Type'                          INT     required           \n",
       "'Elevation'                           INT     required           \n",
       "'Hillshade_3pm'                       INT     required           \n",
       "'Hillshade_9am'                       INT     required           \n",
       "'Hillshade_Noon'                      INT     required           \n",
       "'Horizontal_Distance_To_Fire_Points'  INT     required           \n",
       "'Horizontal_Distance_To_Hydrology'    FLOAT   optional  single   \n",
       "'Horizontal_Distance_To_Roadways'     INT     required           \n",
       "'Slope'                               INT     required           \n",
       "'Soil_Type'                           STRING  required           \n",
       "'Vertical_Distance_To_Hydrology'      INT     required           \n",
       "\n",
       "                                                 Domain  \n",
       "Feature name                                             \n",
       "'Wilderness_Area'                     'Wilderness_Area'  \n",
       "'Aspect'                              -                  \n",
       "'Cover_Type'                          [1,7]              \n",
       "'Elevation'                           -                  \n",
       "'Hillshade_3pm'                       -                  \n",
       "'Hillshade_9am'                       -                  \n",
       "'Hillshade_Noon'                      -                  \n",
       "'Horizontal_Distance_To_Fire_Points'  -                  \n",
       "'Horizontal_Distance_To_Hydrology'    -                  \n",
       "'Horizontal_Distance_To_Roadways'     -                  \n",
       "'Slope'                               -                  \n",
       "'Soil_Type'                           'Soil_Type'        \n",
       "'Vertical_Distance_To_Hydrology'      -                  "
      ]
     },
     "metadata": {},
     "output_type": "display_data"
    },
    {
     "data": {
      "text/html": [
       "<div>\n",
       "<style scoped>\n",
       "    .dataframe tbody tr th:only-of-type {\n",
       "        vertical-align: middle;\n",
       "    }\n",
       "\n",
       "    .dataframe tbody tr th {\n",
       "        vertical-align: top;\n",
       "    }\n",
       "\n",
       "    .dataframe thead th {\n",
       "        text-align: right;\n",
       "    }\n",
       "</style>\n",
       "<table border=\"1\" class=\"dataframe\">\n",
       "  <thead>\n",
       "    <tr style=\"text-align: right;\">\n",
       "      <th></th>\n",
       "      <th>Values</th>\n",
       "    </tr>\n",
       "    <tr>\n",
       "      <th>Domain</th>\n",
       "      <th></th>\n",
       "    </tr>\n",
       "  </thead>\n",
       "  <tbody>\n",
       "    <tr>\n",
       "      <th>'Wilderness_Area'</th>\n",
       "      <td>'Cache', 'Commanche', 'Neota', 'Rawah'</td>\n",
       "    </tr>\n",
       "    <tr>\n",
       "      <th>'Soil_Type'</th>\n",
       "      <td>'2702', '2703', '2704', '2705', '2706', '2717', '3501', '3502', '4201', '4703', '4704', '4744', '4758', '5101', '5151', '6101', '6102', '6731', '7101', '7102', '7103', '7201', '7202', '7700', '7701', '7702', '7709', '7710', '7745', '7746', '7755', '7756', '7757', '7790', '8703', '8707', '8708', '8771', '8772', '8776'</td>\n",
       "    </tr>\n",
       "  </tbody>\n",
       "</table>\n",
       "</div>"
      ],
      "text/plain": [
       "                                                                                                                                                                                                                                                                                                                                           Values\n",
       "Domain                                                                                                                                                                                                                                                                                                                                           \n",
       "'Wilderness_Area'  'Cache', 'Commanche', 'Neota', 'Rawah'                                                                                                                                                                                                                                                                                        \n",
       "'Soil_Type'        '2702', '2703', '2704', '2705', '2706', '2717', '3501', '3502', '4201', '4703', '4704', '4744', '4758', '5101', '5151', '6101', '6102', '6731', '7101', '7102', '7103', '7201', '7202', '7700', '7701', '7702', '7709', '7710', '7745', '7746', '7755', '7756', '7757', '7790', '8703', '8707', '8708', '8771', '8772', '8776'"
      ]
     },
     "metadata": {},
     "output_type": "display_data"
    }
   ],
   "source": [
    "tfdv.display_schema(schema=schema)"
   ]
  },
  {
   "cell_type": "markdown",
   "metadata": {},
   "source": [
    "## Creating statistics using Cloud Dataflow\n",
    "\n",
    "In the previous step, you created descriptive statistics using local compute. This may work for smaller datasets. But for large datasets you may not have enough local compute power. The `tfdv.generate_statistics_*` functions can utilize `DataflowRunner` to run Beam processing on a distributed Dataflow cluster.\n",
    "\n",
    "To run TFDV on Google Cloud Dataflow, the TFDV wheel file must be provided to the Dataflow workers and the Dataflow configuration must be specified through the `pipeline_options` parameter. \n",
    "\n",
    "You will also configure `tfdv.generate_statistics_from_csv` to use the pre-defined schema."
   ]
  },
  {
   "cell_type": "markdown",
   "metadata": {},
   "source": [
    "### Configure Dataflow settings"
   ]
  },
  {
   "cell_type": "code",
   "execution_count": null,
   "metadata": {},
   "outputs": [],
   "source": [
    "MACHINE_TYPE = 'n1-standard-4'\n",
    "REQUIREMENTS_FILE_PATH = 'requirements.txt'\n",
    "PATH_TO_WHL_FILE = '/home/tmp/tensorflow_data_validation-0.15.0-cp36-cp36m-manylinux2010_x86_64.whl'"
   ]
  },
  {
   "cell_type": "code",
   "execution_count": null,
   "metadata": {},
   "outputs": [],
   "source": [
    "#gcr.io/cloud-dataflow/v1beta3/python36:2.16.0\n",
    "\n",
    "#FROM gcr.io/cloud-dataflow/v1beta3/python-fnapi:2.8.0"
   ]
  },
  {
   "cell_type": "code",
   "execution_count": 29,
   "metadata": {},
   "outputs": [],
   "source": [
    "dockerfile_path=\"Dockerfile\""
   ]
  },
  {
   "cell_type": "code",
   "execution_count": 30,
   "metadata": {},
   "outputs": [
    {
     "name": "stdout",
     "output_type": "stream",
     "text": [
      "Writing Dockerfile\n"
     ]
    }
   ],
   "source": [
    "%%writefile {dockerfile_path}\n",
    "FROM gcr.io/cloud-dataflow/v1beta3/python36:2.16.0\n",
    "RUN pip install tensorflow-data-validation"
   ]
  },
  {
   "cell_type": "code",
   "execution_count": 31,
   "metadata": {},
   "outputs": [
    {
     "name": "stdout",
     "output_type": "stream",
     "text": [
      "Creating temporary tarball archive of 3 file(s) totalling 105.2 KiB before compression.\n",
      "Uploading tarball of [.] to [gs://jk-mlops-demo_cloudbuild/source/1575502316.43-74ab6cd4e7e7434badaebfcac8ab95bf.tgz]\n",
      "Created [https://cloudbuild.googleapis.com/v1/projects/jk-mlops-demo/builds/47404416-d0ff-4454-8d73-7ee8f9bccb1a].\n",
      "Logs are available at [https://console.cloud.google.com/gcr/builds/47404416-d0ff-4454-8d73-7ee8f9bccb1a?project=538245408688].\n",
      "----------------------------- REMOTE BUILD OUTPUT ------------------------------\n",
      "starting build \"47404416-d0ff-4454-8d73-7ee8f9bccb1a\"\n",
      "\n",
      "FETCHSOURCE\n",
      "Fetching storage object: gs://jk-mlops-demo_cloudbuild/source/1575502316.43-74ab6cd4e7e7434badaebfcac8ab95bf.tgz#1575502316912464\n",
      "Copying gs://jk-mlops-demo_cloudbuild/source/1575502316.43-74ab6cd4e7e7434badaebfcac8ab95bf.tgz#1575502316912464...\n",
      "/ [1 files][ 21.5 KiB/ 21.5 KiB]                                                \n",
      "Operation completed over 1 objects/21.5 KiB.                                     \n",
      "BUILD\n",
      "Already have image (with digest): gcr.io/cloud-builders/docker\n",
      "Sending build context to Docker daemon  111.6kB\n",
      "Step 1/2 : FROM gcr.io/cloud-dataflow/v1beta3/python36:2.16.0\n",
      "2.16.0: Pulling from cloud-dataflow/v1beta3/python36\n",
      "defd52c749a4: Pulling fs layer\n",
      "de0cbb92f758: Pulling fs layer\n",
      "bd4c5de970d6: Pulling fs layer\n",
      "31778897062f: Pulling fs layer\n",
      "77b4a94acaa3: Pulling fs layer\n",
      "c86d29ba8dc9: Pulling fs layer\n",
      "7fa03bba73de: Pulling fs layer\n",
      "e0f8ae416d08: Pulling fs layer\n",
      "b9c6c14157d7: Pulling fs layer\n",
      "d14f68b3cff0: Pulling fs layer\n",
      "0d93ffee69ab: Pulling fs layer\n",
      "4207172016af: Pulling fs layer\n",
      "e569a19cced0: Pulling fs layer\n",
      "99a5693b9ea3: Pulling fs layer\n",
      "cef4586632bd: Pulling fs layer\n",
      "31778897062f: Waiting\n",
      "77b4a94acaa3: Waiting\n",
      "c86d29ba8dc9: Waiting\n",
      "7fa03bba73de: Waiting\n",
      "e0f8ae416d08: Waiting\n",
      "b9c6c14157d7: Waiting\n",
      "d14f68b3cff0: Waiting\n",
      "0d93ffee69ab: Waiting\n",
      "4207172016af: Waiting\n",
      "e569a19cced0: Waiting\n",
      "99a5693b9ea3: Waiting\n",
      "cef4586632bd: Waiting\n",
      "bd4c5de970d6: Verifying Checksum\n",
      "bd4c5de970d6: Download complete\n",
      "defd52c749a4: Verifying Checksum\n",
      "defd52c749a4: Download complete\n",
      "de0cbb92f758: Download complete\n",
      "c86d29ba8dc9: Verifying Checksum\n",
      "c86d29ba8dc9: Download complete\n",
      "7fa03bba73de: Verifying Checksum\n",
      "7fa03bba73de: Download complete\n",
      "31778897062f: Verifying Checksum\n",
      "31778897062f: Download complete\n",
      "b9c6c14157d7: Verifying Checksum\n",
      "b9c6c14157d7: Download complete\n",
      "e0f8ae416d08: Verifying Checksum\n",
      "e0f8ae416d08: Download complete\n",
      "77b4a94acaa3: Verifying Checksum\n",
      "77b4a94acaa3: Download complete\n",
      "d14f68b3cff0: Verifying Checksum\n",
      "d14f68b3cff0: Download complete\n",
      "4207172016af: Verifying Checksum\n",
      "4207172016af: Download complete\n",
      "99a5693b9ea3: Verifying Checksum\n",
      "99a5693b9ea3: Download complete\n",
      "cef4586632bd: Verifying Checksum\n",
      "cef4586632bd: Download complete\n",
      "0d93ffee69ab: Verifying Checksum\n",
      "0d93ffee69ab: Download complete\n",
      "e569a19cced0: Verifying Checksum\n",
      "e569a19cced0: Download complete\n",
      "defd52c749a4: Pull complete\n",
      "de0cbb92f758: Pull complete\n",
      "bd4c5de970d6: Pull complete\n",
      "31778897062f: Pull complete\n",
      "77b4a94acaa3: Pull complete\n",
      "c86d29ba8dc9: Pull complete\n",
      "7fa03bba73de: Pull complete\n",
      "e0f8ae416d08: Pull complete\n",
      "b9c6c14157d7: Pull complete\n",
      "d14f68b3cff0: Pull complete\n",
      "0d93ffee69ab: Pull complete\n",
      "4207172016af: Pull complete\n",
      "e569a19cced0: Pull complete\n",
      "99a5693b9ea3: Pull complete\n",
      "cef4586632bd: Pull complete\n",
      "Digest: sha256:7321fcf50274eea8caf1261bce8939fcb4178900522083088a51ceef0db05c9b\n",
      "Status: Downloaded newer image for gcr.io/cloud-dataflow/v1beta3/python36:2.16.0\n",
      " ---> 46db055f2792\n",
      "Step 2/2 : RUN pip install tensorflow-data-validation\n",
      " ---> Running in f146e9e1817e\n",
      "Collecting tensorflow-data-validation\n",
      "  Downloading https://files.pythonhosted.org/packages/3e/1e/0542f5d28066ac59d3e3efa9f7389ef42ab69393e242187740d49edd3e3c/tensorflow_data_validation-0.15.0-cp36-cp36m-manylinux2010_x86_64.whl (2.3MB)\n",
      "Requirement already satisfied: absl-py<0.9,>=0.7 in /usr/local/lib/python3.6/site-packages (from tensorflow-data-validation) (0.8.1)\n",
      "Requirement already satisfied: six<2,>=1.12 in /usr/local/lib/python3.6/site-packages (from tensorflow-data-validation) (1.12.0)\n",
      "Collecting tensorflow-metadata<0.16,>=0.15 (from tensorflow-data-validation)\n",
      "  Downloading https://files.pythonhosted.org/packages/bd/00/f353385e40f7962b63b94d17f7050b5853bc20c243483cff0cb3da03d206/tensorflow_metadata-0.15.1-py2.py3-none-any.whl\n",
      "Collecting tensorflow-transform<0.16,>=0.15 (from tensorflow-data-validation)\n",
      "  Downloading https://files.pythonhosted.org/packages/34/88/9ee55045a1ffbf44fb75b10a30c54609f58987987f69ace9b971938e750d/tensorflow-transform-0.15.0.tar.gz (222kB)\n",
      "Collecting joblib<0.15,>=0.12 (from tensorflow-data-validation)\n",
      "  Downloading https://files.pythonhosted.org/packages/8f/42/155696f85f344c066e17af287359c9786b436b1bf86029bb3411283274f3/joblib-0.14.0-py2.py3-none-any.whl (294kB)\n",
      "Requirement already satisfied: pandas<1,>=0.24 in /usr/local/lib/python3.6/site-packages (from tensorflow-data-validation) (0.24.2)\n",
      "Collecting ipython>=5 (from tensorflow-data-validation)\n",
      "  Downloading https://files.pythonhosted.org/packages/00/17/c3e3dd337cc601b47c599441786fd4e888b587a2a512d38ac752274fd0bc/ipython-7.10.1-py3-none-any.whl (778kB)\n",
      "Requirement already satisfied: scikit-learn<0.22,>=0.18 in /usr/local/lib/python3.6/site-packages (from tensorflow-data-validation) (0.20.3)\n",
      "Requirement already satisfied: pyarrow<0.15,>=0.14 in /usr/local/lib/python3.6/site-packages (from tensorflow-data-validation) (0.14.1)\n",
      "Collecting apache-beam[gcp]<3,>=2.16 (from tensorflow-data-validation)\n",
      "  Downloading https://files.pythonhosted.org/packages/82/b3/b6dcbd94bf8a5ae6a0be5fc988bdfb0b0dfb87ea37e788dc4dcc039a3aee/apache_beam-2.16.0-cp36-cp36m-manylinux1_x86_64.whl (3.0MB)\n",
      "Requirement already satisfied: numpy<2,>=1.16 in /usr/local/lib/python3.6/site-packages (from tensorflow-data-validation) (1.17.2)\n",
      "Requirement already satisfied: protobuf<4,>=3.7 in /usr/local/lib/python3.6/site-packages (from tensorflow-data-validation) (3.9.1)\n",
      "Collecting tfx-bsl<0.16,>=0.15 (from tensorflow-data-validation)\n",
      "  Downloading https://files.pythonhosted.org/packages/69/f7/5b3d88b609244df551145bb784db1b282af22e515f29f4c8d1794c42bfe7/tfx_bsl-0.15.3-cp36-cp36m-manylinux2010_x86_64.whl (1.9MB)\n",
      "Collecting tensorflow<3,>=1.15 (from tensorflow-data-validation)\n",
      "  Downloading https://files.pythonhosted.org/packages/46/0f/7bd55361168bb32796b360ad15a25de6966c9c1beb58a8e30c01c8279862/tensorflow-2.0.0-cp36-cp36m-manylinux2010_x86_64.whl (86.3MB)\n",
      "Requirement already satisfied: googleapis-common-protos in /usr/local/lib/python3.6/site-packages (from tensorflow-metadata<0.16,>=0.15->tensorflow-data-validation) (1.6.0)\n",
      "Requirement already satisfied: pydot<2,>=1.2 in /usr/local/lib/python3.6/site-packages (from tensorflow-transform<0.16,>=0.15->tensorflow-data-validation) (1.4.1)\n",
      "Requirement already satisfied: python-dateutil>=2.5.0 in /usr/local/lib/python3.6/site-packages (from pandas<1,>=0.24->tensorflow-data-validation) (2.8.0)\n",
      "Requirement already satisfied: pytz>=2011k in /usr/local/lib/python3.6/site-packages (from pandas<1,>=0.24->tensorflow-data-validation) (2019.2)\n",
      "Collecting prompt-toolkit!=3.0.0,!=3.0.1,<3.1.0,>=2.0.0 (from ipython>=5->tensorflow-data-validation)\n",
      "  Downloading https://files.pythonhosted.org/packages/7f/1f/e145dd467dc9b0e6f1e64232c03119498dfec497e383f1e8be9f83eaa97e/prompt_toolkit-3.0.2-py3-none-any.whl (344kB)\n",
      "Collecting pickleshare (from ipython>=5->tensorflow-data-validation)\n",
      "  Downloading https://files.pythonhosted.org/packages/9a/41/220f49aaea88bc6fa6cba8d05ecf24676326156c23b991e80b3f2fc24c77/pickleshare-0.7.5-py2.py3-none-any.whl\n",
      "Collecting traitlets>=4.2 (from ipython>=5->tensorflow-data-validation)\n",
      "  Downloading https://files.pythonhosted.org/packages/ca/ab/872a23e29cec3cf2594af7e857f18b687ad21039c1f9b922fac5b9b142d5/traitlets-4.3.3-py2.py3-none-any.whl (75kB)\n",
      "Collecting decorator (from ipython>=5->tensorflow-data-validation)\n",
      "  Downloading https://files.pythonhosted.org/packages/8f/b7/f329cfdc75f3d28d12c65980e4469e2fa373f1953f5df6e370e84ea2e875/decorator-4.4.1-py2.py3-none-any.whl\n",
      "Requirement already satisfied: setuptools>=18.5 in /usr/local/lib/python3.6/site-packages (from ipython>=5->tensorflow-data-validation) (41.2.0)\n",
      "Collecting pygments (from ipython>=5->tensorflow-data-validation)\n",
      "  Downloading https://files.pythonhosted.org/packages/be/39/32da3184734730c0e4d3fa3b2b5872104668ad6dc1b5a73d8e477e5fe967/Pygments-2.5.2-py2.py3-none-any.whl (896kB)\n",
      "Collecting pexpect; sys_platform != \"win32\" (from ipython>=5->tensorflow-data-validation)\n",
      "  Downloading https://files.pythonhosted.org/packages/0e/3e/377007e3f36ec42f1b84ec322ee12141a9e10d808312e5738f52f80a232c/pexpect-4.7.0-py2.py3-none-any.whl (58kB)\n",
      "Collecting jedi>=0.10 (from ipython>=5->tensorflow-data-validation)\n",
      "  Downloading https://files.pythonhosted.org/packages/55/54/da994f359e4e7da4776a200e76dbc85ba5fc319eefc22e33d55296d95a1d/jedi-0.15.1-py2.py3-none-any.whl (1.0MB)\n",
      "Collecting backcall (from ipython>=5->tensorflow-data-validation)\n",
      "  Downloading https://files.pythonhosted.org/packages/84/71/c8ca4f5bb1e08401b916c68003acf0a0655df935d74d93bf3f3364b310e0/backcall-0.1.0.tar.gz\n",
      "Requirement already satisfied: scipy>=0.13.3 in /usr/local/lib/python3.6/site-packages (from scikit-learn<0.22,>=0.18->tensorflow-data-validation) (1.3.1)\n",
      "Requirement already satisfied: future<1.0.0,>=0.16.0 in /usr/local/lib/python3.6/site-packages (from apache-beam[gcp]<3,>=2.16->tensorflow-data-validation) (0.17.1)\n",
      "Requirement already satisfied: crcmod<2.0,>=1.7 in /usr/local/lib/python3.6/site-packages (from apache-beam[gcp]<3,>=2.16->tensorflow-data-validation) (1.7)\n",
      "Requirement already satisfied: httplib2<=0.12.0,>=0.8 in /usr/local/lib/python3.6/site-packages (from apache-beam[gcp]<3,>=2.16->tensorflow-data-validation) (0.12.0)\n",
      "Requirement already satisfied: oauth2client<4,>=2.0.1 in /usr/local/lib/python3.6/site-packages (from apache-beam[gcp]<3,>=2.16->tensorflow-data-validation) (3.0.0)\n",
      "Requirement already satisfied: pyyaml<4.0.0,>=3.12 in /usr/local/lib/python3.6/site-packages (from apache-beam[gcp]<3,>=2.16->tensorflow-data-validation) (3.13)\n",
      "Requirement already satisfied: mock<3.0.0,>=1.0.1 in /usr/local/lib/python3.6/site-packages (from apache-beam[gcp]<3,>=2.16->tensorflow-data-validation) (2.0.0)\n",
      "Requirement already satisfied: dill<0.3.1,>=0.3.0 in /usr/local/lib/python3.6/site-packages (from apache-beam[gcp]<3,>=2.16->tensorflow-data-validation) (0.3.0)\n",
      "Requirement already satisfied: avro-python3<2.0.0,>=1.8.1; python_version >= \"3.0\" in /usr/local/lib/python3.6/site-packages (from apache-beam[gcp]<3,>=2.16->tensorflow-data-validation) (1.8.2)\n",
      "Requirement already satisfied: grpcio<2,>=1.12.1 in /usr/local/lib/python3.6/site-packages (from apache-beam[gcp]<3,>=2.16->tensorflow-data-validation) (1.23.0)\n",
      "Requirement already satisfied: fastavro<0.22,>=0.21.4 in /usr/local/lib/python3.6/site-packages (from apache-beam[gcp]<3,>=2.16->tensorflow-data-validation) (0.21.24)\n",
      "Requirement already satisfied: pymongo<4.0.0,>=3.8.0 in /usr/local/lib/python3.6/site-packages (from apache-beam[gcp]<3,>=2.16->tensorflow-data-validation) (3.8.0)\n",
      "Requirement already satisfied: hdfs<3.0.0,>=2.1.0 in /usr/local/lib/python3.6/site-packages (from apache-beam[gcp]<3,>=2.16->tensorflow-data-validation) (2.5.8)\n",
      "Requirement already satisfied: google-cloud-core<2,>=0.28.1; extra == \"gcp\" in /usr/local/lib/python3.6/site-packages (from apache-beam[gcp]<3,>=2.16->tensorflow-data-validation) (1.0.3)\n",
      "Requirement already satisfied: google-cloud-bigtable<1.1.0,>=0.31.1; extra == \"gcp\" in /usr/local/lib/python3.6/site-packages (from apache-beam[gcp]<3,>=2.16->tensorflow-data-validation) (1.0.0)\n",
      "Requirement already satisfied: google-cloud-pubsub<1.1.0,>=0.39.0; extra == \"gcp\" in /usr/local/lib/python3.6/site-packages (from apache-beam[gcp]<3,>=2.16->tensorflow-data-validation) (1.0.0)\n",
      "Requirement already satisfied: google-cloud-datastore<1.8.0,>=1.7.1; extra == \"gcp\" in /usr/local/lib/python3.6/site-packages (from apache-beam[gcp]<3,>=2.16->tensorflow-data-validation) (1.7.4)\n",
      "Requirement already satisfied: cachetools<4,>=3.1.0; extra == \"gcp\" in /usr/local/lib/python3.6/site-packages (from apache-beam[gcp]<3,>=2.16->tensorflow-data-validation) (3.1.1)\n",
      "Requirement already satisfied: google-cloud-bigquery<1.18.0,>=1.6.0; extra == \"gcp\" in /usr/local/lib/python3.6/site-packages (from apache-beam[gcp]<3,>=2.16->tensorflow-data-validation) (1.17.0)\n",
      "Requirement already satisfied: google-apitools<0.5.29,>=0.5.28; extra == \"gcp\" in /usr/local/lib/python3.6/site-packages (from apache-beam[gcp]<3,>=2.16->tensorflow-data-validation) (0.5.28)\n",
      "Collecting psutil<6,>=5.6 (from tfx-bsl<0.16,>=0.15->tensorflow-data-validation)\n",
      "  Downloading https://files.pythonhosted.org/packages/73/93/4f8213fbe66fc20cb904f35e6e04e20b47b85bee39845cc66a0bcf5ccdcb/psutil-5.6.7.tar.gz (448kB)\n",
      "Collecting tensorflow-serving-api<3,>=1.15 (from tfx-bsl<0.16,>=0.15->tensorflow-data-validation)\n",
      "  Downloading https://files.pythonhosted.org/packages/7b/91/2abebef1df17ee6d13aecf32e0f258dfcf62437ab989957b2a62d24f8630/tensorflow_serving_api-2.0.0-py2.py3-none-any.whl\n",
      "Requirement already satisfied: opt-einsum>=2.3.2 in /usr/local/lib/python3.6/site-packages (from tensorflow<3,>=1.15->tensorflow-data-validation) (3.1.0)\n",
      "Requirement already satisfied: wrapt>=1.11.1 in /usr/local/lib/python3.6/site-packages (from tensorflow<3,>=1.15->tensorflow-data-validation) (1.11.2)\n",
      "Requirement already satisfied: termcolor>=1.1.0 in /usr/local/lib/python3.6/site-packages (from tensorflow<3,>=1.15->tensorflow-data-validation) (1.1.0)\n",
      "Requirement already satisfied: wheel>=0.26 in /usr/local/lib/python3.6/site-packages (from tensorflow<3,>=1.15->tensorflow-data-validation) (0.33.6)\n",
      "Requirement already satisfied: astor>=0.6.0 in /usr/local/lib/python3.6/site-packages (from tensorflow<3,>=1.15->tensorflow-data-validation) (0.8.0)\n",
      "Requirement already satisfied: google-pasta>=0.1.6 in /usr/local/lib/python3.6/site-packages (from tensorflow<3,>=1.15->tensorflow-data-validation) (0.1.7)\n",
      "Collecting tensorboard<2.1.0,>=2.0.0 (from tensorflow<3,>=1.15->tensorflow-data-validation)\n",
      "  Downloading https://files.pythonhosted.org/packages/76/54/99b9d5d52d5cb732f099baaaf7740403e83fe6b0cedde940fabd2b13d75a/tensorboard-2.0.2-py3-none-any.whl (3.8MB)\n",
      "Requirement already satisfied: keras-applications>=1.0.8 in /usr/local/lib/python3.6/site-packages (from tensorflow<3,>=1.15->tensorflow-data-validation) (1.0.8)\n",
      "Requirement already satisfied: gast==0.2.2 in /usr/local/lib/python3.6/site-packages (from tensorflow<3,>=1.15->tensorflow-data-validation) (0.2.2)\n",
      "Requirement already satisfied: keras-preprocessing>=1.0.5 in /usr/local/lib/python3.6/site-packages (from tensorflow<3,>=1.15->tensorflow-data-validation) (1.1.0)\n",
      "Collecting tensorflow-estimator<2.1.0,>=2.0.0 (from tensorflow<3,>=1.15->tensorflow-data-validation)\n",
      "  Downloading https://files.pythonhosted.org/packages/fc/08/8b927337b7019c374719145d1dceba21a8bb909b93b1ad6f8fb7d22c1ca1/tensorflow_estimator-2.0.1-py2.py3-none-any.whl (449kB)\n",
      "Requirement already satisfied: pyparsing>=2.1.4 in /usr/local/lib/python3.6/site-packages (from pydot<2,>=1.2->tensorflow-transform<0.16,>=0.15->tensorflow-data-validation) (2.4.2)\n",
      "Collecting wcwidth (from prompt-toolkit!=3.0.0,!=3.0.1,<3.1.0,>=2.0.0->ipython>=5->tensorflow-data-validation)\n",
      "  Downloading https://files.pythonhosted.org/packages/7e/9f/526a6947247599b084ee5232e4f9190a38f398d7300d866af3ab571a5bfe/wcwidth-0.1.7-py2.py3-none-any.whl\n",
      "Collecting ipython-genutils (from traitlets>=4.2->ipython>=5->tensorflow-data-validation)\n",
      "  Downloading https://files.pythonhosted.org/packages/fa/bc/9bd3b5c2b4774d5f33b2d544f1460be9df7df2fe42f352135381c347c69a/ipython_genutils-0.2.0-py2.py3-none-any.whl\n",
      "Collecting ptyprocess>=0.5 (from pexpect; sys_platform != \"win32\"->ipython>=5->tensorflow-data-validation)\n",
      "  Downloading https://files.pythonhosted.org/packages/d1/29/605c2cc68a9992d18dada28206eeada56ea4bd07a239669da41674648b6f/ptyprocess-0.6.0-py2.py3-none-any.whl\n",
      "Collecting parso>=0.5.0 (from jedi>=0.10->ipython>=5->tensorflow-data-validation)\n",
      "  Downloading https://files.pythonhosted.org/packages/a3/bd/bf4e5bd01d79906e5b945a7af033154da49fd2b0d5b5c705a21330323305/parso-0.5.1-py2.py3-none-any.whl (95kB)\n",
      "Requirement already satisfied: rsa>=3.1.4 in /usr/local/lib/python3.6/site-packages (from oauth2client<4,>=2.0.1->apache-beam[gcp]<3,>=2.16->tensorflow-data-validation) (4.0)\n",
      "Requirement already satisfied: pyasn1-modules>=0.0.5 in /usr/local/lib/python3.6/site-packages (from oauth2client<4,>=2.0.1->apache-beam[gcp]<3,>=2.16->tensorflow-data-validation) (0.2.6)\n",
      "Requirement already satisfied: pyasn1>=0.1.7 in /usr/local/lib/python3.6/site-packages (from oauth2client<4,>=2.0.1->apache-beam[gcp]<3,>=2.16->tensorflow-data-validation) (0.4.7)\n",
      "Requirement already satisfied: pbr>=0.11 in /usr/local/lib/python3.6/site-packages (from mock<3.0.0,>=1.0.1->apache-beam[gcp]<3,>=2.16->tensorflow-data-validation) (5.4.3)\n",
      "Requirement already satisfied: docopt in /usr/local/lib/python3.6/site-packages (from hdfs<3.0.0,>=2.1.0->apache-beam[gcp]<3,>=2.16->tensorflow-data-validation) (0.6.2)\n",
      "Requirement already satisfied: requests>=2.7.0 in /usr/local/lib/python3.6/site-packages (from hdfs<3.0.0,>=2.1.0->apache-beam[gcp]<3,>=2.16->tensorflow-data-validation) (2.22.0)\n",
      "Requirement already satisfied: google-api-core<2.0.0dev,>=1.14.0 in /usr/local/lib/python3.6/site-packages (from google-cloud-core<2,>=0.28.1; extra == \"gcp\"->apache-beam[gcp]<3,>=2.16->tensorflow-data-validation) (1.14.3)\n",
      "Requirement already satisfied: grpc-google-iam-v1<0.13dev,>=0.12.3 in /usr/local/lib/python3.6/site-packages (from google-cloud-bigtable<1.1.0,>=0.31.1; extra == \"gcp\"->apache-beam[gcp]<3,>=2.16->tensorflow-data-validation) (0.12.3)\n",
      "Requirement already satisfied: google-resumable-media>=0.3.1 in /usr/local/lib/python3.6/site-packages (from google-cloud-bigquery<1.18.0,>=1.6.0; extra == \"gcp\"->apache-beam[gcp]<3,>=2.16->tensorflow-data-validation) (0.4.1)\n",
      "Requirement already satisfied: fasteners>=0.14 in /usr/local/lib/python3.6/site-packages (from google-apitools<0.5.29,>=0.5.28; extra == \"gcp\"->apache-beam[gcp]<3,>=2.16->tensorflow-data-validation) (0.15)\n",
      "Requirement already satisfied: google-auth<2,>=1.6.3 in /usr/local/lib/python3.6/site-packages (from tensorboard<2.1.0,>=2.0.0->tensorflow<3,>=1.15->tensorflow-data-validation) (1.6.3)\n",
      "Collecting google-auth-oauthlib<0.5,>=0.4.1 (from tensorboard<2.1.0,>=2.0.0->tensorflow<3,>=1.15->tensorflow-data-validation)\n",
      "  Downloading https://files.pythonhosted.org/packages/7b/b8/88def36e74bee9fce511c9519571f4e485e890093ab7442284f4ffaef60b/google_auth_oauthlib-0.4.1-py2.py3-none-any.whl\n",
      "Requirement already satisfied: markdown>=2.6.8 in /usr/local/lib/python3.6/site-packages (from tensorboard<2.1.0,>=2.0.0->tensorflow<3,>=1.15->tensorflow-data-validation) (3.1.1)\n",
      "Requirement already satisfied: werkzeug>=0.11.15 in /usr/local/lib/python3.6/site-packages (from tensorboard<2.1.0,>=2.0.0->tensorflow<3,>=1.15->tensorflow-data-validation) (0.16.0)\n",
      "Requirement already satisfied: h5py in /usr/local/lib/python3.6/site-packages (from keras-applications>=1.0.8->tensorflow<3,>=1.15->tensorflow-data-validation) (2.10.0)\n",
      "Requirement already satisfied: urllib3!=1.25.0,!=1.25.1,<1.26,>=1.21.1 in /usr/local/lib/python3.6/site-packages (from requests>=2.7.0->hdfs<3.0.0,>=2.1.0->apache-beam[gcp]<3,>=2.16->tensorflow-data-validation) (1.25.6)\n",
      "Requirement already satisfied: idna<2.9,>=2.5 in /usr/local/lib/python3.6/site-packages (from requests>=2.7.0->hdfs<3.0.0,>=2.1.0->apache-beam[gcp]<3,>=2.16->tensorflow-data-validation) (2.8)\n",
      "Requirement already satisfied: chardet<3.1.0,>=3.0.2 in /usr/local/lib/python3.6/site-packages (from requests>=2.7.0->hdfs<3.0.0,>=2.1.0->apache-beam[gcp]<3,>=2.16->tensorflow-data-validation) (3.0.4)\n",
      "Requirement already satisfied: certifi>=2017.4.17 in /usr/local/lib/python3.6/site-packages (from requests>=2.7.0->hdfs<3.0.0,>=2.1.0->apache-beam[gcp]<3,>=2.16->tensorflow-data-validation) (2019.9.11)\n",
      "Requirement already satisfied: monotonic>=0.1 in /usr/local/lib/python3.6/site-packages (from fasteners>=0.14->google-apitools<0.5.29,>=0.5.28; extra == \"gcp\"->apache-beam[gcp]<3,>=2.16->tensorflow-data-validation) (1.5)\n",
      "Collecting requests-oauthlib>=0.7.0 (from google-auth-oauthlib<0.5,>=0.4.1->tensorboard<2.1.0,>=2.0.0->tensorflow<3,>=1.15->tensorflow-data-validation)\n",
      "  Downloading https://files.pythonhosted.org/packages/a3/12/b92740d845ab62ea4edf04d2f4164d82532b5a0b03836d4d4e71c6f3d379/requests_oauthlib-1.3.0-py2.py3-none-any.whl\n",
      "Collecting oauthlib>=3.0.0 (from requests-oauthlib>=0.7.0->google-auth-oauthlib<0.5,>=0.4.1->tensorboard<2.1.0,>=2.0.0->tensorflow<3,>=1.15->tensorflow-data-validation)\n",
      "  Downloading https://files.pythonhosted.org/packages/05/57/ce2e7a8fa7c0afb54a0581b14a65b56e62b5759dbc98e80627142b8a3704/oauthlib-3.1.0-py2.py3-none-any.whl (147kB)\n",
      "Building wheels for collected packages: tensorflow-transform, backcall, psutil\n",
      "  Building wheel for tensorflow-transform (setup.py): started\n",
      "  Building wheel for tensorflow-transform (setup.py): finished with status 'done'\n",
      "  Created wheel for tensorflow-transform: filename=tensorflow_transform-0.15.0-cp36-none-any.whl size=280592 sha256=71d53e21dd99ce6f6d99a0d7b2cff874e30526a769b1ce2332cd33cd02eae7b5\n",
      "  Stored in directory: /root/.cache/pip/wheels/18/62/08/7b4aee4bd80bd969f9c9c653556b0c8732c9c1fbff18a2b26d\n",
      "  Building wheel for backcall (setup.py): started\n",
      "  Building wheel for backcall (setup.py): finished with status 'done'\n",
      "  Created wheel for backcall: filename=backcall-0.1.0-cp36-none-any.whl size=10411 sha256=3309458841d3be8f071f08fd4f60e2bf5d5e7d75311c2448ffa5095bb8cf02e1\n",
      "  Stored in directory: /root/.cache/pip/wheels/98/b0/dd/29e28ff615af3dda4c67cab719dd51357597eabff926976b45\n",
      "  Building wheel for psutil (setup.py): started\n",
      "  Building wheel for psutil (setup.py): finished with status 'done'\n",
      "  Created wheel for psutil: filename=psutil-5.6.7-cp36-cp36m-linux_x86_64.whl size=273433 sha256=3441eb761068c1baa3ab6521e6bb9fb54eb232657a2614c2d90fb677bf1c8905\n",
      "  Stored in directory: /root/.cache/pip/wheels/52/41/b0/bf50409fe2b1d3b79afa3eed71b54b3e30fe5b695db2c7ba2e\n",
      "Successfully built tensorflow-transform backcall psutil\n",
      "\u001b[91mERROR: tensorflow-cpu 1.15.0rc3 has requirement tensorboard<1.16.0,>=1.15.0, but you'll have tensorboard 2.0.2 which is incompatible.\n",
      "\u001b[0m\u001b[91mERROR: tensorflow-cpu 1.15.0rc3 has requirement tensorflow-estimator==1.15.1, but you'll have tensorflow-estimator 2.0.1 which is incompatible.\n",
      "\u001b[0m\u001b[91mERROR: tensorboard 2.0.2 has requirement grpcio>=1.24.3, but you'll have grpcio 1.23.0 which is incompatible.\n",
      "\u001b[0mInstalling collected packages: tensorflow-metadata, apache-beam, oauthlib, requests-oauthlib, google-auth-oauthlib, tensorboard, tensorflow-estimator, tensorflow, psutil, tensorflow-serving-api, tfx-bsl, tensorflow-transform, joblib, wcwidth, prompt-toolkit, pickleshare, ipython-genutils, decorator, traitlets, pygments, ptyprocess, pexpect, parso, jedi, backcall, ipython, tensorflow-data-validation\n",
      "  Found existing installation: tensorboard 1.15.0\n",
      "    Uninstalling tensorboard-1.15.0:\n",
      "      Successfully uninstalled tensorboard-1.15.0\n",
      "  Found existing installation: tensorflow-estimator 1.15.1\n",
      "    Uninstalling tensorflow-estimator-1.15.1:\n",
      "      Successfully uninstalled tensorflow-estimator-1.15.1\n",
      "Successfully installed apache-beam-2.16.0 backcall-0.1.0 decorator-4.4.1 google-auth-oauthlib-0.4.1 ipython-7.10.1 ipython-genutils-0.2.0 jedi-0.15.1 joblib-0.14.0 oauthlib-3.1.0 parso-0.5.1 pexpect-4.7.0 pickleshare-0.7.5 prompt-toolkit-3.0.2 psutil-5.6.7 ptyprocess-0.6.0 pygments-2.5.2 requests-oauthlib-1.3.0 tensorboard-2.0.2 tensorflow-2.0.0 tensorflow-data-validation-0.15.0 tensorflow-estimator-2.0.1 tensorflow-metadata-0.15.1 tensorflow-serving-api-2.0.0 tensorflow-transform-0.15.0 tfx-bsl-0.15.3 traitlets-4.3.3 wcwidth-0.1.7\n",
      "\u001b[91mWARNING: You are using pip version 19.2.3, however version 19.3.1 is available.\n",
      "You should consider upgrading via the 'pip install --upgrade pip' command.\n",
      "\u001b[0mRemoving intermediate container f146e9e1817e\n",
      " ---> b0a7bf65ac20\n",
      "Successfully built b0a7bf65ac20\n",
      "Successfully tagged gcr.io/jk-mlops-demo/lab_11_dataflow:latest\n",
      "PUSH\n",
      "Pushing gcr.io/jk-mlops-demo/lab_11_dataflow:latest\n",
      "The push refers to repository [gcr.io/jk-mlops-demo/lab_11_dataflow]\n",
      "15fd50b2167d: Preparing\n",
      "4e8348006852: Preparing\n",
      "963a67103bde: Preparing\n",
      "33dbf98daec8: Preparing\n",
      "e2b6da9fbb13: Preparing\n",
      "d261b2accfd7: Preparing\n",
      "9ae6a9121ede: Preparing\n",
      "986b731064fd: Preparing\n",
      "6a204f3eef6b: Preparing\n",
      "23178c0d0f49: Preparing\n",
      "946babcd54b9: Preparing\n",
      "409170aec809: Preparing\n",
      "2e669e0134f5: Preparing\n",
      "8bacec4e3446: Preparing\n",
      "26b1991f37bd: Preparing\n",
      "55e6b89812f3: Preparing\n",
      "d261b2accfd7: Waiting\n",
      "9ae6a9121ede: Waiting\n",
      "986b731064fd: Waiting\n",
      "6a204f3eef6b: Waiting\n",
      "23178c0d0f49: Waiting\n",
      "946babcd54b9: Waiting\n",
      "409170aec809: Waiting\n",
      "2e669e0134f5: Waiting\n",
      "8bacec4e3446: Waiting\n",
      "26b1991f37bd: Waiting\n",
      "55e6b89812f3: Waiting\n",
      "963a67103bde: Mounted from cloud-dataflow/v1beta3/python36\n",
      "33dbf98daec8: Mounted from cloud-dataflow/v1beta3/python36\n",
      "4e8348006852: Mounted from cloud-dataflow/v1beta3/python36\n",
      "e2b6da9fbb13: Mounted from cloud-dataflow/v1beta3/python36\n",
      "d261b2accfd7: Mounted from cloud-dataflow/v1beta3/python36\n",
      "9ae6a9121ede: Mounted from cloud-dataflow/v1beta3/python36\n",
      "986b731064fd: Mounted from cloud-dataflow/v1beta3/python36\n",
      "6a204f3eef6b: Mounted from cloud-dataflow/v1beta3/python36\n",
      "23178c0d0f49: Mounted from cloud-dataflow/v1beta3/python36\n",
      "409170aec809: Mounted from cloud-dataflow/v1beta3/python36\n",
      "946babcd54b9: Mounted from cloud-dataflow/v1beta3/python36\n",
      "2e669e0134f5: Mounted from cloud-dataflow/v1beta3/python36\n",
      "8bacec4e3446: Mounted from cloud-dataflow/v1beta3/python36\n",
      "26b1991f37bd: Mounted from cloud-dataflow/v1beta3/python36\n",
      "55e6b89812f3: Mounted from cloud-dataflow/v1beta3/python36\n",
      "15fd50b2167d: Pushed\n",
      "latest: digest: sha256:e37b7f6d347f23e5e8bbba01e33a1ed4abd4066ac39ef81d7de3e2f9ab88b11c size: 3698\n",
      "DONE\n",
      "--------------------------------------------------------------------------------\n",
      "\n",
      "ID                                    CREATE_TIME                DURATION  SOURCE                                                                                   IMAGES                                          STATUS\n",
      "47404416-d0ff-4454-8d73-7ee8f9bccb1a  2019-12-04T23:31:57+00:00  2M31S     gs://jk-mlops-demo_cloudbuild/source/1575502316.43-74ab6cd4e7e7434badaebfcac8ab95bf.tgz  gcr.io/jk-mlops-demo/lab_11_dataflow (+1 more)  SUCCESS\n"
     ]
    }
   ],
   "source": [
    "IMAGE_NAME=\"lab_11_dataflow\"\n",
    "IMAGE_URI=\"gcr.io/{}/{}:latest\".format(PROJECT_ID, IMAGE_NAME)\n",
    "!gcloud builds submit --timeout 15m --tag $IMAGE_URI"
   ]
  },
  {
   "cell_type": "code",
   "execution_count": 9,
   "metadata": {},
   "outputs": [
    {
     "name": "stdout",
     "output_type": "stream",
     "text": [
      "Overwriting setup.py\n"
     ]
    }
   ],
   "source": [
    "%%writefile setup.py\n",
    "\n",
    "from setuptools import setup\n",
    "\n",
    "setup(\n",
    "    name='custom-predictor-2',\n",
    "    description='Custom prediction routine.',\n",
    "    version='0.1',\n",
    "    install_requires=[\n",
    " #     'httplib2==0.12.0',\n",
    " #     'tensorflow==1.15',\n",
    " #     'tensorflow-serving-api==1.15',\n",
    "      'tensorflow_data_validation==0.15.0'\n",
    "    ]\n",
    ")"
   ]
  },
  {
   "cell_type": "code",
   "execution_count": 10,
   "metadata": {},
   "outputs": [],
   "source": [
    "options = PipelineOptions()\n",
    "\n",
    "options.view_as(GoogleCloudOptions).project = PROJECT_ID\n",
    "options.view_as(GoogleCloudOptions).region = REGION\n",
    "options.view_as(GoogleCloudOptions).job_name = \"tfdv-{}\".format(time.strftime(\"%Y%m%d-%H%M%S\"))\n",
    "options.view_as(GoogleCloudOptions).staging_location = STAGING_BUCKET + '/staging/'\n",
    "options.view_as(GoogleCloudOptions).temp_location = STAGING_BUCKET + '/tmp/'\n",
    "options.view_as(StandardOptions).runner = 'DataflowRunner'\n",
    "#options.view_as(SetupOptions).save_main_session = True\n",
    "#options.view_as(SetupOptions).extra_packages = [PATH_TO_WHL_FILE]\n",
    "options.view_as(DebugOptions).experiments = ['shuffle_mode=auto', 'use_fastavro']\n",
    "#options.view_as(WorkerOptions).worker_harness_container_image = IMAGE_URI\n",
    "options.view_as(SetupOptions).setup_file = '/home/mlops-labs/Lab-11-TFDV/01-Covertype-Dataset/setup.py'\n",
    "#options.view_as(SetupOptions).requirements_file = 'requirements.txt'"
   ]
  },
  {
   "cell_type": "markdown",
   "metadata": {},
   "source": [
    "### Regenerate statistics\n",
    "Regenerate the statistics using the schema"
   ]
  },
  {
   "cell_type": "code",
   "execution_count": 16,
   "metadata": {},
   "outputs": [
    {
     "name": "stderr",
     "output_type": "stream",
     "text": [
      "WARNING:root:Discarding unparseable args: ['-f', '/root/.local/share/jupyter/runtime/kernel-18857d6e-014c-4eef-b80a-238964665771.json']\n",
      "WARNING:root:Discarding unparseable args: ['-f', '/root/.local/share/jupyter/runtime/kernel-18857d6e-014c-4eef-b80a-238964665771.json']\n"
     ]
    }
   ],
   "source": [
    "stats_options = tfdv.StatsOptions(schema=schema, infer_type_from_schema=True)\n",
    "\n",
    "train_stats = tfdv.generate_statistics_from_csv(\n",
    "    data_location=TRAINING_DATASET_WITH_MISSING_VALUES,\n",
    "    stats_options=stats_options,\n",
    "    pipeline_options=options,\n",
    "    output_path=STAGING_BUCKET + '/output/'\n",
    ")"
   ]
  },
  {
   "cell_type": "code",
   "execution_count": 13,
   "metadata": {},
   "outputs": [
    {
     "data": {
      "text/html": [
       "<iframe id='facets-iframe' width=\"100%\" height=\"500px\"></iframe>\n",
       "        <script>\n",
       "        facets_iframe = document.getElementById('facets-iframe');\n",
       "        facets_html = '<link rel=\"import\" href=\"https://raw.githubusercontent.com/PAIR-code/facets/master/facets-dist/facets-jupyter.html\"><facets-overview proto-input=\"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\"></facets-overview>';\n",
       "        facets_iframe.srcdoc = facets_html;\n",
       "         facets_iframe.id = \"\";\n",
       "         setTimeout(() => {\n",
       "           facets_iframe.setAttribute('height', facets_iframe.contentWindow.document.body.offsetHeight + 'px')\n",
       "         }, 1500)\n",
       "         </script>"
      ],
      "text/plain": [
       "<IPython.core.display.HTML object>"
      ]
     },
     "metadata": {},
     "output_type": "display_data"
    }
   ],
   "source": [
    "tfdv.visualize_statistics(train_stats)"
   ]
  },
  {
   "cell_type": "code",
   "execution_count": null,
   "metadata": {},
   "outputs": [],
   "source": [
    "stats_options = tfdv.StatsOptions(schema=schema, infer_type_from_schema=True)\n",
    "\n",
    "train_stats = tfdv.generate_statistics_from_csv(\n",
    "    data_location=EVALUATION_DATASET,\n",
    "    stats_options=stats_options\n",
    ")\n",
    "\n",
    "tfdv.visualize_statistics(train_stats)"
   ]
  },
  {
   "cell_type": "code",
   "execution_count": null,
   "metadata": {},
   "outputs": [],
   "source": [
    "stats_options = tfdv.StatsOptions(schema=schema, infer_type_from_schema=True)\n",
    "\n",
    "train_stats = tfdv.generate_statistics_from_csv(\n",
    "    data_location=SERVING_DATASET,\n",
    "    stats_options=stats_options\n",
    ")\n",
    "\n",
    "tfdv.visualize_statistics(train_stats)"
   ]
  },
  {
   "cell_type": "code",
   "execution_count": null,
   "metadata": {},
   "outputs": [],
   "source": [
    "#schema = schema_pb2.Schema()\n",
    "\n",
    "#schema.feature.add(name='Elevation', type=schema_pb2.FeatureType.FLOAT)\n",
    "#schema.feature.add(name='Aspect', type=schema_pb2.FeatureType.FLOAT)\n",
    "#schema.feature.add(name='Slope', type=schema_pb2.FeatureType.FLOAT)\n",
    "#schema.feature.add(name='Horizontal_Distance_To_Hydrology', type=schema_pb2.FeatureType.FLOAT)\n",
    "#schema.feature.add(name='Vertical_Distance_To_Hydrology', type=schema_pb2.FeatureType.FLOAT)\n",
    "#schema.feature.add(name='Horizontal_Distance_To_Roadways', type=schema_pb2.FeatureType.FLOAT)\n",
    "#schema.feature.add(name='Hillshade_9am', type=schema_pb2.FeatureType.FLOAT)\n",
    "#schema.feature.add(name='Hillshade_Noon', type=schema_pb2.FeatureType.FLOAT)\n",
    "#schema.feature.add(name='Hillshade_3pm', type=schema_pb2.FeatureType.FLOAT)\n",
    "#schema.feature.add(name='Horizontal_Distance_To_Fire_Points', type=schema_pb2.FeatureType.FLOAT)\n",
    "\n",
    "#schema.feature.add(name='Wilderness_Area', type=schema_pb2.FeatureType.BYTES)\n",
    "#schema.feature.add(name='Soil_Type', type=schema_pb2.FeatureType.BYTES)\n",
    "\n",
    "#schema.feature.add(name='Cover_Type', type=schema_pb2.FeatureType.INT)\n",
    "#tfdv.set_domain(schema, 'Cover_Type', schema_pb2.IntDomain(min=1, max=7, is_categorical=True))"
   ]
  },
  {
   "cell_type": "code",
   "execution_count": 14,
   "metadata": {},
   "outputs": [],
   "source": [
    "import types"
   ]
  },
  {
   "cell_type": "code",
   "execution_count": 15,
   "metadata": {},
   "outputs": [
    {
     "data": {
      "text/plain": [
       "['AsyncGeneratorType',\n",
       " 'BuiltinFunctionType',\n",
       " 'BuiltinMethodType',\n",
       " 'ClassType',\n",
       " 'CodeType',\n",
       " 'CoroutineType',\n",
       " 'DynamicClassAttribute',\n",
       " 'FrameType',\n",
       " 'FunctionType',\n",
       " 'GeneratorType',\n",
       " 'GetSetDescriptorType',\n",
       " 'LambdaType',\n",
       " 'MappingProxyType',\n",
       " 'MemberDescriptorType',\n",
       " 'MethodType',\n",
       " 'ModuleType',\n",
       " 'SimpleNamespace',\n",
       " 'TracebackType',\n",
       " '_GeneratorWrapper',\n",
       " '__all__',\n",
       " '__builtins__',\n",
       " '__cached__',\n",
       " '__doc__',\n",
       " '__file__',\n",
       " '__loader__',\n",
       " '__name__',\n",
       " '__package__',\n",
       " '__spec__',\n",
       " '_ag',\n",
       " '_calculate_meta',\n",
       " '_collections_abc',\n",
       " '_functools',\n",
       " 'coroutine',\n",
       " 'new_class',\n",
       " 'prepare_class']"
      ]
     },
     "execution_count": 15,
     "metadata": {},
     "output_type": "execute_result"
    }
   ],
   "source": [
    "dir(types)"
   ]
  },
  {
   "cell_type": "code",
   "execution_count": null,
   "metadata": {},
   "outputs": [],
   "source": []
  }
 ],
 "metadata": {
  "kernelspec": {
   "display_name": "tfx",
   "language": "python",
   "name": "tfx"
  },
  "language_info": {
   "codemirror_mode": {
    "name": "ipython",
    "version": 3
   },
   "file_extension": ".py",
   "mimetype": "text/x-python",
   "name": "python",
   "nbconvert_exporter": "python",
   "pygments_lexer": "ipython3",
   "version": "3.6.9"
  }
 },
 "nbformat": 4,
 "nbformat_minor": 4
}

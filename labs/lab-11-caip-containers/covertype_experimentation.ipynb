{
 "cells": [
  {
   "cell_type": "markdown",
   "metadata": {},
   "source": [
    "# Using custom containers with AI Platform Training\n",
    "\n",
    "In this lab, you develop, package as a docker image, and run on **AI Platform Training** a training application that trains a multi-class classification model that predicts the type of forest cover from cartographic data. The [dataset](../datasets/covertype/README.md) used in the lab is based on **Covertype Data Set** from UCI Machine Learning Repository.\n",
    "\n",
    "The training code uses `scikit-learn` for data pre-processing and modeling. The code has been instrumented using the `hypertune` package so it can be used with **AI Platform** hyperparameter tuning.\n"
   ]
  },
  {
   "cell_type": "code",
   "execution_count": 1,
   "metadata": {},
   "outputs": [],
   "source": [
    "import json\n",
    "import os\n",
    "import numpy as np\n",
    "import pandas as pd\n",
    "import pickle\n",
    "import uuid\n",
    "import time\n",
    "import tempfile\n",
    "\n",
    "from googleapiclient import discovery\n",
    "from googleapiclient import errors\n",
    "\n",
    "from google.cloud import bigquery\n",
    "from jinja2 import Template\n",
    "from kfp.components import func_to_container_op\n",
    "from typing import NamedTuple\n",
    "\n",
    "from sklearn.metrics import accuracy_score\n",
    "from sklearn.linear_model import SGDClassifier\n",
    "from sklearn.pipeline import Pipeline\n",
    "from sklearn.preprocessing import StandardScaler, OneHotEncoder\n",
    "from sklearn.compose import ColumnTransformer"
   ]
  },
  {
   "cell_type": "markdown",
   "metadata": {},
   "source": [
    "## Configure environment settings"
   ]
  },
  {
   "cell_type": "markdown",
   "metadata": {},
   "source": [
    "Set location paths, connections strings, and other environment settings. Make sure to update `PROJECT_ID`, `NAME_PREFIX` and `REGION` with your settings. Recall that `NAME_PREFIX` is the parameter used during the lab environment setup that was used in constructing names of the environment's resources."
   ]
  },
  {
   "cell_type": "code",
   "execution_count": 2,
   "metadata": {},
   "outputs": [],
   "source": [
    "PROJECT_ID = 'mlops-workshop'\n",
    "NAME_PREFIX = 'mlops-env20'\n",
    "REGION = 'us-central1'\n",
    "\n",
    "DATA_ROOT = 'gs://workshop-datasets/covertype'\n",
    "TRAINING_FILE_PATH = DATA_ROOT + '/training/dataset.csv'\n",
    "VALIDATION_FILE_PATH = DATA_ROOT + '/evaluation/dataset.csv'\n",
    "\n",
    "# Job dir for AI Platform Training\n",
    "JOB_DIR_ROOT='gs://{}-artifact-store/jobs'.format(NAME_PREFIX)"
   ]
  },
  {
   "cell_type": "markdown",
   "metadata": {},
   "source": [
    "## Explore the Covertype dataset "
   ]
  },
  {
   "cell_type": "code",
   "execution_count": 3,
   "metadata": {},
   "outputs": [
    {
     "data": {
      "text/html": [
       "<div>\n",
       "<style scoped>\n",
       "    .dataframe tbody tr th:only-of-type {\n",
       "        vertical-align: middle;\n",
       "    }\n",
       "\n",
       "    .dataframe tbody tr th {\n",
       "        vertical-align: top;\n",
       "    }\n",
       "\n",
       "    .dataframe thead th {\n",
       "        text-align: right;\n",
       "    }\n",
       "</style>\n",
       "<table border=\"1\" class=\"dataframe\">\n",
       "  <thead>\n",
       "    <tr style=\"text-align: right;\">\n",
       "      <th></th>\n",
       "      <th>Elevation</th>\n",
       "      <th>Aspect</th>\n",
       "      <th>Slope</th>\n",
       "      <th>Horizontal_Distance_To_Hydrology</th>\n",
       "      <th>Vertical_Distance_To_Hydrology</th>\n",
       "      <th>Horizontal_Distance_To_Roadways</th>\n",
       "      <th>Hillshade_9am</th>\n",
       "      <th>Hillshade_Noon</th>\n",
       "      <th>Hillshade_3pm</th>\n",
       "      <th>Horizontal_Distance_To_Fire_Points</th>\n",
       "      <th>Wilderness_Area</th>\n",
       "      <th>Soil_Type</th>\n",
       "      <th>Cover_Type</th>\n",
       "    </tr>\n",
       "  </thead>\n",
       "  <tbody>\n",
       "    <tr>\n",
       "      <th>0</th>\n",
       "      <td>2989</td>\n",
       "      <td>329</td>\n",
       "      <td>11</td>\n",
       "      <td>342</td>\n",
       "      <td>74</td>\n",
       "      <td>2861</td>\n",
       "      <td>194</td>\n",
       "      <td>227</td>\n",
       "      <td>172</td>\n",
       "      <td>1471</td>\n",
       "      <td>Commanche</td>\n",
       "      <td>C7756</td>\n",
       "      <td>2</td>\n",
       "    </tr>\n",
       "    <tr>\n",
       "      <th>1</th>\n",
       "      <td>3223</td>\n",
       "      <td>264</td>\n",
       "      <td>7</td>\n",
       "      <td>228</td>\n",
       "      <td>41</td>\n",
       "      <td>968</td>\n",
       "      <td>203</td>\n",
       "      <td>243</td>\n",
       "      <td>179</td>\n",
       "      <td>190</td>\n",
       "      <td>Commanche</td>\n",
       "      <td>C7756</td>\n",
       "      <td>1</td>\n",
       "    </tr>\n",
       "    <tr>\n",
       "      <th>2</th>\n",
       "      <td>3208</td>\n",
       "      <td>322</td>\n",
       "      <td>22</td>\n",
       "      <td>162</td>\n",
       "      <td>13</td>\n",
       "      <td>2876</td>\n",
       "      <td>158</td>\n",
       "      <td>212</td>\n",
       "      <td>191</td>\n",
       "      <td>2486</td>\n",
       "      <td>Rawah</td>\n",
       "      <td>C7745</td>\n",
       "      <td>1</td>\n",
       "    </tr>\n",
       "    <tr>\n",
       "      <th>3</th>\n",
       "      <td>3041</td>\n",
       "      <td>52</td>\n",
       "      <td>11</td>\n",
       "      <td>67</td>\n",
       "      <td>4</td>\n",
       "      <td>2467</td>\n",
       "      <td>226</td>\n",
       "      <td>217</td>\n",
       "      <td>124</td>\n",
       "      <td>3036</td>\n",
       "      <td>Commanche</td>\n",
       "      <td>C7700</td>\n",
       "      <td>2</td>\n",
       "    </tr>\n",
       "    <tr>\n",
       "      <th>4</th>\n",
       "      <td>2988</td>\n",
       "      <td>259</td>\n",
       "      <td>28</td>\n",
       "      <td>242</td>\n",
       "      <td>75</td>\n",
       "      <td>5197</td>\n",
       "      <td>143</td>\n",
       "      <td>242</td>\n",
       "      <td>231</td>\n",
       "      <td>1425</td>\n",
       "      <td>Rawah</td>\n",
       "      <td>C7745</td>\n",
       "      <td>2</td>\n",
       "    </tr>\n",
       "    <tr>\n",
       "      <th>...</th>\n",
       "      <td>...</td>\n",
       "      <td>...</td>\n",
       "      <td>...</td>\n",
       "      <td>...</td>\n",
       "      <td>...</td>\n",
       "      <td>...</td>\n",
       "      <td>...</td>\n",
       "      <td>...</td>\n",
       "      <td>...</td>\n",
       "      <td>...</td>\n",
       "      <td>...</td>\n",
       "      <td>...</td>\n",
       "      <td>...</td>\n",
       "    </tr>\n",
       "    <tr>\n",
       "      <th>431004</th>\n",
       "      <td>2476</td>\n",
       "      <td>67</td>\n",
       "      <td>31</td>\n",
       "      <td>268</td>\n",
       "      <td>122</td>\n",
       "      <td>666</td>\n",
       "      <td>233</td>\n",
       "      <td>163</td>\n",
       "      <td>39</td>\n",
       "      <td>721</td>\n",
       "      <td>Commanche</td>\n",
       "      <td>C4703</td>\n",
       "      <td>2</td>\n",
       "    </tr>\n",
       "    <tr>\n",
       "      <th>431005</th>\n",
       "      <td>3029</td>\n",
       "      <td>130</td>\n",
       "      <td>7</td>\n",
       "      <td>30</td>\n",
       "      <td>4</td>\n",
       "      <td>3266</td>\n",
       "      <td>233</td>\n",
       "      <td>236</td>\n",
       "      <td>136</td>\n",
       "      <td>5388</td>\n",
       "      <td>Rawah</td>\n",
       "      <td>C7102</td>\n",
       "      <td>2</td>\n",
       "    </tr>\n",
       "    <tr>\n",
       "      <th>431006</th>\n",
       "      <td>3017</td>\n",
       "      <td>107</td>\n",
       "      <td>9</td>\n",
       "      <td>242</td>\n",
       "      <td>46</td>\n",
       "      <td>4265</td>\n",
       "      <td>235</td>\n",
       "      <td>230</td>\n",
       "      <td>126</td>\n",
       "      <td>1052</td>\n",
       "      <td>Rawah</td>\n",
       "      <td>C7746</td>\n",
       "      <td>2</td>\n",
       "    </tr>\n",
       "    <tr>\n",
       "      <th>431007</th>\n",
       "      <td>3314</td>\n",
       "      <td>144</td>\n",
       "      <td>16</td>\n",
       "      <td>362</td>\n",
       "      <td>56</td>\n",
       "      <td>1549</td>\n",
       "      <td>241</td>\n",
       "      <td>235</td>\n",
       "      <td>119</td>\n",
       "      <td>2911</td>\n",
       "      <td>Rawah</td>\n",
       "      <td>C7745</td>\n",
       "      <td>1</td>\n",
       "    </tr>\n",
       "    <tr>\n",
       "      <th>431008</th>\n",
       "      <td>3071</td>\n",
       "      <td>12</td>\n",
       "      <td>18</td>\n",
       "      <td>497</td>\n",
       "      <td>28</td>\n",
       "      <td>1153</td>\n",
       "      <td>199</td>\n",
       "      <td>201</td>\n",
       "      <td>135</td>\n",
       "      <td>2008</td>\n",
       "      <td>Commanche</td>\n",
       "      <td>C7700</td>\n",
       "      <td>1</td>\n",
       "    </tr>\n",
       "  </tbody>\n",
       "</table>\n",
       "<p>431009 rows × 13 columns</p>\n",
       "</div>"
      ],
      "text/plain": [
       "        Elevation  Aspect  Slope  Horizontal_Distance_To_Hydrology  \\\n",
       "0            2989     329     11                               342   \n",
       "1            3223     264      7                               228   \n",
       "2            3208     322     22                               162   \n",
       "3            3041      52     11                                67   \n",
       "4            2988     259     28                               242   \n",
       "...           ...     ...    ...                               ...   \n",
       "431004       2476      67     31                               268   \n",
       "431005       3029     130      7                                30   \n",
       "431006       3017     107      9                               242   \n",
       "431007       3314     144     16                               362   \n",
       "431008       3071      12     18                               497   \n",
       "\n",
       "        Vertical_Distance_To_Hydrology  Horizontal_Distance_To_Roadways  \\\n",
       "0                                   74                             2861   \n",
       "1                                   41                              968   \n",
       "2                                   13                             2876   \n",
       "3                                    4                             2467   \n",
       "4                                   75                             5197   \n",
       "...                                ...                              ...   \n",
       "431004                             122                              666   \n",
       "431005                               4                             3266   \n",
       "431006                              46                             4265   \n",
       "431007                              56                             1549   \n",
       "431008                              28                             1153   \n",
       "\n",
       "        Hillshade_9am  Hillshade_Noon  Hillshade_3pm  \\\n",
       "0                 194             227            172   \n",
       "1                 203             243            179   \n",
       "2                 158             212            191   \n",
       "3                 226             217            124   \n",
       "4                 143             242            231   \n",
       "...               ...             ...            ...   \n",
       "431004            233             163             39   \n",
       "431005            233             236            136   \n",
       "431006            235             230            126   \n",
       "431007            241             235            119   \n",
       "431008            199             201            135   \n",
       "\n",
       "        Horizontal_Distance_To_Fire_Points Wilderness_Area Soil_Type  \\\n",
       "0                                     1471       Commanche     C7756   \n",
       "1                                      190       Commanche     C7756   \n",
       "2                                     2486           Rawah     C7745   \n",
       "3                                     3036       Commanche     C7700   \n",
       "4                                     1425           Rawah     C7745   \n",
       "...                                    ...             ...       ...   \n",
       "431004                                 721       Commanche     C4703   \n",
       "431005                                5388           Rawah     C7102   \n",
       "431006                                1052           Rawah     C7746   \n",
       "431007                                2911           Rawah     C7745   \n",
       "431008                                2008       Commanche     C7700   \n",
       "\n",
       "        Cover_Type  \n",
       "0                2  \n",
       "1                1  \n",
       "2                1  \n",
       "3                2  \n",
       "4                2  \n",
       "...            ...  \n",
       "431004           2  \n",
       "431005           2  \n",
       "431006           2  \n",
       "431007           1  \n",
       "431008           1  \n",
       "\n",
       "[431009 rows x 13 columns]"
      ]
     },
     "execution_count": 3,
     "metadata": {},
     "output_type": "execute_result"
    }
   ],
   "source": [
    "df_train = pd.read_csv(TRAINING_FILE_PATH)\n",
    "df_validation = pd.read_csv(VALIDATION_FILE_PATH)\n",
    "df_train"
   ]
  },
  {
   "cell_type": "code",
   "execution_count": 4,
   "metadata": {},
   "outputs": [
    {
     "name": "stdout",
     "output_type": "stream",
     "text": [
      "(431009, 13)\n",
      "(75000, 13)\n"
     ]
    }
   ],
   "source": [
    "print(df_train.shape)\n",
    "print(df_validation.shape)"
   ]
  },
  {
   "cell_type": "markdown",
   "metadata": {},
   "source": [
    "## Develop the training application"
   ]
  },
  {
   "cell_type": "markdown",
   "metadata": {},
   "source": [
    "### Configure the `sklearn` training pipeline.\n",
    "\n",
    "The training pipeline preprocesses data by standardizing all numeric features using `sklearn.preprocessing.StandardScaler` and encoding all categorical features using `sklearn.preprocessing.OneHotEncoder`. It uses stochastic gradient descent linear classifier (`SGDClassifier`) for modeling."
   ]
  },
  {
   "cell_type": "code",
   "execution_count": 5,
   "metadata": {},
   "outputs": [],
   "source": [
    "numeric_feature_indexes = slice(0, 10)\n",
    "categorical_feature_indexes = slice(10, 12)\n",
    "\n",
    "preprocessor = ColumnTransformer(\n",
    "    transformers=[\n",
    "        ('num', StandardScaler(), numeric_feature_indexes),\n",
    "        ('cat', OneHotEncoder(), categorical_feature_indexes) \n",
    "    ])\n",
    "\n",
    "pipeline = Pipeline([\n",
    "    ('preprocessor', preprocessor),\n",
    "    ('classifier', SGDClassifier(loss='log'))\n",
    "])"
   ]
  },
  {
   "cell_type": "markdown",
   "metadata": {},
   "source": [
    "### Convert all numeric features to `float64`\n",
    "\n",
    "To avoid warning messages from `StandardScaler` all numeric features are converted to `float64`."
   ]
  },
  {
   "cell_type": "code",
   "execution_count": 6,
   "metadata": {},
   "outputs": [],
   "source": [
    "num_features_type_map = {feature: 'float64' for feature in df_train.columns[numeric_feature_indexes]}\n",
    "\n",
    "df_train = df_train.astype(num_features_type_map)\n",
    "df_validation = df_validation.astype(num_features_type_map)"
   ]
  },
  {
   "cell_type": "markdown",
   "metadata": {},
   "source": [
    "### Run the pipeline locally."
   ]
  },
  {
   "cell_type": "code",
   "execution_count": 8,
   "metadata": {},
   "outputs": [
    {
     "data": {
      "text/plain": [
       "Pipeline(memory=None,\n",
       "     steps=[('preprocessor', ColumnTransformer(n_jobs=None, remainder='drop', sparse_threshold=0.3,\n",
       "         transformer_weights=None,\n",
       "         transformers=[('num', StandardScaler(copy=True, with_mean=True, with_std=True), slice(0, 10, None)), ('cat', OneHotEncoder(categorical_features=None, categories=...m_state=None, shuffle=True, tol=None,\n",
       "       validation_fraction=0.1, verbose=0, warm_start=False))])"
      ]
     },
     "execution_count": 8,
     "metadata": {},
     "output_type": "execute_result"
    }
   ],
   "source": [
    "X_train = df_train.drop('Cover_Type', axis=1)\n",
    "y_train = df_train['Cover_Type']\n",
    "X_validation = df_validation.drop('Cover_Type', axis=1)\n",
    "y_validation = df_validation['Cover_Type']\n",
    "\n",
    "pipeline.set_params(classifier__alpha=0.001, classifier__max_iter=200)\n",
    "pipeline.fit(X_train, y_train)"
   ]
  },
  {
   "cell_type": "markdown",
   "metadata": {},
   "source": [
    "### Calculate the trained model's accuracy."
   ]
  },
  {
   "cell_type": "code",
   "execution_count": 9,
   "metadata": {},
   "outputs": [
    {
     "name": "stdout",
     "output_type": "stream",
     "text": [
      "0.7044266666666666\n"
     ]
    }
   ],
   "source": [
    "accuracy = pipeline.score(X_validation, y_validation)\n",
    "print(accuracy)"
   ]
  },
  {
   "cell_type": "markdown",
   "metadata": {},
   "source": [
    "### Prepare the hyperparameter tuning application.\n",
    "Since the training run on this dataset is computationally expensive you can benefit from running a distributed hyperparameter tuning job on AI Platform Training."
   ]
  },
  {
   "cell_type": "code",
   "execution_count": 11,
   "metadata": {},
   "outputs": [],
   "source": [
    "TRAINING_APP_FOLDER = 'training_app'\n",
    "os.makedirs(TRAINING_APP_FOLDER, exist_ok=True)"
   ]
  },
  {
   "cell_type": "markdown",
   "metadata": {},
   "source": [
    "### Write the tuning script. \n",
    "\n",
    "Notice the use of the `hypertune` package to report the `accuracy` optimization metric to AI Platform hyperparameter tuning service."
   ]
  },
  {
   "cell_type": "code",
   "execution_count": 12,
   "metadata": {},
   "outputs": [
    {
     "name": "stdout",
     "output_type": "stream",
     "text": [
      "Overwriting training_app/train.py\n"
     ]
    }
   ],
   "source": [
    "%%writefile {TRAINING_APP_FOLDER}/train.py\n",
    "\n",
    "import os\n",
    "import subprocess\n",
    "import sys\n",
    "\n",
    "import fire\n",
    "import pickle\n",
    "import numpy as np\n",
    "import pandas as pd\n",
    "\n",
    "import hypertune\n",
    "\n",
    "from sklearn.compose import ColumnTransformer\n",
    "from sklearn.linear_model import SGDClassifier\n",
    "from sklearn.pipeline import Pipeline\n",
    "from sklearn.preprocessing import StandardScaler, OneHotEncoder\n",
    "\n",
    "\n",
    "def train_evaluate(job_dir, training_dataset_path, validation_dataset_path, alpha, max_iter, hptune):\n",
    "    \n",
    "  df_train = pd.read_csv(training_dataset_path)\n",
    "  df_validation = pd.read_csv(validation_dataset_path)\n",
    "    \n",
    "  if not hptune:\n",
    "    df_train = pd.concat([df_train, df_validation])\n",
    "\n",
    "  numeric_feature_indexes = slice(0, 10)\n",
    "  categorical_feature_indexes = slice(10, 12)\n",
    "\n",
    "  preprocessor = ColumnTransformer(\n",
    "    transformers=[\n",
    "        ('num', StandardScaler(), numeric_feature_indexes),\n",
    "        ('cat', OneHotEncoder(), categorical_feature_indexes) \n",
    "    ])\n",
    "\n",
    "  pipeline = Pipeline([\n",
    "    ('preprocessor', preprocessor),\n",
    "    ('classifier', SGDClassifier(loss='log'))\n",
    "  ])\n",
    "    \n",
    "  num_features_type_map = {feature: 'float64' for feature in df_train.columns[numeric_feature_indexes]}\n",
    "  df_train = df_train.astype(num_features_type_map)\n",
    "  df_validation = df_validation.astype(num_features_type_map) \n",
    "\n",
    "  print('Starting training: alpha={}, max_iter={}'.format(alpha, max_iter))\n",
    "  X_train = df_train.drop('Cover_Type', axis=1)\n",
    "  y_train = df_train['Cover_Type']\n",
    "  \n",
    "  pipeline.set_params(classifier__alpha=alpha, classifier__max_iter=max_iter)\n",
    "  pipeline.fit(X_train, y_train)\n",
    "  \n",
    "  if hptune:\n",
    "    X_validation = df_validation.drop('Cover_Type', axis=1)\n",
    "    y_validation = df_validation['Cover_Type']\n",
    "    accuracy = pipeline.score(X_validation, y_validation)\n",
    "    print('Model accuracy: {}'.format(accuracy))\n",
    "    # Log it with hypertune\n",
    "    hpt = hypertune.HyperTune()\n",
    "    hpt.report_hyperparameter_tuning_metric(\n",
    "      hyperparameter_metric_tag='accuracy',\n",
    "      metric_value=accuracy\n",
    "    )\n",
    "\n",
    "  # Save the model\n",
    "  if not hptune:\n",
    "    model_filename = 'model.pkl'\n",
    "    with open(model_filename, 'wb') as model_file:\n",
    "        pickle.dump(pipeline, model_file)\n",
    "    gcs_model_path = \"{}/{}\".format(job_dir, model_filename)\n",
    "    subprocess.check_call(['gsutil', 'cp', model_filename, gcs_model_path], stderr=sys.stdout)\n",
    "    print(\"Saved model in: {}\".format(gcs_model_path)) \n",
    "    \n",
    "if __name__ == \"__main__\":\n",
    "  fire.Fire(train_evaluate)"
   ]
  },
  {
   "cell_type": "markdown",
   "metadata": {},
   "source": [
    "### Package the script into a docker image.\n",
    "\n",
    "Notice that the training image is a derivative of `mlops-dev:TF115-TFX015-KFP136`. The reason is to make sure that the development environment (your AI Platform Notebook instance) and the AI Platform Training environment are consistent. Since the AI Platform Notebook instance is based on the `mlops-dev:TF115-TFX015-KFP136` image we use the same image as a base for the training image. \n",
    "\n",
    "Make sure to update the URI for the base image so that it points to your project's **Container Registry**."
   ]
  },
  {
   "cell_type": "code",
   "execution_count": 13,
   "metadata": {},
   "outputs": [
    {
     "name": "stdout",
     "output_type": "stream",
     "text": [
      "Overwriting training_app/Dockerfile\n"
     ]
    }
   ],
   "source": [
    "%%writefile {TRAINING_APP_FOLDER}/Dockerfile\n",
    "\n",
    "FROM gcr.io/mlops-workshop/mlops-dev:TF115-TFX015-KFP136\n",
    "RUN pip install -U fire cloudml-hypertune\n",
    "WORKDIR /app\n",
    "COPY train.py .\n",
    "\n",
    "ENTRYPOINT [\"python\", \"train.py\"]"
   ]
  },
  {
   "cell_type": "markdown",
   "metadata": {},
   "source": [
    "### Build the docker image. \n",
    "\n",
    "You use **Cloud Build** to build the image and push it your project's **Container Registry**. As you use the remote cloud service to build the image, you don't need a local installation of Docker."
   ]
  },
  {
   "cell_type": "code",
   "execution_count": 14,
   "metadata": {},
   "outputs": [
    {
     "name": "stdout",
     "output_type": "stream",
     "text": [
      "Creating temporary tarball archive of 3 file(s) totalling 2.9 KiB before compression.\n",
      "Uploading tarball of [training_app] to [gs://mlops-workshop_cloudbuild/source/1580783167.88-30105d8eb2cc41fd8159803acca592e4.tgz]\n",
      "Created [https://cloudbuild.googleapis.com/v1/projects/mlops-workshop/builds/158e81d4-da6f-40b0-8eb7-5913fd7c117a].\n",
      "Logs are available at [https://console.cloud.google.com/gcr/builds/158e81d4-da6f-40b0-8eb7-5913fd7c117a?project=745302968357].\n",
      "----------------------------- REMOTE BUILD OUTPUT ------------------------------\n",
      "starting build \"158e81d4-da6f-40b0-8eb7-5913fd7c117a\"\n",
      "\n",
      "FETCHSOURCE\n",
      "Fetching storage object: gs://mlops-workshop_cloudbuild/source/1580783167.88-30105d8eb2cc41fd8159803acca592e4.tgz#1580783168283926\n",
      "Copying gs://mlops-workshop_cloudbuild/source/1580783167.88-30105d8eb2cc41fd8159803acca592e4.tgz#1580783168283926...\n",
      "/ [1 files][  1.4 KiB/  1.4 KiB]                                                \n",
      "Operation completed over 1 objects/1.4 KiB.                                      \n",
      "BUILD\n",
      "Already have image (with digest): gcr.io/cloud-builders/docker\n",
      "Sending build context to Docker daemon  6.144kB\n",
      "Step 1/5 : FROM gcr.io/mlops-workshop/mlops-dev:TF115-TFX015-KFP136\n",
      "TF115-TFX015-KFP136: Pulling from mlops-workshop/mlops-dev\n",
      "35c102085707: Pulling fs layer\n",
      "251f5509d51d: Pulling fs layer\n",
      "8e829fe70a46: Pulling fs layer\n",
      "6001e1789921: Pulling fs layer\n",
      "1259902c87a2: Pulling fs layer\n",
      "83ca0edf82af: Pulling fs layer\n",
      "a459cc7a0819: Pulling fs layer\n",
      "7de7778cb300: Pulling fs layer\n",
      "62e0a31a8af6: Pulling fs layer\n",
      "a7785d29f5ab: Pulling fs layer\n",
      "6b76a06da4d7: Pulling fs layer\n",
      "413905cedc93: Pulling fs layer\n",
      "a5d245cced6f: Pulling fs layer\n",
      "8c6be6aa5553: Pulling fs layer\n",
      "1d7154118978: Pulling fs layer\n",
      "1df8626a77b0: Pulling fs layer\n",
      "a44e745885de: Pulling fs layer\n",
      "42e2291ef541: Pulling fs layer\n",
      "dd41a5143d21: Pulling fs layer\n",
      "0e9699f7bcd3: Pulling fs layer\n",
      "747ebef4a5c6: Pulling fs layer\n",
      "29b13e81f15c: Pulling fs layer\n",
      "b464404f01f6: Pulling fs layer\n",
      "6001e1789921: Waiting\n",
      "1259902c87a2: Waiting\n",
      "83ca0edf82af: Waiting\n",
      "a459cc7a0819: Waiting\n",
      "7de7778cb300: Waiting\n",
      "62e0a31a8af6: Waiting\n",
      "a7785d29f5ab: Waiting\n",
      "6b76a06da4d7: Waiting\n",
      "413905cedc93: Waiting\n",
      "a5d245cced6f: Waiting\n",
      "8c6be6aa5553: Waiting\n",
      "1d7154118978: Waiting\n",
      "1df8626a77b0: Waiting\n",
      "a44e745885de: Waiting\n",
      "42e2291ef541: Waiting\n",
      "dd41a5143d21: Waiting\n",
      "0e9699f7bcd3: Waiting\n",
      "747ebef4a5c6: Waiting\n",
      "29b13e81f15c: Waiting\n",
      "b464404f01f6: Waiting\n",
      "251f5509d51d: Verifying Checksum\n",
      "251f5509d51d: Download complete\n",
      "8e829fe70a46: Verifying Checksum\n",
      "8e829fe70a46: Download complete\n",
      "6001e1789921: Verifying Checksum\n",
      "6001e1789921: Download complete\n",
      "35c102085707: Verifying Checksum\n",
      "35c102085707: Download complete\n",
      "a459cc7a0819: Verifying Checksum\n",
      "a459cc7a0819: Download complete\n",
      "83ca0edf82af: Verifying Checksum\n",
      "83ca0edf82af: Download complete\n",
      "62e0a31a8af6: Verifying Checksum\n",
      "62e0a31a8af6: Download complete\n",
      "a7785d29f5ab: Verifying Checksum\n",
      "a7785d29f5ab: Download complete\n",
      "6b76a06da4d7: Verifying Checksum\n",
      "6b76a06da4d7: Download complete\n",
      "413905cedc93: Verifying Checksum\n",
      "413905cedc93: Download complete\n",
      "a5d245cced6f: Verifying Checksum\n",
      "a5d245cced6f: Download complete\n",
      "8c6be6aa5553: Verifying Checksum\n",
      "8c6be6aa5553: Download complete\n",
      "1259902c87a2: Verifying Checksum\n",
      "1259902c87a2: Download complete\n",
      "1d7154118978: Verifying Checksum\n",
      "1d7154118978: Download complete\n",
      "1df8626a77b0: Verifying Checksum\n",
      "1df8626a77b0: Download complete\n",
      "a44e745885de: Verifying Checksum\n",
      "a44e745885de: Download complete\n",
      "dd41a5143d21: Verifying Checksum\n",
      "dd41a5143d21: Download complete\n",
      "42e2291ef541: Verifying Checksum\n",
      "42e2291ef541: Download complete\n",
      "747ebef4a5c6: Verifying Checksum\n",
      "747ebef4a5c6: Download complete\n",
      "29b13e81f15c: Verifying Checksum\n",
      "29b13e81f15c: Download complete\n",
      "0e9699f7bcd3: Verifying Checksum\n",
      "0e9699f7bcd3: Download complete\n",
      "b464404f01f6: Verifying Checksum\n",
      "b464404f01f6: Download complete\n",
      "35c102085707: Pull complete\n",
      "7de7778cb300: Verifying Checksum\n",
      "7de7778cb300: Download complete\n",
      "251f5509d51d: Pull complete\n",
      "8e829fe70a46: Pull complete\n",
      "6001e1789921: Pull complete\n",
      "1259902c87a2: Pull complete\n",
      "83ca0edf82af: Pull complete\n",
      "a459cc7a0819: Pull complete\n",
      "7de7778cb300: Pull complete\n",
      "62e0a31a8af6: Pull complete\n",
      "a7785d29f5ab: Pull complete\n",
      "6b76a06da4d7: Pull complete\n",
      "413905cedc93: Pull complete\n",
      "a5d245cced6f: Pull complete\n",
      "8c6be6aa5553: Pull complete\n",
      "1d7154118978: Pull complete\n",
      "1df8626a77b0: Pull complete\n",
      "a44e745885de: Pull complete\n",
      "42e2291ef541: Pull complete\n",
      "dd41a5143d21: Pull complete\n",
      "0e9699f7bcd3: Pull complete\n",
      "747ebef4a5c6: Pull complete\n",
      "29b13e81f15c: Pull complete\n",
      "b464404f01f6: Pull complete\n",
      "Digest: sha256:228116fadeb874f9325ee3d6bc00f7512f105a3c4a3c2a81be4026c2565af271\n",
      "Status: Downloaded newer image for gcr.io/mlops-workshop/mlops-dev:TF115-TFX015-KFP136\n",
      " ---> 19fbae89ae0b\n",
      "Step 2/5 : RUN pip install -U fire cloudml-hypertune\n",
      " ---> Running in e4c0e01d39d0\n",
      "Collecting fire\n",
      "  Downloading https://files.pythonhosted.org/packages/d9/69/faeaae8687f4de0f5973694d02e9d6c3eb827636a009157352d98de1129e/fire-0.2.1.tar.gz (76kB)\n",
      "Collecting cloudml-hypertune\n",
      "  Downloading https://files.pythonhosted.org/packages/84/54/142a00a29d1c51dcf8c93b305f35554c947be2faa0d55de1eabcc0a9023c/cloudml-hypertune-0.1.0.dev6.tar.gz\n",
      "Requirement already satisfied, skipping upgrade: six in /root/miniconda3/lib/python3.5/site-packages (from fire) (1.12.0)\n",
      "Requirement already satisfied, skipping upgrade: termcolor in /root/miniconda3/lib/python3.5/site-packages (from fire) (1.1.0)\n",
      "Building wheels for collected packages: fire, cloudml-hypertune\n",
      "  Building wheel for fire (setup.py): started\n",
      "  Building wheel for fire (setup.py): finished with status 'done'\n",
      "  Created wheel for fire: filename=fire-0.2.1-py2.py3-none-any.whl size=103543 sha256=b679bf2dc0045a26bc5df6d380f307dfecb7ee463010f5a4de42df833830ebb5\n",
      "  Stored in directory: /root/.cache/pip/wheels/31/9c/c0/07b6dc7faf1844bb4688f46b569efe6cafaa2179c95db821da\n",
      "  Building wheel for cloudml-hypertune (setup.py): started\n",
      "  Building wheel for cloudml-hypertune (setup.py): finished with status 'done'\n",
      "  Created wheel for cloudml-hypertune: filename=cloudml_hypertune-0.1.0.dev6-py2.py3-none-any.whl size=3993 sha256=e149fe03aaa1c6596023c8e3070a57c139377464116de35197901ba927387f68\n",
      "  Stored in directory: /root/.cache/pip/wheels/71/ac/62/80b621f3fe2994f3f367a36123d8351d75e3ea5591b4a62c85\n",
      "Successfully built fire cloudml-hypertune\n",
      "Installing collected packages: fire, cloudml-hypertune\n",
      "Successfully installed cloudml-hypertune-0.1.0.dev6 fire-0.2.1\n",
      "\u001b[91mWARNING: You are using pip version 19.3.1; however, version 20.0.2 is available.\n",
      "You should consider upgrading via the 'pip install --upgrade pip' command.\n",
      "\u001b[0mRemoving intermediate container e4c0e01d39d0\n",
      " ---> 9355a601f63b\n",
      "Step 3/5 : WORKDIR /app\n",
      " ---> Running in 46a907f1e6e1\n",
      "Removing intermediate container 46a907f1e6e1\n",
      " ---> 75dcf985a2ea\n",
      "Step 4/5 : COPY train.py .\n",
      " ---> a184a3cd9d37\n",
      "Step 5/5 : ENTRYPOINT [\"python\", \"train.py\"]\n",
      " ---> Running in 44989fdd1268\n",
      "Removing intermediate container 44989fdd1268\n",
      " ---> b17922210e08\n",
      "Successfully built b17922210e08\n",
      "Successfully tagged gcr.io/mlops-workshop/trainer_image:latest\n",
      "PUSH\n",
      "Pushing gcr.io/mlops-workshop/trainer_image:latest\n",
      "The push refers to repository [gcr.io/mlops-workshop/trainer_image]\n",
      "99933ab3aa04: Preparing\n",
      "2507ce1a4bd6: Preparing\n",
      "eff6d0775baf: Preparing\n",
      "2d6ca8fd0ad5: Preparing\n",
      "417fbfe8b860: Preparing\n",
      "43ee21626282: Preparing\n",
      "b875beebc5b1: Preparing\n",
      "3885d9501aa4: Preparing\n",
      "cc4198cb51b8: Preparing\n",
      "98a86238f88d: Preparing\n",
      "07a867e0ba2d: Preparing\n",
      "092c50747c65: Preparing\n",
      "d6fb36f9bda1: Preparing\n",
      "f36c7efe6784: Preparing\n",
      "1f3727b0e386: Preparing\n",
      "80824689ea9a: Preparing\n",
      "dae8971c1728: Preparing\n",
      "63b763e1ea3e: Preparing\n",
      "7d412b9c88ab: Preparing\n",
      "4019db0181d2: Preparing\n",
      "5a78197acff6: Preparing\n",
      "804e87810c15: Preparing\n",
      "122be11ab4a2: Preparing\n",
      "7beb13bce073: Preparing\n",
      "f7eae43028b3: Preparing\n",
      "6cebf3abed5f: Preparing\n",
      "43ee21626282: Waiting\n",
      "b875beebc5b1: Waiting\n",
      "3885d9501aa4: Waiting\n",
      "cc4198cb51b8: Waiting\n",
      "98a86238f88d: Waiting\n",
      "07a867e0ba2d: Waiting\n",
      "092c50747c65: Waiting\n",
      "d6fb36f9bda1: Waiting\n",
      "f36c7efe6784: Waiting\n",
      "1f3727b0e386: Waiting\n",
      "80824689ea9a: Waiting\n",
      "dae8971c1728: Waiting\n",
      "63b763e1ea3e: Waiting\n",
      "7d412b9c88ab: Waiting\n",
      "4019db0181d2: Waiting\n",
      "5a78197acff6: Waiting\n",
      "804e87810c15: Waiting\n",
      "122be11ab4a2: Waiting\n",
      "7beb13bce073: Waiting\n",
      "f7eae43028b3: Waiting\n",
      "6cebf3abed5f: Waiting\n",
      "2d6ca8fd0ad5: Layer already exists\n",
      "417fbfe8b860: Layer already exists\n",
      "b875beebc5b1: Layer already exists\n",
      "43ee21626282: Layer already exists\n",
      "3885d9501aa4: Layer already exists\n",
      "cc4198cb51b8: Layer already exists\n",
      "07a867e0ba2d: Layer already exists\n",
      "98a86238f88d: Layer already exists\n",
      "092c50747c65: Layer already exists\n",
      "d6fb36f9bda1: Layer already exists\n",
      "f36c7efe6784: Layer already exists\n",
      "1f3727b0e386: Layer already exists\n",
      "80824689ea9a: Layer already exists\n",
      "dae8971c1728: Layer already exists\n",
      "63b763e1ea3e: Layer already exists\n",
      "7d412b9c88ab: Layer already exists\n",
      "4019db0181d2: Layer already exists\n",
      "5a78197acff6: Layer already exists\n",
      "804e87810c15: Layer already exists\n",
      "122be11ab4a2: Layer already exists\n",
      "7beb13bce073: Layer already exists\n",
      "f7eae43028b3: Layer already exists\n",
      "6cebf3abed5f: Layer already exists\n",
      "eff6d0775baf: Pushed\n",
      "2507ce1a4bd6: Pushed\n",
      "99933ab3aa04: Pushed\n",
      "latest: digest: sha256:f721e64b5e1ebe0b5fe83662834571ed42bad6ca455c62123219f0ea47e69645 size: 5767\n",
      "DONE\n",
      "--------------------------------------------------------------------------------\n",
      "\n",
      "ID                                    CREATE_TIME                DURATION  SOURCE                                                                                    IMAGES                                         STATUS\n",
      "158e81d4-da6f-40b0-8eb7-5913fd7c117a  2020-02-04T02:26:08+00:00  3M33S     gs://mlops-workshop_cloudbuild/source/1580783167.88-30105d8eb2cc41fd8159803acca592e4.tgz  gcr.io/mlops-workshop/trainer_image (+1 more)  SUCCESS\n"
     ]
    }
   ],
   "source": [
    "IMAGE_NAME='trainer_image'\n",
    "IMAGE_TAG='latest'\n",
    "IMAGE_URI='gcr.io/{}/{}:{}'.format(PROJECT_ID, IMAGE_NAME, IMAGE_TAG)\n",
    "\n",
    "!gcloud builds submit --tag $IMAGE_URI $TRAINING_APP_FOLDER"
   ]
  },
  {
   "cell_type": "markdown",
   "metadata": {},
   "source": [
    "## Submit the AI Platform hyperparameter tuning job"
   ]
  },
  {
   "cell_type": "markdown",
   "metadata": {},
   "source": [
    "### Create the hyperparameter configuration file. \n",
    "Recall that the training code uses `SGDClassifier`. The training application has been designed to accept two hyperparameters that control `SGDClassifier`:\n",
    "- Max iterations\n",
    "- Alpha\n",
    "\n",
    "The below file configures AI Platform hypertuning to run up to 6 trials on up to three nodes and to choose from two discrete values of `max_iter` and the linear range betwee 0.00001 and 0.001 for `alpha`."
   ]
  },
  {
   "cell_type": "code",
   "execution_count": 15,
   "metadata": {},
   "outputs": [
    {
     "name": "stdout",
     "output_type": "stream",
     "text": [
      "Overwriting training_app/hptuning_config.yaml\n"
     ]
    }
   ],
   "source": [
    "%%writefile {TRAINING_APP_FOLDER}/hptuning_config.yaml\n",
    "\n",
    "trainingInput:\n",
    "  hyperparameters:\n",
    "    goal: MAXIMIZE\n",
    "    maxTrials: 6\n",
    "    maxParallelTrials: 3\n",
    "    hyperparameterMetricTag: accuracy\n",
    "    enableTrialEarlyStopping: TRUE \n",
    "    params:\n",
    "    - parameterName: max_iter\n",
    "      type: DISCRETE\n",
    "      discreteValues: [\n",
    "          200,\n",
    "          500\n",
    "          ]\n",
    "    - parameterName: alpha\n",
    "      type: DOUBLE\n",
    "      minValue:  0.00001\n",
    "      maxValue:  0.001\n",
    "      scaleType: UNIT_LINEAR_SCALE"
   ]
  },
  {
   "cell_type": "markdown",
   "metadata": {},
   "source": [
    "### Start the hyperparameter tuning job.\n",
    "\n",
    "Use the `gcloud` command to start the hyperparameter tuning job."
   ]
  },
  {
   "cell_type": "code",
   "execution_count": 16,
   "metadata": {},
   "outputs": [
    {
     "name": "stdout",
     "output_type": "stream",
     "text": [
      "Job [JOB_20200204_022944] submitted successfully.\n",
      "Your job is still active. You may view the status of your job with the command\n",
      "\n",
      "  $ gcloud ai-platform jobs describe JOB_20200204_022944\n",
      "\n",
      "or continue streaming the logs with the command\n",
      "\n",
      "  $ gcloud ai-platform jobs stream-logs JOB_20200204_022944\n",
      "jobId: JOB_20200204_022944\n",
      "state: QUEUED\n"
     ]
    }
   ],
   "source": [
    "JOB_NAME = \"JOB_{}\".format(time.strftime(\"%Y%m%d_%H%M%S\"))\n",
    "JOB_DIR = \"{}/{}\".format(JOB_DIR_ROOT, JOB_NAME)\n",
    "SCALE_TIER = \"BASIC\"\n",
    "\n",
    "!gcloud ai-platform jobs submit training $JOB_NAME \\\n",
    "--region=$REGION \\\n",
    "--job-dir=$JOB_DIR \\\n",
    "--master-image-uri=$IMAGE_URI \\\n",
    "--scale-tier=$SCALE_TIER \\\n",
    "--config $TRAINING_APP_FOLDER/hptuning_config.yaml \\\n",
    "-- \\\n",
    "--training_dataset_path=$TRAINING_FILE_PATH \\\n",
    "--validation_dataset_path=$VALIDATION_FILE_PATH \\\n",
    "--hptune"
   ]
  },
  {
   "cell_type": "markdown",
   "metadata": {},
   "source": [
    "### Monitor the job.\n",
    "\n",
    "You can monitor the job using GCP console or from within the notebook using `gcloud` commands."
   ]
  },
  {
   "cell_type": "code",
   "execution_count": 17,
   "metadata": {},
   "outputs": [
    {
     "name": "stdout",
     "output_type": "stream",
     "text": [
      "createTime: '2020-02-04T02:29:46Z'\n",
      "etag: nMW7Qju5haI=\n",
      "jobId: JOB_20200204_022944\n",
      "startTime: '2020-02-04T02:29:50Z'\n",
      "state: RUNNING\n",
      "trainingInput:\n",
      "  args:\n",
      "  - --training_dataset_path=gs://workshop-datasets/covertype/training/dataset.csv\n",
      "  - --validation_dataset_path=gs://workshop-datasets/covertype/evaluation/dataset.csv\n",
      "  - --hptune\n",
      "  hyperparameters:\n",
      "    enableTrialEarlyStopping: true\n",
      "    goal: MAXIMIZE\n",
      "    hyperparameterMetricTag: accuracy\n",
      "    maxParallelTrials: 3\n",
      "    maxTrials: 6\n",
      "    params:\n",
      "    - discreteValues:\n",
      "      - 200.0\n",
      "      - 500.0\n",
      "      parameterName: max_iter\n",
      "      type: DISCRETE\n",
      "    - maxValue: 0.001\n",
      "      minValue: 1e-05\n",
      "      parameterName: alpha\n",
      "      scaleType: UNIT_LINEAR_SCALE\n",
      "      type: DOUBLE\n",
      "  jobDir: gs://mlops-env20-artifact-store/jobs/JOB_20200204_022944\n",
      "  masterConfig:\n",
      "    imageUri: gcr.io/mlops-workshop/trainer_image:latest\n",
      "  region: us-central1\n",
      "trainingOutput:\n",
      "  hyperparameterMetricTag: accuracy\n",
      "  isHyperparameterTuningJob: true\n",
      "\n",
      "View job in the Cloud Console at:\n",
      "https://console.cloud.google.com/mlengine/jobs/JOB_20200204_022944?project=mlops-workshop\n",
      "\n",
      "View logs at:\n",
      "https://console.cloud.google.com/logs?resource=ml.googleapis.com%2Fjob_id%2FJOB_20200204_022944&project=mlops-workshop\n"
     ]
    }
   ],
   "source": [
    "!gcloud ai-platform jobs describe $JOB_NAME"
   ]
  },
  {
   "cell_type": "code",
   "execution_count": 18,
   "metadata": {},
   "outputs": [
    {
     "name": "stdout",
     "output_type": "stream",
     "text": [
      "INFO\t2020-02-04 02:29:45 +0000\tservice\t\tValidating job requirements...\n",
      "INFO\t2020-02-04 02:29:46 +0000\tservice\t\tJob creation request has been successfully validated.\n",
      "INFO\t2020-02-04 02:29:46 +0000\tservice\t\tJob JOB_20200204_022944 is queued.\n",
      "INFO\t2020-02-04 02:29:56 +0000\tservice\t1\tWaiting for job to be provisioned.\n",
      "INFO\t2020-02-04 02:29:56 +0000\tservice\t2\tWaiting for job to be provisioned.\n",
      "INFO\t2020-02-04 02:29:56 +0000\tservice\t3\tWaiting for job to be provisioned.\n",
      "INFO\t2020-02-04 02:29:59 +0000\tservice\t3\tWaiting for training program to start.\n",
      "INFO\t2020-02-04 02:29:59 +0000\tservice\t1\tWaiting for training program to start.\n",
      "INFO\t2020-02-04 02:29:59 +0000\tservice\t2\tWaiting for training program to start.\n",
      "INFO\t2020-02-04 02:37:44 +0000\tmaster-replica-0\t2\tStarting training: alpha=0.00012374698042869569, max_iter=200\n",
      "INFO\t2020-02-04 02:37:44 +0000\tmaster-replica-0\t2\tModel accuracy: 0.71268\n",
      "INFO\t2020-02-04 02:41:02 +0000\tservice\t2\tJob completed successfully.\n",
      "INFO\t2020-02-04 02:42:46 +0000\tservice\t4\tWaiting for job to be provisioned.\n",
      "INFO\t2020-02-04 02:42:48 +0000\tservice\t4\tWaiting for training program to start.\n",
      "INFO\t2020-02-04 02:43:56 +0000\tmaster-replica-0\t1\tStarting training: alpha=0.0006187469804286957, max_iter=500\n",
      "INFO\t2020-02-04 02:43:56 +0000\tmaster-replica-0\t1\tModel accuracy: 0.70808\n",
      "INFO\t2020-02-04 02:44:53 +0000\tmaster-replica-0\t3\tStarting training: alpha=0.0008662469804286957, max_iter=500\n",
      "INFO\t2020-02-04 02:44:53 +0000\tmaster-replica-0\t3\tModel accuracy: 0.70608\n",
      "INFO\t2020-02-04 02:48:05 +0000\tservice\t1\tJob completed successfully.\n",
      "INFO\t2020-02-04 02:48:35 +0000\tservice\t3\tJob completed successfully.\n",
      "INFO\t2020-02-04 02:49:09 +0000\tservice\t5\tWaiting for job to be provisioned.\n",
      "INFO\t2020-02-04 02:49:10 +0000\tservice\t6\tWaiting for job to be provisioned.\n",
      "INFO\t2020-02-04 02:49:11 +0000\tservice\t5\tWaiting for training program to start.\n",
      "INFO\t2020-02-04 02:49:12 +0000\tservice\t6\tWaiting for training program to start.\n",
      "INFO\t2020-02-04 02:54:42 +0000\tmaster-replica-0\t4\tStarting training: alpha=0.000982228262424469, max_iter=500\n",
      "INFO\t2020-02-04 02:54:42 +0000\tmaster-replica-0\t4\tModel accuracy: 0.70436\n",
      "INFO\t2020-02-04 02:57:05 +0000\tmaster-replica-0\t6\tStarting training: alpha=9.024414062499999e-05, max_iter=200\n",
      "INFO\t2020-02-04 02:57:05 +0000\tmaster-replica-0\t6\tModel accuracy: 0.7132933333333333\n",
      "INFO\t2020-02-04 02:58:15 +0000\tservice\t4\tJob completed successfully.\n",
      "INFO\t2020-02-04 02:58:21 +0000\tmaster-replica-0\t5\tStarting training: alpha=0.00029058446884155275, max_iter=200\n",
      "INFO\t2020-02-04 02:58:21 +0000\tmaster-replica-0\t5\tModel accuracy: 0.7106933333333333\n",
      "INFO\t2020-02-04 03:00:33 +0000\tservice\t6\tJob completed successfully.\n",
      "INFO\t2020-02-04 03:02:14 +0000\tservice\t5\tJob completed successfully.\n"
     ]
    }
   ],
   "source": [
    "!gcloud ai-platform jobs stream-logs $JOB_NAME"
   ]
  },
  {
   "cell_type": "markdown",
   "metadata": {},
   "source": [
    "### Retrieve HP-tuning results."
   ]
  },
  {
   "cell_type": "markdown",
   "metadata": {},
   "source": [
    "After the job completes you can review the results using GCP Console or programatically by calling the AI Platform Training REST end-point."
   ]
  },
  {
   "cell_type": "code",
   "execution_count": 19,
   "metadata": {},
   "outputs": [
    {
     "data": {
      "text/plain": [
       "{'createTime': '2020-02-04T02:29:46Z',\n",
       " 'endTime': '2020-02-04T03:02:56Z',\n",
       " 'etag': 'gULvrwwaArQ=',\n",
       " 'jobId': 'JOB_20200204_022944',\n",
       " 'startTime': '2020-02-04T02:29:50Z',\n",
       " 'state': 'SUCCEEDED',\n",
       " 'trainingInput': {'args': ['--training_dataset_path=gs://workshop-datasets/covertype/training/dataset.csv',\n",
       "   '--validation_dataset_path=gs://workshop-datasets/covertype/evaluation/dataset.csv',\n",
       "   '--hptune'],\n",
       "  'hyperparameters': {'enableTrialEarlyStopping': True,\n",
       "   'goal': 'MAXIMIZE',\n",
       "   'hyperparameterMetricTag': 'accuracy',\n",
       "   'maxParallelTrials': 3,\n",
       "   'maxTrials': 6,\n",
       "   'params': [{'discreteValues': [200, 500],\n",
       "     'parameterName': 'max_iter',\n",
       "     'type': 'DISCRETE'},\n",
       "    {'maxValue': 0.001,\n",
       "     'minValue': 1e-05,\n",
       "     'parameterName': 'alpha',\n",
       "     'scaleType': 'UNIT_LINEAR_SCALE',\n",
       "     'type': 'DOUBLE'}]},\n",
       "  'jobDir': 'gs://mlops-env20-artifact-store/jobs/JOB_20200204_022944',\n",
       "  'masterConfig': {'imageUri': 'gcr.io/mlops-workshop/trainer_image:latest'},\n",
       "  'region': 'us-central1'},\n",
       " 'trainingOutput': {'completedTrialCount': '6',\n",
       "  'consumedMLUnits': 0.39,\n",
       "  'hyperparameterMetricTag': 'accuracy',\n",
       "  'isHyperparameterTuningJob': True,\n",
       "  'trials': [{'endTime': '2020-02-04T03:00:33Z',\n",
       "    'finalMetric': {'objectiveValue': 0.7132933333333333, 'trainingStep': '1'},\n",
       "    'hyperparameters': {'alpha': '9.0244140624999992e-05', 'max_iter': '200'},\n",
       "    'startTime': '2020-02-04T02:49:10.486348046Z',\n",
       "    'state': 'SUCCEEDED',\n",
       "    'trialId': '6'},\n",
       "   {'endTime': '2020-02-04T02:41:02Z',\n",
       "    'finalMetric': {'objectiveValue': 0.71268, 'trainingStep': '1'},\n",
       "    'hyperparameters': {'alpha': '0.00012374698042869569', 'max_iter': '200'},\n",
       "    'startTime': '2020-02-04T02:29:56.753097137Z',\n",
       "    'state': 'SUCCEEDED',\n",
       "    'trialId': '2'},\n",
       "   {'endTime': '2020-02-04T03:02:14Z',\n",
       "    'finalMetric': {'objectiveValue': 0.7106933333333333, 'trainingStep': '1'},\n",
       "    'hyperparameters': {'alpha': '0.00029058446884155275', 'max_iter': '200'},\n",
       "    'startTime': '2020-02-04T02:49:08.352648542Z',\n",
       "    'state': 'SUCCEEDED',\n",
       "    'trialId': '5'},\n",
       "   {'endTime': '2020-02-04T02:48:05Z',\n",
       "    'finalMetric': {'objectiveValue': 0.70808, 'trainingStep': '1'},\n",
       "    'hyperparameters': {'alpha': '0.00061874698042869568', 'max_iter': '500'},\n",
       "    'startTime': '2020-02-04T02:29:56.752894991Z',\n",
       "    'state': 'SUCCEEDED',\n",
       "    'trialId': '1'},\n",
       "   {'endTime': '2020-02-04T02:48:35Z',\n",
       "    'finalMetric': {'objectiveValue': 0.70608, 'trainingStep': '1'},\n",
       "    'hyperparameters': {'alpha': '0.00086624698042869568', 'max_iter': '500'},\n",
       "    'startTime': '2020-02-04T02:29:56.753225306Z',\n",
       "    'state': 'SUCCEEDED',\n",
       "    'trialId': '3'},\n",
       "   {'endTime': '2020-02-04T02:58:15Z',\n",
       "    'finalMetric': {'objectiveValue': 0.70436, 'trainingStep': '1'},\n",
       "    'hyperparameters': {'alpha': '0.000982228262424469', 'max_iter': '500'},\n",
       "    'startTime': '2020-02-04T02:42:46.313172288Z',\n",
       "    'state': 'SUCCEEDED',\n",
       "    'trialId': '4'}]}}"
      ]
     },
     "execution_count": 19,
     "metadata": {},
     "output_type": "execute_result"
    }
   ],
   "source": [
    "ml = discovery.build('ml', 'v1')\n",
    "\n",
    "job_id = 'projects/{}/jobs/{}'.format(PROJECT_ID, JOB_NAME)\n",
    "request = ml.projects().jobs().get(name=job_id)\n",
    "\n",
    "try:\n",
    "    response = request.execute()\n",
    "except errors.HttpError as err:\n",
    "    print(err)\n",
    "except:\n",
    "    print(\"Unexpected error\")\n",
    "    \n",
    "response"
   ]
  },
  {
   "cell_type": "markdown",
   "metadata": {},
   "source": [
    "The returned run results are sorted by a value of the optimization metric. The best run is the first item on the returned list."
   ]
  },
  {
   "cell_type": "code",
   "execution_count": 21,
   "metadata": {},
   "outputs": [
    {
     "data": {
      "text/plain": [
       "{'endTime': '2020-02-04T03:00:33Z',\n",
       " 'finalMetric': {'objectiveValue': 0.7132933333333333, 'trainingStep': '1'},\n",
       " 'hyperparameters': {'alpha': '9.0244140624999992e-05', 'max_iter': '200'},\n",
       " 'startTime': '2020-02-04T02:49:10.486348046Z',\n",
       " 'state': 'SUCCEEDED',\n",
       " 'trialId': '6'}"
      ]
     },
     "execution_count": 21,
     "metadata": {},
     "output_type": "execute_result"
    }
   ],
   "source": [
    "response['trainingOutput']['trials'][0]"
   ]
  },
  {
   "cell_type": "markdown",
   "metadata": {},
   "source": [
    "## Retrain the model with the best hyperparameters\n",
    "\n",
    "You can now retrain the model using the best hyperparameters and using combined training and validation splits as a training dataset."
   ]
  },
  {
   "cell_type": "markdown",
   "metadata": {},
   "source": [
    "### Configure and run the training job"
   ]
  },
  {
   "cell_type": "code",
   "execution_count": 22,
   "metadata": {},
   "outputs": [],
   "source": [
    "alpha = response['trainingOutput']['trials'][0]['hyperparameters']['alpha']\n",
    "max_iter = response['trainingOutput']['trials'][0]['hyperparameters']['max_iter']"
   ]
  },
  {
   "cell_type": "code",
   "execution_count": 23,
   "metadata": {},
   "outputs": [
    {
     "name": "stdout",
     "output_type": "stream",
     "text": [
      "Job [JOB_20200204_031418] submitted successfully.\n",
      "Your job is still active. You may view the status of your job with the command\n",
      "\n",
      "  $ gcloud ai-platform jobs describe JOB_20200204_031418\n",
      "\n",
      "or continue streaming the logs with the command\n",
      "\n",
      "  $ gcloud ai-platform jobs stream-logs JOB_20200204_031418\n",
      "jobId: JOB_20200204_031418\n",
      "state: QUEUED\n"
     ]
    }
   ],
   "source": [
    "JOB_NAME = \"JOB_{}\".format(time.strftime(\"%Y%m%d_%H%M%S\"))\n",
    "JOB_DIR = \"{}/{}\".format(JOB_DIR_ROOT, JOB_NAME)\n",
    "SCALE_TIER = \"BASIC\"\n",
    "\n",
    "!gcloud ai-platform jobs submit training $JOB_NAME \\\n",
    "--region=$REGION \\\n",
    "--job-dir=$JOB_DIR \\\n",
    "--master-image-uri=$IMAGE_URI \\\n",
    "--scale-tier=$SCALE_TIER \\\n",
    "-- \\\n",
    "--training_dataset_path=$TRAINING_FILE_PATH \\\n",
    "--validation_dataset_path=$VALIDATION_FILE_PATH \\\n",
    "--alpha=$alpha \\\n",
    "--max_iter=$max_iter \\\n",
    "--nohptune"
   ]
  },
  {
   "cell_type": "code",
   "execution_count": 24,
   "metadata": {},
   "outputs": [
    {
     "name": "stdout",
     "output_type": "stream",
     "text": [
      "INFO\t2020-02-04 03:14:19 +0000\tservice\t\tValidating job requirements...\n",
      "INFO\t2020-02-04 03:14:20 +0000\tservice\t\tJob creation request has been successfully validated.\n",
      "INFO\t2020-02-04 03:14:20 +0000\tservice\t\tJob JOB_20200204_031418 is queued.\n",
      "INFO\t2020-02-04 03:14:20 +0000\tservice\t\tWaiting for job to be provisioned.\n",
      "INFO\t2020-02-04 03:14:23 +0000\tservice\t\tWaiting for training program to start.\n",
      "INFO\t2020-02-04 03:23:24 +0000\tmaster-replica-0\t\tCopying file://model.pkl [Content-Type=application/octet-stream]...\n",
      "INFO\t2020-02-04 03:23:25 +0000\tmaster-replica-0\t\t/ [0 files][    0.0 B/  6.1 KiB]                                                \n",
      "INFO\t2020-02-04 03:23:25 +0000\tmaster-replica-0\t\t/ [1 files][  6.1 KiB/  6.1 KiB]                                                \n",
      "INFO\t2020-02-04 03:23:25 +0000\tmaster-replica-0\t\tOperation completed over 1 objects/6.1 KiB.                                      \n",
      "INFO\t2020-02-04 03:23:25 +0000\tmaster-replica-0\t\tStarting training: alpha=9.024414062499999e-05, max_iter=200\n",
      "INFO\t2020-02-04 03:23:25 +0000\tmaster-replica-0\t\tSaved model in: gs://mlops-env20-artifact-store/jobs/JOB_20200204_031418/model.pkl\n"
     ]
    }
   ],
   "source": [
    "!gcloud ai-platform jobs stream-logs $JOB_NAME"
   ]
  },
  {
   "cell_type": "markdown",
   "metadata": {},
   "source": [
    "### Examine the training output\n",
    "\n",
    "The training script saved the trained model as the 'model.pkl' in the `JOB_DIR` folder on GCS."
   ]
  },
  {
   "cell_type": "code",
   "execution_count": 25,
   "metadata": {},
   "outputs": [
    {
     "name": "stdout",
     "output_type": "stream",
     "text": [
      "gs://mlops-env20-artifact-store/jobs/JOB_20200204_031418/model.pkl\n"
     ]
    }
   ],
   "source": [
    "!gsutil ls $JOB_DIR"
   ]
  },
  {
   "cell_type": "markdown",
   "metadata": {},
   "source": [
    "## Deploy the model to AI Platform Prediction"
   ]
  },
  {
   "cell_type": "markdown",
   "metadata": {},
   "source": [
    "### Create a model resource"
   ]
  },
  {
   "cell_type": "code",
   "execution_count": 28,
   "metadata": {},
   "outputs": [
    {
     "name": "stdout",
     "output_type": "stream",
     "text": [
      "Created ml engine model [projects/mlops-workshop/models/forest_cover_classifier].\n"
     ]
    }
   ],
   "source": [
    "model_name = \"forest_cover_classifier\"\n",
    "labels = \"task=classifier,domain=forestry\"\n",
    "\n",
    "!gcloud ai-platform models create  $model_name \\\n",
    "--regions=$REGION \\\n",
    "--labels=$labels"
   ]
  },
  {
   "cell_type": "markdown",
   "metadata": {},
   "source": [
    "### Create a model version"
   ]
  },
  {
   "cell_type": "code",
   "execution_count": 29,
   "metadata": {},
   "outputs": [
    {
     "name": "stdout",
     "output_type": "stream",
     "text": [
      "Creating version (this might take a few minutes)......done.                    \n"
     ]
    }
   ],
   "source": [
    "model_version = 'v01'\n",
    "\n",
    "!gcloud ai-platform versions create $model_version \\\n",
    "--model=$model_name \\\n",
    "--origin=$JOB_DIR \\\n",
    "--runtime-version=1.14 \\\n",
    "--framework=scikit-learn \\\n",
    "--python-version=3.5"
   ]
  },
  {
   "cell_type": "markdown",
   "metadata": {},
   "source": [
    "### Serve predictions\n",
    "#### Prepare the input file with JSON formated instances."
   ]
  },
  {
   "cell_type": "code",
   "execution_count": 30,
   "metadata": {},
   "outputs": [],
   "source": [
    "input_file = 'serving_instances.json'\n",
    "\n",
    "with open(input_file, 'w') as f:\n",
    "    for index, row in X_validation.head().iterrows():\n",
    "        f.write(json.dumps(list(row.values)))\n",
    "        f.write('\\n')"
   ]
  },
  {
   "cell_type": "code",
   "execution_count": 31,
   "metadata": {},
   "outputs": [
    {
     "name": "stdout",
     "output_type": "stream",
     "text": [
      "[3092.0, 163.0, 13.0, 30.0, 5.0, 4886.0, 232.0, 243.0, 139.0, 1456.0, \"Rawah\", \"C7745\"]\n",
      "[2998.0, 9.0, 6.0, 30.0, 0.0, 1819.0, 214.0, 228.0, 152.0, 1550.0, \"Rawah\", \"C7745\"]\n",
      "[2070.0, 37.0, 30.0, 335.0, 221.0, 313.0, 203.0, 160.0, 74.0, 871.0, \"Cache\", \"C2706\"]\n",
      "[2325.0, 28.0, 12.0, 0.0, 0.0, 1260.0, 215.0, 213.0, 133.0, 162.0, \"Cache\", \"C2717\"]\n",
      "[3318.0, 96.0, 12.0, 95.0, -5.0, 1224.0, 239.0, 222.0, 111.0, 1411.0, \"Neota\", \"C8771\"]\n"
     ]
    }
   ],
   "source": [
    "!cat $input_file"
   ]
  },
  {
   "cell_type": "markdown",
   "metadata": {},
   "source": [
    "#### Invoke the model"
   ]
  },
  {
   "cell_type": "code",
   "execution_count": 32,
   "metadata": {},
   "outputs": [
    {
     "name": "stdout",
     "output_type": "stream",
     "text": [
      "[2, 2, 3, 3, 1]\n"
     ]
    }
   ],
   "source": [
    "!gcloud ai-platform predict \\\n",
    "--model $model_name \\\n",
    "--version $model_version \\\n",
    "--json-instances $input_file"
   ]
  },
  {
   "cell_type": "code",
   "execution_count": null,
   "metadata": {},
   "outputs": [],
   "source": []
  }
 ],
 "metadata": {
  "kernelspec": {
   "display_name": "Python 3",
   "language": "python",
   "name": "python3"
  },
  "language_info": {
   "codemirror_mode": {
    "name": "ipython",
    "version": 3
   },
   "file_extension": ".py",
   "mimetype": "text/x-python",
   "name": "python",
   "nbconvert_exporter": "python",
   "pygments_lexer": "ipython3",
   "version": "3.5.6"
  }
 },
 "nbformat": 4,
 "nbformat_minor": 4
}
